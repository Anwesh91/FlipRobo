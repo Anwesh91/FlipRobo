{
 "cells": [
  {
   "cell_type": "markdown",
   "metadata": {},
   "source": [
    "# Quetion - 1"
   ]
  },
  {
   "cell_type": "code",
   "execution_count": 43,
   "metadata": {},
   "outputs": [],
   "source": [
    "# Importing Libraries\n",
    "import pandas as pd\n",
    "from bs4 import BeautifulSoup\n",
    "import requests\n",
    "import selenium\n",
    "from selenium import webdriver\n",
    "import time"
   ]
  },
  {
   "cell_type": "code",
   "execution_count": 44,
   "metadata": {},
   "outputs": [],
   "source": [
    "driver = webdriver.Chrome(r\"E:\\Aniket\\chromedriver_win32\\chromedriver.exe\")"
   ]
  },
  {
   "cell_type": "code",
   "execution_count": 45,
   "metadata": {},
   "outputs": [],
   "source": [
    "url=\"https://www.naukri.com/data-analyst-jobs-in-bangalore?k=data%20analyst&l=bangalore\""
   ]
  },
  {
   "cell_type": "code",
   "execution_count": 46,
   "metadata": {},
   "outputs": [],
   "source": [
    "driver.get(url)"
   ]
  },
  {
   "cell_type": "code",
   "execution_count": 47,
   "metadata": {},
   "outputs": [],
   "source": [
    "job_title=[]\n",
    "job_location=[]\n",
    "company_name=[]\n",
    "experience_required=[]"
   ]
  },
  {
   "cell_type": "code",
   "execution_count": 48,
   "metadata": {},
   "outputs": [
    {
     "data": {
      "text/plain": [
       "[<selenium.webdriver.remote.webelement.WebElement (session=\"10635dd17a69234a716d46aaca198d51\", element=\"8922990d-4eb5-4afc-aa8d-6dbefdd5a93b\")>,\n",
       " <selenium.webdriver.remote.webelement.WebElement (session=\"10635dd17a69234a716d46aaca198d51\", element=\"64b63759-b0e6-4b53-a884-6e5ea5002ef3\")>,\n",
       " <selenium.webdriver.remote.webelement.WebElement (session=\"10635dd17a69234a716d46aaca198d51\", element=\"d64d29c6-5ad8-4404-81bc-47d94087abdb\")>,\n",
       " <selenium.webdriver.remote.webelement.WebElement (session=\"10635dd17a69234a716d46aaca198d51\", element=\"29e02eea-5b90-4b47-9bbb-8d781869323d\")>,\n",
       " <selenium.webdriver.remote.webelement.WebElement (session=\"10635dd17a69234a716d46aaca198d51\", element=\"c850c86b-49b1-4687-a251-4964cf7bc9db\")>,\n",
       " <selenium.webdriver.remote.webelement.WebElement (session=\"10635dd17a69234a716d46aaca198d51\", element=\"f79b1790-5f5e-44a3-9f4a-130f5e5b4280\")>,\n",
       " <selenium.webdriver.remote.webelement.WebElement (session=\"10635dd17a69234a716d46aaca198d51\", element=\"27d44899-feff-4b97-aa84-a3afd22f3cd4\")>,\n",
       " <selenium.webdriver.remote.webelement.WebElement (session=\"10635dd17a69234a716d46aaca198d51\", element=\"4c17c0be-2a4d-47be-94ee-e787f12bf7ed\")>,\n",
       " <selenium.webdriver.remote.webelement.WebElement (session=\"10635dd17a69234a716d46aaca198d51\", element=\"21d1f1cc-0109-48b3-89f5-16dd4d83c2f2\")>,\n",
       " <selenium.webdriver.remote.webelement.WebElement (session=\"10635dd17a69234a716d46aaca198d51\", element=\"1af5f760-cc59-4c76-83b4-84a41ca7d803\")>]"
      ]
     },
     "execution_count": 48,
     "metadata": {},
     "output_type": "execute_result"
    }
   ],
   "source": [
    "title=driver.find_elements_by_xpath(\"//a[@class='title fw500 ellipsis']\")\n",
    "title[0:10]"
   ]
  },
  {
   "cell_type": "code",
   "execution_count": 49,
   "metadata": {},
   "outputs": [
    {
     "data": {
      "text/plain": [
       "['Immediate openings For MIS executive /Data analyst For Bangalore',\n",
       " 'Data Analyst',\n",
       " 'Data Analyst',\n",
       " 'Data Analyst',\n",
       " 'Data Analyst',\n",
       " 'Procurement Data Analyst ( 0.6 To 3 Yrs, Bangalore)',\n",
       " 'Data Analyst',\n",
       " 'Data Analyst',\n",
       " 'Business Analyst / Data Analyst',\n",
       " 'Data Analyst - O2C - Bangalore',\n",
       " 'Business Data Analyst - Database Design/Mining',\n",
       " 'Data Scientist/Data Analyst-immediate',\n",
       " 'Data Analyst - MySQL/PostgreSQL',\n",
       " 'Data Analyst (Telcom domain)',\n",
       " 'ID & A - Data Analyst - Informatica MDM',\n",
       " 'SENIOR DATA ANALYST',\n",
       " 'Data Analyst',\n",
       " 'Data Analyst - Consumer Analytics',\n",
       " 'Data Analyst - Consumer Analytics',\n",
       " 'Sr Data Analyst - Contractual Role | Nike']"
      ]
     },
     "execution_count": 49,
     "metadata": {},
     "output_type": "execute_result"
    }
   ],
   "source": [
    "for i in title:\n",
    "   \n",
    "    Title=i.text\n",
    "    job_title.append(Title)\n",
    "job_title"
   ]
  },
  {
   "cell_type": "code",
   "execution_count": 50,
   "metadata": {},
   "outputs": [
    {
     "data": {
      "text/plain": [
       "[<selenium.webdriver.remote.webelement.WebElement (session=\"10635dd17a69234a716d46aaca198d51\", element=\"39d7f387-3657-4da3-a017-a971b43cd51d\")>,\n",
       " <selenium.webdriver.remote.webelement.WebElement (session=\"10635dd17a69234a716d46aaca198d51\", element=\"7450896c-3528-47db-991a-0267099d5910\")>,\n",
       " <selenium.webdriver.remote.webelement.WebElement (session=\"10635dd17a69234a716d46aaca198d51\", element=\"b52d4067-fd9d-4d62-8ebf-eecce17e1364\")>,\n",
       " <selenium.webdriver.remote.webelement.WebElement (session=\"10635dd17a69234a716d46aaca198d51\", element=\"a76adc36-a7c6-42a6-ba9f-c5011848c94c\")>,\n",
       " <selenium.webdriver.remote.webelement.WebElement (session=\"10635dd17a69234a716d46aaca198d51\", element=\"9e92f542-25ba-41c3-9e4f-93b02fead13f\")>,\n",
       " <selenium.webdriver.remote.webelement.WebElement (session=\"10635dd17a69234a716d46aaca198d51\", element=\"1772f023-f57b-46bd-864c-7e0faaa2cb45\")>,\n",
       " <selenium.webdriver.remote.webelement.WebElement (session=\"10635dd17a69234a716d46aaca198d51\", element=\"22d05bac-b092-4f6d-a552-6338dbac7527\")>,\n",
       " <selenium.webdriver.remote.webelement.WebElement (session=\"10635dd17a69234a716d46aaca198d51\", element=\"5d6e5c55-aa38-4eb8-b640-fc489fe57f95\")>,\n",
       " <selenium.webdriver.remote.webelement.WebElement (session=\"10635dd17a69234a716d46aaca198d51\", element=\"8df4bf38-5796-4b59-801d-cb4414b04fad\")>,\n",
       " <selenium.webdriver.remote.webelement.WebElement (session=\"10635dd17a69234a716d46aaca198d51\", element=\"c3a89ce0-81ba-4c40-941d-7b1a84b33506\")>,\n",
       " <selenium.webdriver.remote.webelement.WebElement (session=\"10635dd17a69234a716d46aaca198d51\", element=\"c608f2d6-00d5-4ece-b2ac-6eaf46ec08b7\")>,\n",
       " <selenium.webdriver.remote.webelement.WebElement (session=\"10635dd17a69234a716d46aaca198d51\", element=\"9525d4dd-e207-44ba-8912-6572adedc700\")>,\n",
       " <selenium.webdriver.remote.webelement.WebElement (session=\"10635dd17a69234a716d46aaca198d51\", element=\"01ca9f10-e06d-45c4-b03f-0ccf31eaff52\")>,\n",
       " <selenium.webdriver.remote.webelement.WebElement (session=\"10635dd17a69234a716d46aaca198d51\", element=\"154b682e-10e4-48e0-8252-8e443a6c5b95\")>,\n",
       " <selenium.webdriver.remote.webelement.WebElement (session=\"10635dd17a69234a716d46aaca198d51\", element=\"31b442d8-9da2-40cf-b73c-9560c8fa2ac7\")>,\n",
       " <selenium.webdriver.remote.webelement.WebElement (session=\"10635dd17a69234a716d46aaca198d51\", element=\"b01c6ebd-e148-4775-b832-578a71e30885\")>,\n",
       " <selenium.webdriver.remote.webelement.WebElement (session=\"10635dd17a69234a716d46aaca198d51\", element=\"488c2a7a-d88c-4712-a3a1-290add40c908\")>,\n",
       " <selenium.webdriver.remote.webelement.WebElement (session=\"10635dd17a69234a716d46aaca198d51\", element=\"659bb377-c374-470a-9b21-e4759d5dbdcd\")>,\n",
       " <selenium.webdriver.remote.webelement.WebElement (session=\"10635dd17a69234a716d46aaca198d51\", element=\"0c6e8c58-9e0d-4135-81a7-458107e23d7f\")>,\n",
       " <selenium.webdriver.remote.webelement.WebElement (session=\"10635dd17a69234a716d46aaca198d51\", element=\"5d6ebb0e-7794-4315-83a2-0d2edd5e5366\")>]"
      ]
     },
     "execution_count": 50,
     "metadata": {},
     "output_type": "execute_result"
    }
   ],
   "source": [
    "location=driver.find_elements_by_xpath(\"//li[@class='fleft grey-text br2 placeHolderLi location']\")\n",
    "location"
   ]
  },
  {
   "cell_type": "code",
   "execution_count": 51,
   "metadata": {},
   "outputs": [
    {
     "data": {
      "text/plain": [
       "['Bengaluru',\n",
       " 'Bengaluru',\n",
       " 'Mumbai, Bengaluru, Hyderabad',\n",
       " 'Bengaluru',\n",
       " 'Bengaluru',\n",
       " 'Bengaluru(Koramangala)',\n",
       " 'Bengaluru',\n",
       " 'Bengaluru, Kolkata',\n",
       " 'Bengaluru',\n",
       " 'Bengaluru',\n",
       " 'Bengaluru',\n",
       " 'Chennai, Pune, Bengaluru, Hyderabad',\n",
       " 'Pune, Mumbai, Bengaluru, Hyderabad, Noida, Jaipur',\n",
       " 'Bengaluru',\n",
       " 'Bengaluru',\n",
       " 'Bengaluru',\n",
       " 'Bengaluru',\n",
       " 'Bengaluru',\n",
       " 'Bengaluru',\n",
       " 'Bengaluru']"
      ]
     },
     "execution_count": 51,
     "metadata": {},
     "output_type": "execute_result"
    }
   ],
   "source": [
    "for i in location:\n",
    "   \n",
    "    Location=i.text\n",
    "    job_location.append(Location)\n",
    "job_location"
   ]
  },
  {
   "cell_type": "code",
   "execution_count": 52,
   "metadata": {},
   "outputs": [
    {
     "data": {
      "text/plain": [
       "[<selenium.webdriver.remote.webelement.WebElement (session=\"10635dd17a69234a716d46aaca198d51\", element=\"99dad47e-6dc4-4c49-978c-f268ce766e65\")>,\n",
       " <selenium.webdriver.remote.webelement.WebElement (session=\"10635dd17a69234a716d46aaca198d51\", element=\"474c29e0-236a-4f14-a945-c75d336a8659\")>,\n",
       " <selenium.webdriver.remote.webelement.WebElement (session=\"10635dd17a69234a716d46aaca198d51\", element=\"9b176278-cce4-4a5b-95cc-0a9870e175b8\")>,\n",
       " <selenium.webdriver.remote.webelement.WebElement (session=\"10635dd17a69234a716d46aaca198d51\", element=\"5ebe5e53-8682-4d09-a643-ca0622a0315b\")>,\n",
       " <selenium.webdriver.remote.webelement.WebElement (session=\"10635dd17a69234a716d46aaca198d51\", element=\"5228271b-4fbb-43e7-b8be-0441db0b2606\")>,\n",
       " <selenium.webdriver.remote.webelement.WebElement (session=\"10635dd17a69234a716d46aaca198d51\", element=\"af4922dc-608d-4483-a8c9-f84c4bec6c32\")>,\n",
       " <selenium.webdriver.remote.webelement.WebElement (session=\"10635dd17a69234a716d46aaca198d51\", element=\"6c5b27e0-7975-4c2b-8a22-7175b10ec91b\")>,\n",
       " <selenium.webdriver.remote.webelement.WebElement (session=\"10635dd17a69234a716d46aaca198d51\", element=\"5e063ff4-102d-41a9-8eb9-dec27293d596\")>,\n",
       " <selenium.webdriver.remote.webelement.WebElement (session=\"10635dd17a69234a716d46aaca198d51\", element=\"fe93f38b-3457-47a7-a6e5-28affebf398c\")>,\n",
       " <selenium.webdriver.remote.webelement.WebElement (session=\"10635dd17a69234a716d46aaca198d51\", element=\"6b7d3c78-cea3-4808-bff7-b1bedb13098d\")>,\n",
       " <selenium.webdriver.remote.webelement.WebElement (session=\"10635dd17a69234a716d46aaca198d51\", element=\"bccd7ea2-5c1b-47f6-81fc-8219fc0e8d57\")>,\n",
       " <selenium.webdriver.remote.webelement.WebElement (session=\"10635dd17a69234a716d46aaca198d51\", element=\"6fc046dd-02b2-4840-b658-f4d5b971b0ca\")>,\n",
       " <selenium.webdriver.remote.webelement.WebElement (session=\"10635dd17a69234a716d46aaca198d51\", element=\"d714532f-bdf8-441e-9113-414e0fd6b814\")>,\n",
       " <selenium.webdriver.remote.webelement.WebElement (session=\"10635dd17a69234a716d46aaca198d51\", element=\"d710524b-1507-4eb0-ae18-54cd07933c45\")>,\n",
       " <selenium.webdriver.remote.webelement.WebElement (session=\"10635dd17a69234a716d46aaca198d51\", element=\"5d278899-3e98-4b5c-9070-e8421df8e0e3\")>,\n",
       " <selenium.webdriver.remote.webelement.WebElement (session=\"10635dd17a69234a716d46aaca198d51\", element=\"07e63650-8841-4928-87be-f53b4400ac59\")>,\n",
       " <selenium.webdriver.remote.webelement.WebElement (session=\"10635dd17a69234a716d46aaca198d51\", element=\"28bc832a-8b48-4fbf-a4d8-499a2927ce5e\")>,\n",
       " <selenium.webdriver.remote.webelement.WebElement (session=\"10635dd17a69234a716d46aaca198d51\", element=\"2a939085-fc8e-4143-9a9f-bc7bebc374fc\")>,\n",
       " <selenium.webdriver.remote.webelement.WebElement (session=\"10635dd17a69234a716d46aaca198d51\", element=\"75987d43-fd60-4587-8adf-efa4ec424493\")>,\n",
       " <selenium.webdriver.remote.webelement.WebElement (session=\"10635dd17a69234a716d46aaca198d51\", element=\"2963fa51-5872-4fd0-a2ed-de53ef2938c2\")>]"
      ]
     },
     "execution_count": 52,
     "metadata": {},
     "output_type": "execute_result"
    }
   ],
   "source": [
    "company=driver.find_elements_by_xpath(\"//a[@class='subTitle ellipsis fleft']\")\n",
    "company"
   ]
  },
  {
   "cell_type": "code",
   "execution_count": 53,
   "metadata": {},
   "outputs": [
    {
     "data": {
      "text/plain": [
       "['RANDSTAD INDIA PVT LTD',\n",
       " 'Applied Materials',\n",
       " 'Cognizant Technology Solutions India Pvt Ltd',\n",
       " 'St. John’s Research Institute',\n",
       " 'Siemens Limited',\n",
       " 'Sunstream Global Technologies LLP',\n",
       " 'GlaxoSmithKline Pharmaceuticals Limited',\n",
       " 'Cognizant Technology Solutions India Pvt Ltd',\n",
       " 'Schneider Electric India Pvt. Ltd.',\n",
       " 'RANDSTAD INDIA PVT LTD',\n",
       " 'AugmatrixGo',\n",
       " 'CAIA-Center For Artificial Intelligence & Advanced Analytics',\n",
       " 'Astegic',\n",
       " 'Oracle India Pvt. Ltd.',\n",
       " 'Shell India Markets Private Limited',\n",
       " 'McAfee Software (India) Pvt. Ltd',\n",
       " 'Nuance Communications',\n",
       " 'Eli Lilly Services India Private Limited',\n",
       " 'Eli Lilly Services India Private Limited',\n",
       " 'ANSR GLOBAL CORPORATION PRIVATE LIMITED']"
      ]
     },
     "execution_count": 53,
     "metadata": {},
     "output_type": "execute_result"
    }
   ],
   "source": [
    "for i in company:\n",
    "   \n",
    "    Company=i.text\n",
    "    company_name.append(Company)\n",
    "company_name"
   ]
  },
  {
   "cell_type": "code",
   "execution_count": 54,
   "metadata": {},
   "outputs": [
    {
     "data": {
      "text/plain": [
       "[<selenium.webdriver.remote.webelement.WebElement (session=\"10635dd17a69234a716d46aaca198d51\", element=\"3bf4be06-8cee-4753-9b3e-29849986f465\")>,\n",
       " <selenium.webdriver.remote.webelement.WebElement (session=\"10635dd17a69234a716d46aaca198d51\", element=\"7f82432d-bb6b-4651-831c-1dad9c2ad64a\")>,\n",
       " <selenium.webdriver.remote.webelement.WebElement (session=\"10635dd17a69234a716d46aaca198d51\", element=\"edac6248-c450-464a-8e43-99271c1c22de\")>,\n",
       " <selenium.webdriver.remote.webelement.WebElement (session=\"10635dd17a69234a716d46aaca198d51\", element=\"4cc110a2-1ee5-4c6c-874f-387dc279b8d9\")>,\n",
       " <selenium.webdriver.remote.webelement.WebElement (session=\"10635dd17a69234a716d46aaca198d51\", element=\"8f79564c-c95c-4026-a798-cfe74364c351\")>,\n",
       " <selenium.webdriver.remote.webelement.WebElement (session=\"10635dd17a69234a716d46aaca198d51\", element=\"780ac8ac-93e1-4455-8c7d-9e81cbb34165\")>,\n",
       " <selenium.webdriver.remote.webelement.WebElement (session=\"10635dd17a69234a716d46aaca198d51\", element=\"b4f2b5fc-4174-460e-976f-7ccd301f47f5\")>,\n",
       " <selenium.webdriver.remote.webelement.WebElement (session=\"10635dd17a69234a716d46aaca198d51\", element=\"04a6dd2c-b501-4a55-8f71-ce41b1ebbb63\")>,\n",
       " <selenium.webdriver.remote.webelement.WebElement (session=\"10635dd17a69234a716d46aaca198d51\", element=\"bef48829-3461-4584-8249-ece43f95d188\")>,\n",
       " <selenium.webdriver.remote.webelement.WebElement (session=\"10635dd17a69234a716d46aaca198d51\", element=\"4d9b0ca4-2616-4213-a1db-91c931a82b4c\")>,\n",
       " <selenium.webdriver.remote.webelement.WebElement (session=\"10635dd17a69234a716d46aaca198d51\", element=\"0934a60e-edf1-43cb-9780-d43a82c55b43\")>,\n",
       " <selenium.webdriver.remote.webelement.WebElement (session=\"10635dd17a69234a716d46aaca198d51\", element=\"58747214-4d17-48c6-8ebc-48095f9454e0\")>,\n",
       " <selenium.webdriver.remote.webelement.WebElement (session=\"10635dd17a69234a716d46aaca198d51\", element=\"3301d18e-9f69-4a9e-86aa-790ef6391f4c\")>,\n",
       " <selenium.webdriver.remote.webelement.WebElement (session=\"10635dd17a69234a716d46aaca198d51\", element=\"899de8d2-26ef-4062-8961-8d6a25254253\")>,\n",
       " <selenium.webdriver.remote.webelement.WebElement (session=\"10635dd17a69234a716d46aaca198d51\", element=\"b53015c2-b131-4a3b-97e5-f97f6e352127\")>,\n",
       " <selenium.webdriver.remote.webelement.WebElement (session=\"10635dd17a69234a716d46aaca198d51\", element=\"ee2f596e-4d2e-4403-a2a9-bed496c9ea5a\")>,\n",
       " <selenium.webdriver.remote.webelement.WebElement (session=\"10635dd17a69234a716d46aaca198d51\", element=\"16c8ceab-4160-4008-a3c2-5fc317801a8a\")>,\n",
       " <selenium.webdriver.remote.webelement.WebElement (session=\"10635dd17a69234a716d46aaca198d51\", element=\"5a0b7d6d-418e-42bd-8d13-def50c6efd08\")>,\n",
       " <selenium.webdriver.remote.webelement.WebElement (session=\"10635dd17a69234a716d46aaca198d51\", element=\"b0751a73-582f-4138-8636-2f92113c3067\")>,\n",
       " <selenium.webdriver.remote.webelement.WebElement (session=\"10635dd17a69234a716d46aaca198d51\", element=\"d6083e38-a5ac-45d8-8f45-def4e2d3a84b\")>]"
      ]
     },
     "execution_count": 54,
     "metadata": {},
     "output_type": "execute_result"
    }
   ],
   "source": [
    "experience=driver.find_elements_by_xpath(\"//li[@class='fleft grey-text br2 placeHolderLi experience']\")\n",
    "experience"
   ]
  },
  {
   "cell_type": "code",
   "execution_count": 55,
   "metadata": {},
   "outputs": [
    {
     "data": {
      "text/plain": [
       "['3-8 Yrs',\n",
       " '6-11 Yrs',\n",
       " '2-3 Yrs',\n",
       " '0-4 Yrs',\n",
       " '0-3 Yrs',\n",
       " '0-3 Yrs',\n",
       " '2-7 Yrs',\n",
       " '3-4 Yrs',\n",
       " '2-5 Yrs',\n",
       " '2-4 Yrs',\n",
       " '2-5 Yrs',\n",
       " '0-3 Yrs',\n",
       " '5-10 Yrs',\n",
       " '5-10 Yrs',\n",
       " '6-9 Yrs',\n",
       " '7-12 Yrs',\n",
       " '1-3 Yrs',\n",
       " '2-4 Yrs',\n",
       " '2-4 Yrs',\n",
       " '5-8 Yrs']"
      ]
     },
     "execution_count": 55,
     "metadata": {},
     "output_type": "execute_result"
    }
   ],
   "source": [
    "for i in experience:\n",
    "   \n",
    "    Experience=i.text\n",
    "    experience_required.append(Experience)\n",
    "experience_required"
   ]
  },
  {
   "cell_type": "code",
   "execution_count": 56,
   "metadata": {},
   "outputs": [
    {
     "data": {
      "text/html": [
       "<div>\n",
       "<style scoped>\n",
       "    .dataframe tbody tr th:only-of-type {\n",
       "        vertical-align: middle;\n",
       "    }\n",
       "\n",
       "    .dataframe tbody tr th {\n",
       "        vertical-align: top;\n",
       "    }\n",
       "\n",
       "    .dataframe thead th {\n",
       "        text-align: right;\n",
       "    }\n",
       "</style>\n",
       "<table border=\"1\" class=\"dataframe\">\n",
       "  <thead>\n",
       "    <tr style=\"text-align: right;\">\n",
       "      <th></th>\n",
       "      <th>Job Title</th>\n",
       "      <th>Location</th>\n",
       "      <th>Company</th>\n",
       "      <th>Experience</th>\n",
       "    </tr>\n",
       "  </thead>\n",
       "  <tbody>\n",
       "    <tr>\n",
       "      <th>0</th>\n",
       "      <td>Immediate openings For MIS executive /Data ana...</td>\n",
       "      <td>Bengaluru</td>\n",
       "      <td>RANDSTAD INDIA PVT LTD</td>\n",
       "      <td>3-8 Yrs</td>\n",
       "    </tr>\n",
       "    <tr>\n",
       "      <th>1</th>\n",
       "      <td>Data Analyst</td>\n",
       "      <td>Bengaluru</td>\n",
       "      <td>Applied Materials</td>\n",
       "      <td>6-11 Yrs</td>\n",
       "    </tr>\n",
       "    <tr>\n",
       "      <th>2</th>\n",
       "      <td>Data Analyst</td>\n",
       "      <td>Mumbai, Bengaluru, Hyderabad</td>\n",
       "      <td>Cognizant Technology Solutions India Pvt Ltd</td>\n",
       "      <td>2-3 Yrs</td>\n",
       "    </tr>\n",
       "    <tr>\n",
       "      <th>3</th>\n",
       "      <td>Data Analyst</td>\n",
       "      <td>Bengaluru</td>\n",
       "      <td>St. John’s Research Institute</td>\n",
       "      <td>0-4 Yrs</td>\n",
       "    </tr>\n",
       "    <tr>\n",
       "      <th>4</th>\n",
       "      <td>Data Analyst</td>\n",
       "      <td>Bengaluru</td>\n",
       "      <td>Siemens Limited</td>\n",
       "      <td>0-3 Yrs</td>\n",
       "    </tr>\n",
       "    <tr>\n",
       "      <th>5</th>\n",
       "      <td>Procurement Data Analyst ( 0.6 To 3 Yrs, Banga...</td>\n",
       "      <td>Bengaluru(Koramangala)</td>\n",
       "      <td>Sunstream Global Technologies LLP</td>\n",
       "      <td>0-3 Yrs</td>\n",
       "    </tr>\n",
       "    <tr>\n",
       "      <th>6</th>\n",
       "      <td>Data Analyst</td>\n",
       "      <td>Bengaluru</td>\n",
       "      <td>GlaxoSmithKline Pharmaceuticals Limited</td>\n",
       "      <td>2-7 Yrs</td>\n",
       "    </tr>\n",
       "    <tr>\n",
       "      <th>7</th>\n",
       "      <td>Data Analyst</td>\n",
       "      <td>Bengaluru, Kolkata</td>\n",
       "      <td>Cognizant Technology Solutions India Pvt Ltd</td>\n",
       "      <td>3-4 Yrs</td>\n",
       "    </tr>\n",
       "    <tr>\n",
       "      <th>8</th>\n",
       "      <td>Business Analyst / Data Analyst</td>\n",
       "      <td>Bengaluru</td>\n",
       "      <td>Schneider Electric India Pvt. Ltd.</td>\n",
       "      <td>2-5 Yrs</td>\n",
       "    </tr>\n",
       "    <tr>\n",
       "      <th>9</th>\n",
       "      <td>Data Analyst - O2C - Bangalore</td>\n",
       "      <td>Bengaluru</td>\n",
       "      <td>RANDSTAD INDIA PVT LTD</td>\n",
       "      <td>2-4 Yrs</td>\n",
       "    </tr>\n",
       "  </tbody>\n",
       "</table>\n",
       "</div>"
      ],
      "text/plain": [
       "                                           Job Title  \\\n",
       "0  Immediate openings For MIS executive /Data ana...   \n",
       "1                                       Data Analyst   \n",
       "2                                       Data Analyst   \n",
       "3                                       Data Analyst   \n",
       "4                                       Data Analyst   \n",
       "5  Procurement Data Analyst ( 0.6 To 3 Yrs, Banga...   \n",
       "6                                       Data Analyst   \n",
       "7                                       Data Analyst   \n",
       "8                    Business Analyst / Data Analyst   \n",
       "9                     Data Analyst - O2C - Bangalore   \n",
       "\n",
       "                       Location                                       Company  \\\n",
       "0                     Bengaluru                        RANDSTAD INDIA PVT LTD   \n",
       "1                     Bengaluru                             Applied Materials   \n",
       "2  Mumbai, Bengaluru, Hyderabad  Cognizant Technology Solutions India Pvt Ltd   \n",
       "3                     Bengaluru                 St. John’s Research Institute   \n",
       "4                     Bengaluru                               Siemens Limited   \n",
       "5        Bengaluru(Koramangala)             Sunstream Global Technologies LLP   \n",
       "6                     Bengaluru       GlaxoSmithKline Pharmaceuticals Limited   \n",
       "7            Bengaluru, Kolkata  Cognizant Technology Solutions India Pvt Ltd   \n",
       "8                     Bengaluru            Schneider Electric India Pvt. Ltd.   \n",
       "9                     Bengaluru                        RANDSTAD INDIA PVT LTD   \n",
       "\n",
       "  Experience  \n",
       "0    3-8 Yrs  \n",
       "1   6-11 Yrs  \n",
       "2    2-3 Yrs  \n",
       "3    0-4 Yrs  \n",
       "4    0-3 Yrs  \n",
       "5    0-3 Yrs  \n",
       "6    2-7 Yrs  \n",
       "7    3-4 Yrs  \n",
       "8    2-5 Yrs  \n",
       "9    2-4 Yrs  "
      ]
     },
     "execution_count": 56,
     "metadata": {},
     "output_type": "execute_result"
    }
   ],
   "source": [
    "Naukri_Job=pd.DataFrame([])\n",
    "Naukri_Job['Job Title']=job_title[0:10]\n",
    "Naukri_Job['Location']=job_location[0:10]\n",
    "Naukri_Job['Company']=company_name[0:10]\n",
    "Naukri_Job['Experience']=experience_required[0:10]\n",
    "Naukri_Job"
   ]
  },
  {
   "cell_type": "markdown",
   "metadata": {},
   "source": [
    "# Quetion - 2"
   ]
  },
  {
   "cell_type": "code",
   "execution_count": 57,
   "metadata": {},
   "outputs": [],
   "source": [
    "url_1=\"https://www.naukri.com/data-scientist-jobs-in-bangalore?k=data%20scientist&l=bangalore\""
   ]
  },
  {
   "cell_type": "code",
   "execution_count": 58,
   "metadata": {},
   "outputs": [],
   "source": [
    "driver.get(url_1)"
   ]
  },
  {
   "cell_type": "code",
   "execution_count": 59,
   "metadata": {},
   "outputs": [],
   "source": [
    "Job_Title=[]\n",
    "Job_Location=[]\n",
    "Company_Name=[]\n",
    "Job_Description=[]"
   ]
  },
  {
   "cell_type": "code",
   "execution_count": 60,
   "metadata": {},
   "outputs": [
    {
     "data": {
      "text/plain": [
       "[<selenium.webdriver.remote.webelement.WebElement (session=\"10635dd17a69234a716d46aaca198d51\", element=\"6a2468fa-999a-4150-9219-8459a107916e\")>,\n",
       " <selenium.webdriver.remote.webelement.WebElement (session=\"10635dd17a69234a716d46aaca198d51\", element=\"d0f91df2-952a-4609-b214-36245d58bd80\")>,\n",
       " <selenium.webdriver.remote.webelement.WebElement (session=\"10635dd17a69234a716d46aaca198d51\", element=\"34fae160-7532-42d0-aa6b-732ad6d8df92\")>,\n",
       " <selenium.webdriver.remote.webelement.WebElement (session=\"10635dd17a69234a716d46aaca198d51\", element=\"bad7609e-1bba-43ec-b219-15d94ded2c16\")>,\n",
       " <selenium.webdriver.remote.webelement.WebElement (session=\"10635dd17a69234a716d46aaca198d51\", element=\"ce94f667-cf16-46d1-b001-c605fa9ca59f\")>,\n",
       " <selenium.webdriver.remote.webelement.WebElement (session=\"10635dd17a69234a716d46aaca198d51\", element=\"b0d7f72a-a6c8-463b-a558-4056a54104c5\")>,\n",
       " <selenium.webdriver.remote.webelement.WebElement (session=\"10635dd17a69234a716d46aaca198d51\", element=\"83febe93-ae0e-4efc-ba3c-28e9ba10fe40\")>,\n",
       " <selenium.webdriver.remote.webelement.WebElement (session=\"10635dd17a69234a716d46aaca198d51\", element=\"43ccdbf4-2c14-4024-9e7f-0bddc7ca35f2\")>,\n",
       " <selenium.webdriver.remote.webelement.WebElement (session=\"10635dd17a69234a716d46aaca198d51\", element=\"88e92338-9f20-4027-85f5-2665f798f023\")>,\n",
       " <selenium.webdriver.remote.webelement.WebElement (session=\"10635dd17a69234a716d46aaca198d51\", element=\"0f090355-3bda-41b4-b810-77ec46398a2f\")>]"
      ]
     },
     "execution_count": 60,
     "metadata": {},
     "output_type": "execute_result"
    }
   ],
   "source": [
    "t=driver.find_elements_by_xpath(\"//a[@class='title fw500 ellipsis']\")\n",
    "t[0:10]"
   ]
  },
  {
   "cell_type": "code",
   "execution_count": 61,
   "metadata": {},
   "outputs": [
    {
     "data": {
      "text/plain": [
       "['Data Scientist/Data Analyst-immediate',\n",
       " 'HCL hiring Data scientist with exp in machine learning &SQL-Bangalore!',\n",
       " 'Data Scientist -Machine Learning',\n",
       " 'Data Scientist - Machine Learning',\n",
       " 'Software Developer - Data Scientist / NLP / Machine Learning',\n",
       " 'Principal Data Scientist - Machine/Deep Learning - NLP/Tensorflow',\n",
       " 'Data Scientist - Machine Learning - Remote Working',\n",
       " 'Data Scientist',\n",
       " 'Lead Data Scientist - Complete Remote Work',\n",
       " 'Data Scientist',\n",
       " 'Data Scientist (Healthcare/Pharma Domain preferred)',\n",
       " 'Data Scientist',\n",
       " 'Data Scientist',\n",
       " 'Tech Mahindra hiring For Data Scientist- Bangalore',\n",
       " 'Senior Data Scientist',\n",
       " 'Lead Data Scientist',\n",
       " 'Data Scientist',\n",
       " 'Lead Data Scientist - Bangalore /Banking & Financial Domain is must',\n",
       " 'Data Scientist (machine Learning /AI)',\n",
       " 'Senior / Lead Data Scientist']"
      ]
     },
     "execution_count": 61,
     "metadata": {},
     "output_type": "execute_result"
    }
   ],
   "source": [
    "for i in t:\n",
    "   \n",
    "    T=i.text\n",
    "    Job_Title.append(T)\n",
    "Job_Title"
   ]
  },
  {
   "cell_type": "code",
   "execution_count": 62,
   "metadata": {},
   "outputs": [
    {
     "data": {
      "text/plain": [
       "[<selenium.webdriver.remote.webelement.WebElement (session=\"10635dd17a69234a716d46aaca198d51\", element=\"313d7433-464b-4e94-a5ad-4952909f9024\")>,\n",
       " <selenium.webdriver.remote.webelement.WebElement (session=\"10635dd17a69234a716d46aaca198d51\", element=\"49da7000-2cb9-4987-a894-6c272d981573\")>,\n",
       " <selenium.webdriver.remote.webelement.WebElement (session=\"10635dd17a69234a716d46aaca198d51\", element=\"d5e2f5ae-dcff-415f-86de-08d70f17803f\")>,\n",
       " <selenium.webdriver.remote.webelement.WebElement (session=\"10635dd17a69234a716d46aaca198d51\", element=\"4ad401ab-1343-4825-b54e-5002b05e3bb1\")>,\n",
       " <selenium.webdriver.remote.webelement.WebElement (session=\"10635dd17a69234a716d46aaca198d51\", element=\"a10080b2-68f3-4ca2-a7c1-bb4d7f3cc748\")>,\n",
       " <selenium.webdriver.remote.webelement.WebElement (session=\"10635dd17a69234a716d46aaca198d51\", element=\"bd837c5a-dc62-49a9-8e6b-09b75434c71b\")>,\n",
       " <selenium.webdriver.remote.webelement.WebElement (session=\"10635dd17a69234a716d46aaca198d51\", element=\"a083b495-8174-48ce-bf4c-43a0de76b980\")>,\n",
       " <selenium.webdriver.remote.webelement.WebElement (session=\"10635dd17a69234a716d46aaca198d51\", element=\"effac267-671b-44ad-bb23-a61712630d45\")>,\n",
       " <selenium.webdriver.remote.webelement.WebElement (session=\"10635dd17a69234a716d46aaca198d51\", element=\"e660fb82-149f-49e0-995a-bd82a9c2e553\")>,\n",
       " <selenium.webdriver.remote.webelement.WebElement (session=\"10635dd17a69234a716d46aaca198d51\", element=\"c19f318d-6cdc-460f-aefc-5749acb6d9c0\")>,\n",
       " <selenium.webdriver.remote.webelement.WebElement (session=\"10635dd17a69234a716d46aaca198d51\", element=\"b442519d-74df-42a4-9859-ecf6c18d8f91\")>,\n",
       " <selenium.webdriver.remote.webelement.WebElement (session=\"10635dd17a69234a716d46aaca198d51\", element=\"f33a592f-04fc-4949-9eed-760588a98338\")>,\n",
       " <selenium.webdriver.remote.webelement.WebElement (session=\"10635dd17a69234a716d46aaca198d51\", element=\"f946196e-f5b1-4941-a521-d81edce99e1f\")>,\n",
       " <selenium.webdriver.remote.webelement.WebElement (session=\"10635dd17a69234a716d46aaca198d51\", element=\"9207c0c9-43d9-4524-9b05-a2f9cd32e426\")>,\n",
       " <selenium.webdriver.remote.webelement.WebElement (session=\"10635dd17a69234a716d46aaca198d51\", element=\"aca08587-bbbb-428e-9b04-da798691a08d\")>,\n",
       " <selenium.webdriver.remote.webelement.WebElement (session=\"10635dd17a69234a716d46aaca198d51\", element=\"769ab844-04f2-40be-9e68-b190441082c7\")>,\n",
       " <selenium.webdriver.remote.webelement.WebElement (session=\"10635dd17a69234a716d46aaca198d51\", element=\"c72f3cef-d857-4895-be29-f2aad61c7730\")>,\n",
       " <selenium.webdriver.remote.webelement.WebElement (session=\"10635dd17a69234a716d46aaca198d51\", element=\"58c149ab-6041-4420-ad3a-cfc66927a137\")>,\n",
       " <selenium.webdriver.remote.webelement.WebElement (session=\"10635dd17a69234a716d46aaca198d51\", element=\"f80c0fdc-0573-412b-9897-fd2ecaa80f2f\")>,\n",
       " <selenium.webdriver.remote.webelement.WebElement (session=\"10635dd17a69234a716d46aaca198d51\", element=\"576315a3-c063-457d-963a-c6181bd702df\")>]"
      ]
     },
     "execution_count": 62,
     "metadata": {},
     "output_type": "execute_result"
    }
   ],
   "source": [
    "l=driver.find_elements_by_xpath(\"//li[@class='fleft grey-text br2 placeHolderLi location']\")\n",
    "l"
   ]
  },
  {
   "cell_type": "code",
   "execution_count": 63,
   "metadata": {},
   "outputs": [
    {
     "data": {
      "text/plain": [
       "['Chennai, Pune, Bengaluru, Hyderabad',\n",
       " 'Bengaluru',\n",
       " 'Bengaluru',\n",
       " 'Bengaluru',\n",
       " 'Bengaluru / Bangalore',\n",
       " 'Bengaluru',\n",
       " 'Delhi NCR, Bengaluru, Anywhere in India',\n",
       " 'Chennai, Bhubaneshwar, Pune, Delhi NCR, Mumbai, Bengaluru, Greater Noida, Hyderabad, Kolkata',\n",
       " 'Chennai, Pune, Delhi NCR, Mumbai, Bengaluru, Hyderabad',\n",
       " 'Bengaluru',\n",
       " 'Bengaluru',\n",
       " 'Bengaluru',\n",
       " 'Bengaluru',\n",
       " 'Bengaluru',\n",
       " 'Mumbai, Bengaluru',\n",
       " 'Chennai, Mumbai, Bengaluru, Hyderabad',\n",
       " 'Bengaluru',\n",
       " 'Bengaluru',\n",
       " 'Delhi NCR, Mumbai, Bengaluru',\n",
       " 'Chennai, Pune, Bengaluru']"
      ]
     },
     "execution_count": 63,
     "metadata": {},
     "output_type": "execute_result"
    }
   ],
   "source": [
    "for i in l:\n",
    "   \n",
    "    L=i.text\n",
    "    Job_Location.append(L)\n",
    "Job_Location"
   ]
  },
  {
   "cell_type": "code",
   "execution_count": 64,
   "metadata": {
    "scrolled": true
   },
   "outputs": [
    {
     "data": {
      "text/plain": [
       "[<selenium.webdriver.remote.webelement.WebElement (session=\"10635dd17a69234a716d46aaca198d51\", element=\"dc7eb714-a730-4a81-a6ba-d20afc0037aa\")>,\n",
       " <selenium.webdriver.remote.webelement.WebElement (session=\"10635dd17a69234a716d46aaca198d51\", element=\"c4005460-31a3-44c7-a03d-c465d0eaf3c1\")>,\n",
       " <selenium.webdriver.remote.webelement.WebElement (session=\"10635dd17a69234a716d46aaca198d51\", element=\"2e4f2cf5-90ca-4ea6-bd08-54f1b6c11f57\")>,\n",
       " <selenium.webdriver.remote.webelement.WebElement (session=\"10635dd17a69234a716d46aaca198d51\", element=\"f593e3fd-3270-4ccc-80ec-e982ec98342f\")>,\n",
       " <selenium.webdriver.remote.webelement.WebElement (session=\"10635dd17a69234a716d46aaca198d51\", element=\"12428e3e-f09c-4535-b2ab-dc1a31cff7b0\")>,\n",
       " <selenium.webdriver.remote.webelement.WebElement (session=\"10635dd17a69234a716d46aaca198d51\", element=\"a9036c1f-242e-4dd7-a07a-a390e4838380\")>,\n",
       " <selenium.webdriver.remote.webelement.WebElement (session=\"10635dd17a69234a716d46aaca198d51\", element=\"f88b94f6-7b7f-476d-a6df-a0623eaff0c8\")>,\n",
       " <selenium.webdriver.remote.webelement.WebElement (session=\"10635dd17a69234a716d46aaca198d51\", element=\"00a79c47-26b0-451e-9574-ea5c597a4382\")>,\n",
       " <selenium.webdriver.remote.webelement.WebElement (session=\"10635dd17a69234a716d46aaca198d51\", element=\"5670b158-5e44-4cd8-b576-17b55cf09caa\")>,\n",
       " <selenium.webdriver.remote.webelement.WebElement (session=\"10635dd17a69234a716d46aaca198d51\", element=\"fc79fd29-ac90-4414-ba5e-28e55c6ef2a1\")>,\n",
       " <selenium.webdriver.remote.webelement.WebElement (session=\"10635dd17a69234a716d46aaca198d51\", element=\"d6811397-f9d1-4437-ad63-5f79e6126fa2\")>,\n",
       " <selenium.webdriver.remote.webelement.WebElement (session=\"10635dd17a69234a716d46aaca198d51\", element=\"dc1fa9f4-03ff-4178-97ba-86a9ea542f8f\")>,\n",
       " <selenium.webdriver.remote.webelement.WebElement (session=\"10635dd17a69234a716d46aaca198d51\", element=\"58ec3168-ccab-4e76-adb9-4ff034f490bb\")>,\n",
       " <selenium.webdriver.remote.webelement.WebElement (session=\"10635dd17a69234a716d46aaca198d51\", element=\"92fa4fa7-b181-43ba-a349-b596b93beee2\")>,\n",
       " <selenium.webdriver.remote.webelement.WebElement (session=\"10635dd17a69234a716d46aaca198d51\", element=\"0a9ab76e-5dea-46f7-9dac-a7fa364b32b8\")>,\n",
       " <selenium.webdriver.remote.webelement.WebElement (session=\"10635dd17a69234a716d46aaca198d51\", element=\"a4c2749b-5667-414f-a4c9-de6556af4772\")>,\n",
       " <selenium.webdriver.remote.webelement.WebElement (session=\"10635dd17a69234a716d46aaca198d51\", element=\"5fcab401-a39f-49e8-8f43-cd66baa6cd96\")>,\n",
       " <selenium.webdriver.remote.webelement.WebElement (session=\"10635dd17a69234a716d46aaca198d51\", element=\"aefe9bfe-c678-4073-9491-6ecdb37dad74\")>,\n",
       " <selenium.webdriver.remote.webelement.WebElement (session=\"10635dd17a69234a716d46aaca198d51\", element=\"4daa9882-dd70-4014-b69f-a95e027f451b\")>,\n",
       " <selenium.webdriver.remote.webelement.WebElement (session=\"10635dd17a69234a716d46aaca198d51\", element=\"33627bea-76c7-421b-91b0-4fe22206e1ba\")>]"
      ]
     },
     "execution_count": 64,
     "metadata": {},
     "output_type": "execute_result"
    }
   ],
   "source": [
    "c=driver.find_elements_by_xpath(\"//a[@class='subTitle ellipsis fleft']\")\n",
    "c"
   ]
  },
  {
   "cell_type": "code",
   "execution_count": 65,
   "metadata": {
    "scrolled": true
   },
   "outputs": [
    {
     "data": {
      "text/plain": [
       "['CAIA-Center For Artificial Intelligence & Advanced Analytics',\n",
       " 'HCL Technologies Limited',\n",
       " 'BLUE YONDER INDIA PRIVATE LIMITED',\n",
       " 'AugmatrixGo',\n",
       " 'Cunesoft India Private Limited',\n",
       " 'Fidius advisory',\n",
       " 'Doji Ltd',\n",
       " 'Mailkit Private Limited',\n",
       " 'Techolution India Private Limited',\n",
       " 'IBM India Pvt. Limited',\n",
       " 'GENPACT India Private Limited',\n",
       " '24/7 Customer',\n",
       " 'Capgemini Technology Services India Limited',\n",
       " 'tech mahindra ltd',\n",
       " 'UpGrad',\n",
       " 'Leading Data Science Firm',\n",
       " 'Applied Materials',\n",
       " 'Societe Generale',\n",
       " 'Mastermind Network',\n",
       " 'TVS CREDIT SERVICES LIMITED']"
      ]
     },
     "execution_count": 65,
     "metadata": {},
     "output_type": "execute_result"
    }
   ],
   "source": [
    "for i in c:\n",
    "   \n",
    "    C=i.text\n",
    "    Company_Name.append(C)\n",
    "Company_Name"
   ]
  },
  {
   "cell_type": "code",
   "execution_count": 66,
   "metadata": {},
   "outputs": [
    {
     "data": {
      "text/html": [
       "<div>\n",
       "<style scoped>\n",
       "    .dataframe tbody tr th:only-of-type {\n",
       "        vertical-align: middle;\n",
       "    }\n",
       "\n",
       "    .dataframe tbody tr th {\n",
       "        vertical-align: top;\n",
       "    }\n",
       "\n",
       "    .dataframe thead th {\n",
       "        text-align: right;\n",
       "    }\n",
       "</style>\n",
       "<table border=\"1\" class=\"dataframe\">\n",
       "  <thead>\n",
       "    <tr style=\"text-align: right;\">\n",
       "      <th></th>\n",
       "      <th>Job Title</th>\n",
       "      <th>Location</th>\n",
       "      <th>Company</th>\n",
       "    </tr>\n",
       "  </thead>\n",
       "  <tbody>\n",
       "    <tr>\n",
       "      <th>0</th>\n",
       "      <td>Data Scientist/Data Analyst-immediate</td>\n",
       "      <td>Chennai, Pune, Bengaluru, Hyderabad</td>\n",
       "      <td>CAIA-Center For Artificial Intelligence &amp; Adva...</td>\n",
       "    </tr>\n",
       "    <tr>\n",
       "      <th>1</th>\n",
       "      <td>HCL hiring Data scientist with exp in machine ...</td>\n",
       "      <td>Bengaluru</td>\n",
       "      <td>HCL Technologies Limited</td>\n",
       "    </tr>\n",
       "    <tr>\n",
       "      <th>2</th>\n",
       "      <td>Data Scientist -Machine Learning</td>\n",
       "      <td>Bengaluru</td>\n",
       "      <td>BLUE YONDER INDIA PRIVATE LIMITED</td>\n",
       "    </tr>\n",
       "    <tr>\n",
       "      <th>3</th>\n",
       "      <td>Data Scientist - Machine Learning</td>\n",
       "      <td>Bengaluru</td>\n",
       "      <td>AugmatrixGo</td>\n",
       "    </tr>\n",
       "    <tr>\n",
       "      <th>4</th>\n",
       "      <td>Software Developer - Data Scientist / NLP / Ma...</td>\n",
       "      <td>Bengaluru / Bangalore</td>\n",
       "      <td>Cunesoft India Private Limited</td>\n",
       "    </tr>\n",
       "    <tr>\n",
       "      <th>5</th>\n",
       "      <td>Principal Data Scientist - Machine/Deep Learni...</td>\n",
       "      <td>Bengaluru</td>\n",
       "      <td>Fidius advisory</td>\n",
       "    </tr>\n",
       "    <tr>\n",
       "      <th>6</th>\n",
       "      <td>Data Scientist - Machine Learning - Remote Wor...</td>\n",
       "      <td>Delhi NCR, Bengaluru, Anywhere in India</td>\n",
       "      <td>Doji Ltd</td>\n",
       "    </tr>\n",
       "    <tr>\n",
       "      <th>7</th>\n",
       "      <td>Data Scientist</td>\n",
       "      <td>Chennai, Bhubaneshwar, Pune, Delhi NCR, Mumbai...</td>\n",
       "      <td>Mailkit Private Limited</td>\n",
       "    </tr>\n",
       "    <tr>\n",
       "      <th>8</th>\n",
       "      <td>Lead Data Scientist - Complete Remote Work</td>\n",
       "      <td>Chennai, Pune, Delhi NCR, Mumbai, Bengaluru, H...</td>\n",
       "      <td>Techolution India Private Limited</td>\n",
       "    </tr>\n",
       "    <tr>\n",
       "      <th>9</th>\n",
       "      <td>Data Scientist</td>\n",
       "      <td>Bengaluru</td>\n",
       "      <td>IBM India Pvt. Limited</td>\n",
       "    </tr>\n",
       "  </tbody>\n",
       "</table>\n",
       "</div>"
      ],
      "text/plain": [
       "                                           Job Title  \\\n",
       "0              Data Scientist/Data Analyst-immediate   \n",
       "1  HCL hiring Data scientist with exp in machine ...   \n",
       "2                   Data Scientist -Machine Learning   \n",
       "3                  Data Scientist - Machine Learning   \n",
       "4  Software Developer - Data Scientist / NLP / Ma...   \n",
       "5  Principal Data Scientist - Machine/Deep Learni...   \n",
       "6  Data Scientist - Machine Learning - Remote Wor...   \n",
       "7                                     Data Scientist   \n",
       "8         Lead Data Scientist - Complete Remote Work   \n",
       "9                                     Data Scientist   \n",
       "\n",
       "                                            Location  \\\n",
       "0                Chennai, Pune, Bengaluru, Hyderabad   \n",
       "1                                          Bengaluru   \n",
       "2                                          Bengaluru   \n",
       "3                                          Bengaluru   \n",
       "4                              Bengaluru / Bangalore   \n",
       "5                                          Bengaluru   \n",
       "6            Delhi NCR, Bengaluru, Anywhere in India   \n",
       "7  Chennai, Bhubaneshwar, Pune, Delhi NCR, Mumbai...   \n",
       "8  Chennai, Pune, Delhi NCR, Mumbai, Bengaluru, H...   \n",
       "9                                          Bengaluru   \n",
       "\n",
       "                                             Company  \n",
       "0  CAIA-Center For Artificial Intelligence & Adva...  \n",
       "1                           HCL Technologies Limited  \n",
       "2                  BLUE YONDER INDIA PRIVATE LIMITED  \n",
       "3                                        AugmatrixGo  \n",
       "4                     Cunesoft India Private Limited  \n",
       "5                                    Fidius advisory  \n",
       "6                                           Doji Ltd  \n",
       "7                            Mailkit Private Limited  \n",
       "8                  Techolution India Private Limited  \n",
       "9                             IBM India Pvt. Limited  "
      ]
     },
     "execution_count": 66,
     "metadata": {},
     "output_type": "execute_result"
    }
   ],
   "source": [
    "Naukri_DS_Job=pd.DataFrame([])\n",
    "Naukri_DS_Job['Job Title']=Job_Title[0:10]\n",
    "Naukri_DS_Job['Location']=Job_Location[0:10]\n",
    "Naukri_DS_Job['Company']=Company_Name[0:10]\n",
    "Naukri_DS_Job"
   ]
  },
  {
   "cell_type": "code",
   "execution_count": 25,
   "metadata": {},
   "outputs": [
    {
     "data": {
      "text/plain": [
       "[<selenium.webdriver.remote.webelement.WebElement (session=\"61fd27c1165e1dc3d295719f3785172e\", element=\"b711fc90-3f64-4882-b7ae-06cb29db3b45\")>]"
      ]
     },
     "execution_count": 25,
     "metadata": {},
     "output_type": "execute_result"
    }
   ],
   "source": [
    "url_1_1=\"https://www.naukri.com/job-listings-data-scientist-data-analyst-immediate-caia-center-for-artificial-intelligence-advanced-analytics-chennai-pune-bengaluru-bangalore-hyderabad-secunderabad-0-to-3-years-210920000599?src=jobsearchDesk&sid=1611512719408906&xp=1&px=1\"\n",
    "driver.get(url_1_1)\n",
    "D1=driver.find_elements_by_xpath(\"//div[@class='dang-inner-html']\")\n",
    "D1"
   ]
  },
  {
   "cell_type": "code",
   "execution_count": 26,
   "metadata": {},
   "outputs": [
    {
     "data": {
      "text/plain": [
       "[<selenium.webdriver.remote.webelement.WebElement (session=\"61fd27c1165e1dc3d295719f3785172e\", element=\"eb5633be-33da-4e6f-810b-62645a95046d\")>]"
      ]
     },
     "execution_count": 26,
     "metadata": {},
     "output_type": "execute_result"
    }
   ],
   "source": [
    "url_1_2=\"https://www.naukri.com/job-listings-hcl-hiring-data-scientist-with-exp-in-machine-learning-sql-bangalore-hcl-technologies-limited-bengaluru-bangalore-5-to-10-years-190121001223?src=jobsearchDesk&sid=16115138719277513&xp=2&px=1\"\n",
    "driver.get(url_1_2)\n",
    "D2=driver.find_elements_by_xpath(\"//div[@class='dang-inner-html']\")\n",
    "D2"
   ]
  },
  {
   "cell_type": "code",
   "execution_count": 27,
   "metadata": {},
   "outputs": [
    {
     "data": {
      "text/plain": [
       "[<selenium.webdriver.remote.webelement.WebElement (session=\"61fd27c1165e1dc3d295719f3785172e\", element=\"aea7601f-9c41-4876-8fc8-a758432278e4\")>]"
      ]
     },
     "execution_count": 27,
     "metadata": {},
     "output_type": "execute_result"
    }
   ],
   "source": [
    "url_1_3=\"https://www.naukri.com/job-listings-data-scientist-machine-learning-augmatrixgo-bengaluru-bangalore-2-to-5-years-140121905423?src=jobsearchDesk&sid=16115138719277513&xp=3&px=1\"\n",
    "driver.get(url_1_3)\n",
    "D3=driver.find_elements_by_xpath(\"//div[@class='dang-inner-html']\")\n",
    "D3"
   ]
  },
  {
   "cell_type": "code",
   "execution_count": 28,
   "metadata": {},
   "outputs": [
    {
     "data": {
      "text/plain": [
       "[<selenium.webdriver.remote.webelement.WebElement (session=\"61fd27c1165e1dc3d295719f3785172e\", element=\"a7de28fd-df3a-481f-9d00-e628b8278aaf\")>]"
      ]
     },
     "execution_count": 28,
     "metadata": {},
     "output_type": "execute_result"
    }
   ],
   "source": [
    "url_1_4=\"https://www.naukri.com/job-listings-data-scientist-machine-learning-blue-yonder-india-private-limited-bengaluru-bangalore-5-to-8-years-130121902169?src=jobsearchDesk&sid=16115138719277513&xp=4&px=1\"\n",
    "driver.get(url_1_4)\n",
    "D4=driver.find_elements_by_xpath(\"//div[@class='nConfig_textblock ']\")\n",
    "D4"
   ]
  },
  {
   "cell_type": "code",
   "execution_count": 29,
   "metadata": {},
   "outputs": [
    {
     "data": {
      "text/plain": [
       "[<selenium.webdriver.remote.webelement.WebElement (session=\"61fd27c1165e1dc3d295719f3785172e\", element=\"24a5a1e7-f109-4aa7-bffa-575ea4271673\")>]"
      ]
     },
     "execution_count": 29,
     "metadata": {},
     "output_type": "execute_result"
    }
   ],
   "source": [
    "url_1_5=\"https://www.naukri.com/job-listings-data-scientist-machine-learning-blue-yonder-india-private-limited-bengaluru-bangalore-3-to-5-years-130121902167?src=jobsearchDesk&sid=16115138719277513&xp=5&px=1\"\n",
    "driver.get(url_1_5)\n",
    "D5=driver.find_elements_by_xpath(\"//div[@class='nConfig_textblock ']\")\n",
    "D5"
   ]
  },
  {
   "cell_type": "code",
   "execution_count": 30,
   "metadata": {},
   "outputs": [
    {
     "data": {
      "text/plain": [
       "[<selenium.webdriver.remote.webelement.WebElement (session=\"61fd27c1165e1dc3d295719f3785172e\", element=\"f0ec51d3-3e0c-46be-9288-d6f7378e681e\")>]"
      ]
     },
     "execution_count": 30,
     "metadata": {},
     "output_type": "execute_result"
    }
   ],
   "source": [
    "url_1_6=\"https://www.naukri.com/job-listings-senior-data-scientist-philips-india-limited-bengaluru-bangalore-8-to-12-years-110121501358?src=jobsearchDesk&sid=16115138719277513&xp=6&px=1\"\n",
    "driver.get(url_1_6)\n",
    "D6=driver.find_elements_by_xpath(\"//div[@class='dang-inner-html']\")\n",
    "D6"
   ]
  },
  {
   "cell_type": "code",
   "execution_count": 31,
   "metadata": {},
   "outputs": [
    {
     "data": {
      "text/plain": [
       "[]"
      ]
     },
     "execution_count": 31,
     "metadata": {},
     "output_type": "execute_result"
    }
   ],
   "source": [
    "url_1_7=\"https://www.naukri.com/job-listings-software-developer-data-scientist-nlp-machine-learning-cunesoft-india-private-limited-bengaluru-bangalore-3-to-6-years-190121001281?src=jobsearchDesk&sid=16115138719277513&xp=7&px=1\"\n",
    "driver.get(url_1_7)\n",
    "D7=driver.find_elements_by_xpath(\"//div[@class='dang-inner-html']\")\n",
    "D7"
   ]
  },
  {
   "cell_type": "code",
   "execution_count": 32,
   "metadata": {},
   "outputs": [
    {
     "data": {
      "text/plain": [
       "[<selenium.webdriver.remote.webelement.WebElement (session=\"61fd27c1165e1dc3d295719f3785172e\", element=\"bc807098-98d9-4c63-8040-f1bde969e672\")>]"
      ]
     },
     "execution_count": 32,
     "metadata": {},
     "output_type": "execute_result"
    }
   ],
   "source": [
    "url_1_8=\"https://www.naukri.com/job-listings-data-scientist-machine-learning-remote-working-doji-ltd-delhi-ncr-bengaluru-bangalore-anywhere-in-india-2-to-5-years-171220006270?src=jobsearchDesk&sid=16115138719277513&xp=8&px=1\"\n",
    "driver.get(url_1_8)\n",
    "D8=driver.find_elements_by_xpath(\"//div[@class='dang-inner-html']\")\n",
    "D8"
   ]
  },
  {
   "cell_type": "code",
   "execution_count": 33,
   "metadata": {},
   "outputs": [
    {
     "data": {
      "text/plain": [
       "[<selenium.webdriver.remote.webelement.WebElement (session=\"61fd27c1165e1dc3d295719f3785172e\", element=\"eb1ceca9-35a9-4c47-98da-8ce30a20b83a\")>,\n",
       " <selenium.webdriver.remote.webelement.WebElement (session=\"61fd27c1165e1dc3d295719f3785172e\", element=\"ceb60500-ae69-4369-ab98-7ac83ee32d9c\")>,\n",
       " <selenium.webdriver.remote.webelement.WebElement (session=\"61fd27c1165e1dc3d295719f3785172e\", element=\"7df4c859-5a05-47f6-8e4a-917bc02ab874\")>]"
      ]
     },
     "execution_count": 33,
     "metadata": {},
     "output_type": "execute_result"
    }
   ],
   "source": [
    "url_1_9=\"https://www.naukri.com/job-listings-data-scientist-genpact-india-private-limited-bengaluru-bangalore-5-to-10-years-120121008663?src=jobsearchDesk&sid=16115138719277513&xp=9&px=1\"\n",
    "driver.get(url_1_9)\n",
    "D9=driver.find_elements_by_xpath(\"//div[@class='f14 lh18 alignJ disc-li']\")\n",
    "D9"
   ]
  },
  {
   "cell_type": "code",
   "execution_count": 34,
   "metadata": {},
   "outputs": [
    {
     "data": {
      "text/plain": [
       "[<selenium.webdriver.remote.webelement.WebElement (session=\"61fd27c1165e1dc3d295719f3785172e\", element=\"c66166b4-794d-4345-9daa-04b40af82b74\")>,\n",
       " <selenium.webdriver.remote.webelement.WebElement (session=\"61fd27c1165e1dc3d295719f3785172e\", element=\"749c48d5-23ac-4c2f-82d1-213278db6579\")>]"
      ]
     },
     "execution_count": 34,
     "metadata": {},
     "output_type": "execute_result"
    }
   ],
   "source": [
    "url_1_0=\"https://www.naukri.com/job-listings-data-scientist-healthcare-pharma-domain-preferred-genpact-india-private-limited-bengaluru-bangalore-6-to-10-years-070121010487?src=jobsearchDesk&sid=16115138719277513&xp=10&px=1\"\n",
    "driver.get(url_1_0)\n",
    "D10=driver.find_elements_by_xpath(\"//div[@class='f14 lh18 alignJ disc-li']\")\n",
    "D10"
   ]
  },
  {
   "cell_type": "code",
   "execution_count": 35,
   "metadata": {},
   "outputs": [],
   "source": [
    "Description=[D1,D2,D3,D4,D5,D6,D7,D8,D9,D10]"
   ]
  },
  {
   "cell_type": "code",
   "execution_count": 36,
   "metadata": {},
   "outputs": [
    {
     "data": {
      "text/plain": [
       "[[<selenium.webdriver.remote.webelement.WebElement (session=\"61fd27c1165e1dc3d295719f3785172e\", element=\"b711fc90-3f64-4882-b7ae-06cb29db3b45\")>],\n",
       " [<selenium.webdriver.remote.webelement.WebElement (session=\"61fd27c1165e1dc3d295719f3785172e\", element=\"eb5633be-33da-4e6f-810b-62645a95046d\")>],\n",
       " [<selenium.webdriver.remote.webelement.WebElement (session=\"61fd27c1165e1dc3d295719f3785172e\", element=\"aea7601f-9c41-4876-8fc8-a758432278e4\")>],\n",
       " [<selenium.webdriver.remote.webelement.WebElement (session=\"61fd27c1165e1dc3d295719f3785172e\", element=\"a7de28fd-df3a-481f-9d00-e628b8278aaf\")>],\n",
       " [<selenium.webdriver.remote.webelement.WebElement (session=\"61fd27c1165e1dc3d295719f3785172e\", element=\"24a5a1e7-f109-4aa7-bffa-575ea4271673\")>],\n",
       " [<selenium.webdriver.remote.webelement.WebElement (session=\"61fd27c1165e1dc3d295719f3785172e\", element=\"f0ec51d3-3e0c-46be-9288-d6f7378e681e\")>],\n",
       " [],\n",
       " [<selenium.webdriver.remote.webelement.WebElement (session=\"61fd27c1165e1dc3d295719f3785172e\", element=\"bc807098-98d9-4c63-8040-f1bde969e672\")>],\n",
       " [<selenium.webdriver.remote.webelement.WebElement (session=\"61fd27c1165e1dc3d295719f3785172e\", element=\"eb1ceca9-35a9-4c47-98da-8ce30a20b83a\")>,\n",
       "  <selenium.webdriver.remote.webelement.WebElement (session=\"61fd27c1165e1dc3d295719f3785172e\", element=\"ceb60500-ae69-4369-ab98-7ac83ee32d9c\")>,\n",
       "  <selenium.webdriver.remote.webelement.WebElement (session=\"61fd27c1165e1dc3d295719f3785172e\", element=\"7df4c859-5a05-47f6-8e4a-917bc02ab874\")>],\n",
       " [<selenium.webdriver.remote.webelement.WebElement (session=\"61fd27c1165e1dc3d295719f3785172e\", element=\"c66166b4-794d-4345-9daa-04b40af82b74\")>,\n",
       "  <selenium.webdriver.remote.webelement.WebElement (session=\"61fd27c1165e1dc3d295719f3785172e\", element=\"749c48d5-23ac-4c2f-82d1-213278db6579\")>]]"
      ]
     },
     "execution_count": 36,
     "metadata": {},
     "output_type": "execute_result"
    }
   ],
   "source": [
    "Description"
   ]
  },
  {
   "cell_type": "code",
   "execution_count": null,
   "metadata": {},
   "outputs": [],
   "source": []
  },
  {
   "cell_type": "code",
   "execution_count": 70,
   "metadata": {},
   "outputs": [
    {
     "ename": "AttributeError",
     "evalue": "'list' object has no attribute 'text'",
     "output_type": "error",
     "traceback": [
      "\u001b[1;31m---------------------------------------------------------------------------\u001b[0m",
      "\u001b[1;31mAttributeError\u001b[0m                            Traceback (most recent call last)",
      "\u001b[1;32m<ipython-input-70-73f234dcc244>\u001b[0m in \u001b[0;36m<module>\u001b[1;34m\u001b[0m\n\u001b[0;32m      2\u001b[0m \u001b[1;33m\u001b[0m\u001b[0m\n\u001b[0;32m      3\u001b[0m     \u001b[1;31m#D=i.text\u001b[0m\u001b[1;33m\u001b[0m\u001b[1;33m\u001b[0m\u001b[1;33m\u001b[0m\u001b[0m\n\u001b[1;32m----> 4\u001b[1;33m     \u001b[0mJob_Description\u001b[0m\u001b[1;33m.\u001b[0m\u001b[0mappend\u001b[0m\u001b[1;33m(\u001b[0m\u001b[0mi\u001b[0m\u001b[1;33m.\u001b[0m\u001b[0mtext\u001b[0m\u001b[1;33m(\u001b[0m\u001b[1;33m)\u001b[0m\u001b[1;33m.\u001b[0m\u001b[0mreplace\u001b[0m\u001b[1;33m(\u001b[0m\u001b[1;34m\"\\n\"\u001b[0m\u001b[1;33m,\u001b[0m\u001b[1;34m\"\"\u001b[0m\u001b[1;33m)\u001b[0m\u001b[1;33m)\u001b[0m\u001b[1;33m\u001b[0m\u001b[1;33m\u001b[0m\u001b[0m\n\u001b[0m\u001b[0;32m      5\u001b[0m \u001b[0mJob_Description\u001b[0m\u001b[1;33m\u001b[0m\u001b[1;33m\u001b[0m\u001b[0m\n",
      "\u001b[1;31mAttributeError\u001b[0m: 'list' object has no attribute 'text'"
     ]
    }
   ],
   "source": [
    "for i in Description:\n",
    "   \n",
    "    #D=i.text\n",
    "    Job_Description.append(i.text().replace(\"\\n\",\"\"))\n",
    "Job_Description"
   ]
  },
  {
   "cell_type": "code",
   "execution_count": null,
   "metadata": {},
   "outputs": [],
   "source": [
    "Naukri_DS_Job_D=pd.DataFrame([])\n",
    "Naukri_DS_Job_D['Job Title']=Job_Title[0:10]\n",
    "Naukri_DS_Job_D['Company']=Company_Name[0:10]\n",
    "Naukri_DS_Job_D['Full Description']=Job_Description[0:10]\n",
    "Naukri_DS_Job_D"
   ]
  },
  {
   "cell_type": "markdown",
   "metadata": {},
   "source": [
    "# Quetion - 3"
   ]
  },
  {
   "cell_type": "code",
   "execution_count": null,
   "metadata": {},
   "outputs": [],
   "source": []
  },
  {
   "cell_type": "code",
   "execution_count": null,
   "metadata": {},
   "outputs": [],
   "source": [
    "driver= webdriver.Chrome(r\"E:\\Aniket\\chromedriver_win32\\chromedriver.exe\")"
   ]
  },
  {
   "cell_type": "code",
   "execution_count": 71,
   "metadata": {},
   "outputs": [],
   "source": [
    "url_2=\"https://www.naukri.com/data-scientist-jobs-in-delhi-ncr?k=data%20scientist&l=delhi%2Fncr&cityType=25.9.31&ctcFilter=3to6\""
   ]
  },
  {
   "cell_type": "code",
   "execution_count": 72,
   "metadata": {},
   "outputs": [],
   "source": [
    "driver.get(url_2)"
   ]
  },
  {
   "cell_type": "code",
   "execution_count": 73,
   "metadata": {},
   "outputs": [],
   "source": [
    "Job_title=[]\n",
    "Job_location=[]\n",
    "Company_name=[]\n",
    "Experience_required=[]"
   ]
  },
  {
   "cell_type": "code",
   "execution_count": 74,
   "metadata": {},
   "outputs": [
    {
     "data": {
      "text/plain": [
       "[<selenium.webdriver.remote.webelement.WebElement (session=\"10635dd17a69234a716d46aaca198d51\", element=\"94532259-41f5-4341-a01f-921b36d69690\")>,\n",
       " <selenium.webdriver.remote.webelement.WebElement (session=\"10635dd17a69234a716d46aaca198d51\", element=\"adda7ca8-e58c-49c9-92f3-8124aaee977d\")>,\n",
       " <selenium.webdriver.remote.webelement.WebElement (session=\"10635dd17a69234a716d46aaca198d51\", element=\"dca02d6f-bb49-411e-ab44-6dfaa573f0dc\")>,\n",
       " <selenium.webdriver.remote.webelement.WebElement (session=\"10635dd17a69234a716d46aaca198d51\", element=\"643eab6a-bc6a-4ed4-ba84-cc7e9f35d18b\")>,\n",
       " <selenium.webdriver.remote.webelement.WebElement (session=\"10635dd17a69234a716d46aaca198d51\", element=\"c2c01f99-5864-4912-9bcc-bfcab85655f0\")>,\n",
       " <selenium.webdriver.remote.webelement.WebElement (session=\"10635dd17a69234a716d46aaca198d51\", element=\"a7ca8cc2-52c6-4ea6-9e43-134b21cab76d\")>,\n",
       " <selenium.webdriver.remote.webelement.WebElement (session=\"10635dd17a69234a716d46aaca198d51\", element=\"ecce58b6-13ac-4555-918a-e487589ff56d\")>,\n",
       " <selenium.webdriver.remote.webelement.WebElement (session=\"10635dd17a69234a716d46aaca198d51\", element=\"08e6e422-8bc5-4b28-9008-dd9ba0a904ed\")>,\n",
       " <selenium.webdriver.remote.webelement.WebElement (session=\"10635dd17a69234a716d46aaca198d51\", element=\"68751af0-40af-4312-9249-06df9e5cbf4f\")>,\n",
       " <selenium.webdriver.remote.webelement.WebElement (session=\"10635dd17a69234a716d46aaca198d51\", element=\"30345f54-bbbb-4f77-8791-195e5d59db6f\")>]"
      ]
     },
     "execution_count": 74,
     "metadata": {},
     "output_type": "execute_result"
    }
   ],
   "source": [
    "titl=driver.find_elements_by_xpath(\"//a[@class='title fw500 ellipsis']\")\n",
    "titl[0:10]"
   ]
  },
  {
   "cell_type": "code",
   "execution_count": 75,
   "metadata": {},
   "outputs": [
    {
     "data": {
      "text/plain": [
       "['Data Scientist - Python/Machine Learning',\n",
       " 'Tech Mahindra hiring For Data Scientist- Noida',\n",
       " 'Data Scientist - Commercial Planning and Analysis',\n",
       " 'Data Scientist',\n",
       " 'Data Scientist - Machine Learning/ NLP',\n",
       " 'Data Scientist - Tableau/Power BI',\n",
       " 'Data Scientist - Machine Learning/ Artificial Intelligence - IT',\n",
       " 'GCP Skilled Analytics Resources (Data engineer / Data scientists)',\n",
       " 'Data Scientist - IT',\n",
       " 'Data Scientist']"
      ]
     },
     "execution_count": 75,
     "metadata": {},
     "output_type": "execute_result"
    }
   ],
   "source": [
    "for i in titl:\n",
    "   \n",
    "    T=i.text\n",
    "    Job_title.append(T)\n",
    "Job_title=Job_title[0:10]\n",
    "Job_title"
   ]
  },
  {
   "cell_type": "code",
   "execution_count": 76,
   "metadata": {},
   "outputs": [
    {
     "data": {
      "text/plain": [
       "[<selenium.webdriver.remote.webelement.WebElement (session=\"10635dd17a69234a716d46aaca198d51\", element=\"e3ccab4a-8743-4312-9fac-1093d7a1b38c\")>,\n",
       " <selenium.webdriver.remote.webelement.WebElement (session=\"10635dd17a69234a716d46aaca198d51\", element=\"aa883850-1a81-4308-9946-e6e601c0004e\")>,\n",
       " <selenium.webdriver.remote.webelement.WebElement (session=\"10635dd17a69234a716d46aaca198d51\", element=\"90e3b746-aee7-4300-b3a8-aed8b789adc9\")>,\n",
       " <selenium.webdriver.remote.webelement.WebElement (session=\"10635dd17a69234a716d46aaca198d51\", element=\"79a28ec6-3708-465d-bd96-cd60f69c6840\")>,\n",
       " <selenium.webdriver.remote.webelement.WebElement (session=\"10635dd17a69234a716d46aaca198d51\", element=\"b26ec19e-bc32-4e39-a009-13b637d624d3\")>,\n",
       " <selenium.webdriver.remote.webelement.WebElement (session=\"10635dd17a69234a716d46aaca198d51\", element=\"4f40e922-a0ff-4ada-bf6c-66ea236600fd\")>,\n",
       " <selenium.webdriver.remote.webelement.WebElement (session=\"10635dd17a69234a716d46aaca198d51\", element=\"a08bb807-2bf0-49cb-87a6-326a0a41d249\")>,\n",
       " <selenium.webdriver.remote.webelement.WebElement (session=\"10635dd17a69234a716d46aaca198d51\", element=\"b930b4bd-dfe2-4177-a28d-569ffa7776bc\")>,\n",
       " <selenium.webdriver.remote.webelement.WebElement (session=\"10635dd17a69234a716d46aaca198d51\", element=\"9ab20a1f-7c70-472b-b492-b812fd3d1d33\")>,\n",
       " <selenium.webdriver.remote.webelement.WebElement (session=\"10635dd17a69234a716d46aaca198d51\", element=\"6c392951-2ddb-4813-b4b7-206de780b10a\")>,\n",
       " <selenium.webdriver.remote.webelement.WebElement (session=\"10635dd17a69234a716d46aaca198d51\", element=\"42abed7b-2ed4-4990-8ba5-3f6bd1898534\")>,\n",
       " <selenium.webdriver.remote.webelement.WebElement (session=\"10635dd17a69234a716d46aaca198d51\", element=\"cf98a385-8933-4375-b415-743666669bb4\")>,\n",
       " <selenium.webdriver.remote.webelement.WebElement (session=\"10635dd17a69234a716d46aaca198d51\", element=\"c5e2d7f1-fb4a-4577-bad8-ef5821732e60\")>,\n",
       " <selenium.webdriver.remote.webelement.WebElement (session=\"10635dd17a69234a716d46aaca198d51\", element=\"be83d16b-ed28-4886-99a2-cd1cef8e126f\")>,\n",
       " <selenium.webdriver.remote.webelement.WebElement (session=\"10635dd17a69234a716d46aaca198d51\", element=\"6205ab5b-d581-4ddf-ab44-53f99c9bcb80\")>,\n",
       " <selenium.webdriver.remote.webelement.WebElement (session=\"10635dd17a69234a716d46aaca198d51\", element=\"644f2738-90f2-46dd-a72a-07df9734fb1a\")>,\n",
       " <selenium.webdriver.remote.webelement.WebElement (session=\"10635dd17a69234a716d46aaca198d51\", element=\"3b2ca06a-6054-42ce-9efb-910c97038acb\")>,\n",
       " <selenium.webdriver.remote.webelement.WebElement (session=\"10635dd17a69234a716d46aaca198d51\", element=\"d925d69a-ad52-4c14-a9a4-7c2a5033c3db\")>,\n",
       " <selenium.webdriver.remote.webelement.WebElement (session=\"10635dd17a69234a716d46aaca198d51\", element=\"71e86dd6-da6f-491b-a69e-63584a5e5e63\")>,\n",
       " <selenium.webdriver.remote.webelement.WebElement (session=\"10635dd17a69234a716d46aaca198d51\", element=\"eb13652d-0a9e-415d-97e2-ca2dd472b51e\")>]"
      ]
     },
     "execution_count": 76,
     "metadata": {},
     "output_type": "execute_result"
    }
   ],
   "source": [
    "loca=driver.find_elements_by_xpath(\"//li[@class='fleft grey-text br2 placeHolderLi location']\")\n",
    "loca"
   ]
  },
  {
   "cell_type": "code",
   "execution_count": 77,
   "metadata": {},
   "outputs": [],
   "source": [
    "for i in loca:\n",
    "   \n",
    "    L=i.text\n",
    "    Job_location.append(L)\n",
    "Job_location=Job_location[0:10]"
   ]
  },
  {
   "cell_type": "code",
   "execution_count": 78,
   "metadata": {},
   "outputs": [
    {
     "data": {
      "text/plain": [
       "[<selenium.webdriver.remote.webelement.WebElement (session=\"10635dd17a69234a716d46aaca198d51\", element=\"d9aa1467-8983-4267-8b92-c8ec85c538b0\")>,\n",
       " <selenium.webdriver.remote.webelement.WebElement (session=\"10635dd17a69234a716d46aaca198d51\", element=\"95098f3a-bdc0-4f6a-9a60-3df84958e39a\")>,\n",
       " <selenium.webdriver.remote.webelement.WebElement (session=\"10635dd17a69234a716d46aaca198d51\", element=\"daa4f768-3dcc-45b1-a05f-111645b0b256\")>,\n",
       " <selenium.webdriver.remote.webelement.WebElement (session=\"10635dd17a69234a716d46aaca198d51\", element=\"458e97c0-052a-45c3-bfe8-093652188b02\")>,\n",
       " <selenium.webdriver.remote.webelement.WebElement (session=\"10635dd17a69234a716d46aaca198d51\", element=\"d8fda6ce-433b-44cd-95e3-e226ec4d89e5\")>,\n",
       " <selenium.webdriver.remote.webelement.WebElement (session=\"10635dd17a69234a716d46aaca198d51\", element=\"faab02d2-0760-4d2d-809a-c3747dadb7ee\")>,\n",
       " <selenium.webdriver.remote.webelement.WebElement (session=\"10635dd17a69234a716d46aaca198d51\", element=\"edd8a5d8-b81c-4147-bef4-8e668872125d\")>,\n",
       " <selenium.webdriver.remote.webelement.WebElement (session=\"10635dd17a69234a716d46aaca198d51\", element=\"e972e094-71ad-4fae-b033-60073378f6be\")>,\n",
       " <selenium.webdriver.remote.webelement.WebElement (session=\"10635dd17a69234a716d46aaca198d51\", element=\"0b9edea8-0d09-41a5-b403-a922e69edb5c\")>,\n",
       " <selenium.webdriver.remote.webelement.WebElement (session=\"10635dd17a69234a716d46aaca198d51\", element=\"d937f106-9c4a-4785-bd9e-ae294eab822b\")>,\n",
       " <selenium.webdriver.remote.webelement.WebElement (session=\"10635dd17a69234a716d46aaca198d51\", element=\"f2a24f5d-8927-4d4f-9c9d-850e79e2db8d\")>,\n",
       " <selenium.webdriver.remote.webelement.WebElement (session=\"10635dd17a69234a716d46aaca198d51\", element=\"52fbd23d-0c36-4658-98d7-e247857045c2\")>,\n",
       " <selenium.webdriver.remote.webelement.WebElement (session=\"10635dd17a69234a716d46aaca198d51\", element=\"3ea05f11-87cd-4727-aa3c-90e535f0cf2f\")>,\n",
       " <selenium.webdriver.remote.webelement.WebElement (session=\"10635dd17a69234a716d46aaca198d51\", element=\"f9dbdd68-fda5-4847-b32a-55a7131711f7\")>,\n",
       " <selenium.webdriver.remote.webelement.WebElement (session=\"10635dd17a69234a716d46aaca198d51\", element=\"7d64b6e4-93e5-4105-84c5-0db4e11913dc\")>,\n",
       " <selenium.webdriver.remote.webelement.WebElement (session=\"10635dd17a69234a716d46aaca198d51\", element=\"d59452eb-85d7-41f4-ab1d-0a183b8abe24\")>,\n",
       " <selenium.webdriver.remote.webelement.WebElement (session=\"10635dd17a69234a716d46aaca198d51\", element=\"f21f148c-124b-41f1-993a-016287b73912\")>,\n",
       " <selenium.webdriver.remote.webelement.WebElement (session=\"10635dd17a69234a716d46aaca198d51\", element=\"280948fd-72e3-4bda-acd8-868547017aa2\")>,\n",
       " <selenium.webdriver.remote.webelement.WebElement (session=\"10635dd17a69234a716d46aaca198d51\", element=\"8d7ba341-d930-474c-9126-a8720729f755\")>,\n",
       " <selenium.webdriver.remote.webelement.WebElement (session=\"10635dd17a69234a716d46aaca198d51\", element=\"cd01344d-608a-441a-a5cb-fda2ab955857\")>]"
      ]
     },
     "execution_count": 78,
     "metadata": {},
     "output_type": "execute_result"
    }
   ],
   "source": [
    "com=driver.find_elements_by_xpath(\"//a[@class='subTitle ellipsis fleft']\")\n",
    "com"
   ]
  },
  {
   "cell_type": "code",
   "execution_count": 79,
   "metadata": {},
   "outputs": [],
   "source": [
    "for i in com:\n",
    "   \n",
    "    C=i.text\n",
    "    Company_name.append(C)\n",
    "Company_name=Company_name[0:10]"
   ]
  },
  {
   "cell_type": "code",
   "execution_count": 80,
   "metadata": {},
   "outputs": [
    {
     "data": {
      "text/plain": [
       "[<selenium.webdriver.remote.webelement.WebElement (session=\"10635dd17a69234a716d46aaca198d51\", element=\"105d91fc-d3ab-4a95-b388-43a4bf3258a1\")>,\n",
       " <selenium.webdriver.remote.webelement.WebElement (session=\"10635dd17a69234a716d46aaca198d51\", element=\"aa17fdf3-a289-4d7c-9826-ac1ad1ec63e8\")>,\n",
       " <selenium.webdriver.remote.webelement.WebElement (session=\"10635dd17a69234a716d46aaca198d51\", element=\"9453e21c-6f79-4d0f-87d4-b43df60365ab\")>,\n",
       " <selenium.webdriver.remote.webelement.WebElement (session=\"10635dd17a69234a716d46aaca198d51\", element=\"de5fd063-8f99-43d2-afbc-e5fc1acd157d\")>,\n",
       " <selenium.webdriver.remote.webelement.WebElement (session=\"10635dd17a69234a716d46aaca198d51\", element=\"2b600f6d-1fce-4826-b492-58d236c001bc\")>,\n",
       " <selenium.webdriver.remote.webelement.WebElement (session=\"10635dd17a69234a716d46aaca198d51\", element=\"bdb5b0a8-7662-44db-a879-23a787cb592b\")>,\n",
       " <selenium.webdriver.remote.webelement.WebElement (session=\"10635dd17a69234a716d46aaca198d51\", element=\"550c1331-c018-46f1-8810-3d97e8613407\")>,\n",
       " <selenium.webdriver.remote.webelement.WebElement (session=\"10635dd17a69234a716d46aaca198d51\", element=\"c617587d-e384-428c-afef-222b1fc49e0a\")>,\n",
       " <selenium.webdriver.remote.webelement.WebElement (session=\"10635dd17a69234a716d46aaca198d51\", element=\"87bd2360-4dcc-43f5-8515-bb508a0fe1b2\")>,\n",
       " <selenium.webdriver.remote.webelement.WebElement (session=\"10635dd17a69234a716d46aaca198d51\", element=\"c1e8c8fc-0630-4758-887b-7d267974b5f4\")>,\n",
       " <selenium.webdriver.remote.webelement.WebElement (session=\"10635dd17a69234a716d46aaca198d51\", element=\"94484321-de72-428b-83b0-6c8984fa36e8\")>,\n",
       " <selenium.webdriver.remote.webelement.WebElement (session=\"10635dd17a69234a716d46aaca198d51\", element=\"ab16a062-958a-4753-a5c1-b2da941576d3\")>,\n",
       " <selenium.webdriver.remote.webelement.WebElement (session=\"10635dd17a69234a716d46aaca198d51\", element=\"844175b8-6ced-4357-bd94-f8699c41e7f4\")>,\n",
       " <selenium.webdriver.remote.webelement.WebElement (session=\"10635dd17a69234a716d46aaca198d51\", element=\"01369009-3f71-4b80-bf6c-d6fa0928316d\")>,\n",
       " <selenium.webdriver.remote.webelement.WebElement (session=\"10635dd17a69234a716d46aaca198d51\", element=\"0c267962-9e75-401f-a16a-9e9e5b483f53\")>,\n",
       " <selenium.webdriver.remote.webelement.WebElement (session=\"10635dd17a69234a716d46aaca198d51\", element=\"0007e706-9081-4bbb-8f4c-4abd9968cdbc\")>,\n",
       " <selenium.webdriver.remote.webelement.WebElement (session=\"10635dd17a69234a716d46aaca198d51\", element=\"71932835-b6f7-4d53-81ad-fa2e57a1ded5\")>,\n",
       " <selenium.webdriver.remote.webelement.WebElement (session=\"10635dd17a69234a716d46aaca198d51\", element=\"4385bf14-b18f-4a7d-b36c-07f97833e764\")>,\n",
       " <selenium.webdriver.remote.webelement.WebElement (session=\"10635dd17a69234a716d46aaca198d51\", element=\"f01b5c58-815d-453b-b483-a740fc5d3202\")>,\n",
       " <selenium.webdriver.remote.webelement.WebElement (session=\"10635dd17a69234a716d46aaca198d51\", element=\"5922d9d6-baca-4f94-8dcf-63c23d17ee25\")>]"
      ]
     },
     "execution_count": 80,
     "metadata": {},
     "output_type": "execute_result"
    }
   ],
   "source": [
    "expe=driver.find_elements_by_xpath(\"//li[@class='fleft grey-text br2 placeHolderLi experience']\")\n",
    "expe"
   ]
  },
  {
   "cell_type": "code",
   "execution_count": 81,
   "metadata": {},
   "outputs": [],
   "source": [
    "for i in expe:\n",
    "   \n",
    "    E=i.text\n",
    "    Experience_required.append(E)\n",
    "Experience_required=Experience_required[0:10]"
   ]
  },
  {
   "cell_type": "code",
   "execution_count": 82,
   "metadata": {},
   "outputs": [
    {
     "data": {
      "text/html": [
       "<div>\n",
       "<style scoped>\n",
       "    .dataframe tbody tr th:only-of-type {\n",
       "        vertical-align: middle;\n",
       "    }\n",
       "\n",
       "    .dataframe tbody tr th {\n",
       "        vertical-align: top;\n",
       "    }\n",
       "\n",
       "    .dataframe thead th {\n",
       "        text-align: right;\n",
       "    }\n",
       "</style>\n",
       "<table border=\"1\" class=\"dataframe\">\n",
       "  <thead>\n",
       "    <tr style=\"text-align: right;\">\n",
       "      <th></th>\n",
       "      <th>Job Title</th>\n",
       "      <th>Location</th>\n",
       "      <th>Company</th>\n",
       "      <th>Experience</th>\n",
       "    </tr>\n",
       "  </thead>\n",
       "  <tbody>\n",
       "    <tr>\n",
       "      <th>0</th>\n",
       "      <td>Data Scientist - Python/Machine Learning</td>\n",
       "      <td>Noida</td>\n",
       "      <td>Jubna</td>\n",
       "      <td>5-8 Yrs</td>\n",
       "    </tr>\n",
       "    <tr>\n",
       "      <th>1</th>\n",
       "      <td>Tech Mahindra hiring For Data Scientist- Noida</td>\n",
       "      <td>Noida</td>\n",
       "      <td>tech mahindra ltd</td>\n",
       "      <td>5-10 Yrs</td>\n",
       "    </tr>\n",
       "    <tr>\n",
       "      <th>2</th>\n",
       "      <td>Data Scientist - Commercial Planning and Analysis</td>\n",
       "      <td>Delhi NCR, Gurgaon</td>\n",
       "      <td>Air Asia India Limited</td>\n",
       "      <td>1-6 Yrs</td>\n",
       "    </tr>\n",
       "    <tr>\n",
       "      <th>3</th>\n",
       "      <td>Data Scientist</td>\n",
       "      <td>Faridabad, Delhi NCR, Ghaziabad</td>\n",
       "      <td>Amity University</td>\n",
       "      <td>6-8 Yrs</td>\n",
       "    </tr>\n",
       "    <tr>\n",
       "      <th>4</th>\n",
       "      <td>Data Scientist - Machine Learning/ NLP</td>\n",
       "      <td>Gurgaon Gurugram</td>\n",
       "      <td>TalPro</td>\n",
       "      <td>2-6 Yrs</td>\n",
       "    </tr>\n",
       "    <tr>\n",
       "      <th>5</th>\n",
       "      <td>Data Scientist - Tableau/Power BI</td>\n",
       "      <td>Delhi</td>\n",
       "      <td>Talent Stock Solutions</td>\n",
       "      <td>1-3 Yrs</td>\n",
       "    </tr>\n",
       "    <tr>\n",
       "      <th>6</th>\n",
       "      <td>Data Scientist - Machine Learning/ Artificial ...</td>\n",
       "      <td>Delhi/NCR Delhi NCR, Noida</td>\n",
       "      <td>Talent Acceleration Corridor</td>\n",
       "      <td>6-11 Yrs</td>\n",
       "    </tr>\n",
       "    <tr>\n",
       "      <th>7</th>\n",
       "      <td>GCP Skilled Analytics Resources (Data engineer...</td>\n",
       "      <td>Pune, Bengaluru, Gurgaon</td>\n",
       "      <td>Aerial Telecom Solutions Pvt. Ltd.</td>\n",
       "      <td>3-8 Yrs</td>\n",
       "    </tr>\n",
       "    <tr>\n",
       "      <th>8</th>\n",
       "      <td>Data Scientist - IT</td>\n",
       "      <td>Gurgaon</td>\n",
       "      <td>Ehireo</td>\n",
       "      <td>4-9 Yrs</td>\n",
       "    </tr>\n",
       "    <tr>\n",
       "      <th>9</th>\n",
       "      <td>Data Scientist</td>\n",
       "      <td>Gurgaon Gurugram</td>\n",
       "      <td>IBM India Pvt. Limited</td>\n",
       "      <td>3-5 Yrs</td>\n",
       "    </tr>\n",
       "  </tbody>\n",
       "</table>\n",
       "</div>"
      ],
      "text/plain": [
       "                                           Job Title  \\\n",
       "0           Data Scientist - Python/Machine Learning   \n",
       "1     Tech Mahindra hiring For Data Scientist- Noida   \n",
       "2  Data Scientist - Commercial Planning and Analysis   \n",
       "3                                     Data Scientist   \n",
       "4             Data Scientist - Machine Learning/ NLP   \n",
       "5                  Data Scientist - Tableau/Power BI   \n",
       "6  Data Scientist - Machine Learning/ Artificial ...   \n",
       "7  GCP Skilled Analytics Resources (Data engineer...   \n",
       "8                                Data Scientist - IT   \n",
       "9                                     Data Scientist   \n",
       "\n",
       "                          Location                             Company  \\\n",
       "0                            Noida                               Jubna   \n",
       "1                            Noida                   tech mahindra ltd   \n",
       "2               Delhi NCR, Gurgaon              Air Asia India Limited   \n",
       "3  Faridabad, Delhi NCR, Ghaziabad                    Amity University   \n",
       "4                 Gurgaon Gurugram                              TalPro   \n",
       "5                            Delhi              Talent Stock Solutions   \n",
       "6       Delhi/NCR Delhi NCR, Noida        Talent Acceleration Corridor   \n",
       "7         Pune, Bengaluru, Gurgaon  Aerial Telecom Solutions Pvt. Ltd.   \n",
       "8                          Gurgaon                              Ehireo   \n",
       "9                 Gurgaon Gurugram              IBM India Pvt. Limited   \n",
       "\n",
       "  Experience  \n",
       "0    5-8 Yrs  \n",
       "1   5-10 Yrs  \n",
       "2    1-6 Yrs  \n",
       "3    6-8 Yrs  \n",
       "4    2-6 Yrs  \n",
       "5    1-3 Yrs  \n",
       "6   6-11 Yrs  \n",
       "7    3-8 Yrs  \n",
       "8    4-9 Yrs  \n",
       "9    3-5 Yrs  "
      ]
     },
     "execution_count": 82,
     "metadata": {},
     "output_type": "execute_result"
    }
   ],
   "source": [
    "Naukri_Job=pd.DataFrame([])\n",
    "Naukri_Job['Job Title']=Job_title[0:10]\n",
    "Naukri_Job['Location']=Job_location[0:10]\n",
    "Naukri_Job['Company']=Company_name[0:10]\n",
    "Naukri_Job['Experience']=Experience_required[0:10]\n",
    "Naukri_Job"
   ]
  },
  {
   "cell_type": "markdown",
   "metadata": {},
   "source": [
    "# Quetion 4"
   ]
  },
  {
   "cell_type": "code",
   "execution_count": null,
   "metadata": {},
   "outputs": [],
   "source": []
  },
  {
   "cell_type": "code",
   "execution_count": 83,
   "metadata": {},
   "outputs": [],
   "source": [
    "driver1 = webdriver.Chrome(r\"E:\\Aniket\\chromedriver_win32\\chromedriver.exe\")"
   ]
  },
  {
   "cell_type": "code",
   "execution_count": 84,
   "metadata": {},
   "outputs": [],
   "source": [
    "url_3=\"https://www.glassdoor.co.in/Job/noida-data-scientist-jobs-SRCH_IL.0,5_IC4477468_KO6,20.htm\""
   ]
  },
  {
   "cell_type": "code",
   "execution_count": 85,
   "metadata": {},
   "outputs": [],
   "source": [
    "driver1.get(url_3)"
   ]
  },
  {
   "cell_type": "code",
   "execution_count": 86,
   "metadata": {},
   "outputs": [],
   "source": [
    "Posting_Date=[]\n",
    "Company_Rating=[]\n",
    "Company_Name=[]"
   ]
  },
  {
   "cell_type": "code",
   "execution_count": 96,
   "metadata": {},
   "outputs": [
    {
     "data": {
      "text/plain": [
       "[<selenium.webdriver.remote.webelement.WebElement (session=\"f9054a4bd2f3e74b81f56177737801a3\", element=\"7c041bc0-0bd4-4e6c-a4fb-505effad042c\")>,\n",
       " <selenium.webdriver.remote.webelement.WebElement (session=\"f9054a4bd2f3e74b81f56177737801a3\", element=\"6f205e36-e39c-4699-adc7-e96db5072848\")>,\n",
       " <selenium.webdriver.remote.webelement.WebElement (session=\"f9054a4bd2f3e74b81f56177737801a3\", element=\"a6281326-a401-4f87-95b8-9a32f295d3ba\")>,\n",
       " <selenium.webdriver.remote.webelement.WebElement (session=\"f9054a4bd2f3e74b81f56177737801a3\", element=\"b19e75cc-eccb-4125-9668-b31589946bab\")>,\n",
       " <selenium.webdriver.remote.webelement.WebElement (session=\"f9054a4bd2f3e74b81f56177737801a3\", element=\"ec5fc0c9-c4ba-46d1-aa00-08b46c3b09cd\")>,\n",
       " <selenium.webdriver.remote.webelement.WebElement (session=\"f9054a4bd2f3e74b81f56177737801a3\", element=\"b32e27c1-ea85-454f-956d-86a0cdb264a2\")>,\n",
       " <selenium.webdriver.remote.webelement.WebElement (session=\"f9054a4bd2f3e74b81f56177737801a3\", element=\"0d014f1b-81a2-48f1-aed7-ebb3ac59a5ee\")>,\n",
       " <selenium.webdriver.remote.webelement.WebElement (session=\"f9054a4bd2f3e74b81f56177737801a3\", element=\"ea78f477-7867-4d23-87da-595badd588c5\")>,\n",
       " <selenium.webdriver.remote.webelement.WebElement (session=\"f9054a4bd2f3e74b81f56177737801a3\", element=\"efc48791-ef6f-4158-a2b9-9f8661eebd2f\")>,\n",
       " <selenium.webdriver.remote.webelement.WebElement (session=\"f9054a4bd2f3e74b81f56177737801a3\", element=\"419561c7-670f-40d4-8961-56c26e4bbd9f\")>]"
      ]
     },
     "execution_count": 96,
     "metadata": {},
     "output_type": "execute_result"
    }
   ],
   "source": [
    "TITLE=driver1.find_elements_by_xpath(\"//a[@class='jobLink css-1rd3saf eigr9kq2']\")\n",
    "TITLE[0:10]"
   ]
  },
  {
   "cell_type": "code",
   "execution_count": 97,
   "metadata": {},
   "outputs": [
    {
     "data": {
      "text/plain": [
       "['Data Scientist, Analytics',\n",
       " 'RAU-Data Scientist',\n",
       " 'Applied Data Scientist',\n",
       " '',\n",
       " '',\n",
       " '',\n",
       " '',\n",
       " '',\n",
       " '',\n",
       " '']"
      ]
     },
     "execution_count": 97,
     "metadata": {},
     "output_type": "execute_result"
    }
   ],
   "source": [
    "for i in TITLE:\n",
    "   \n",
    "    Company_Name.append(i.text)\n",
    "Company_Name=Company_Name[0:10]\n",
    "Company_Name"
   ]
  },
  {
   "cell_type": "code",
   "execution_count": 94,
   "metadata": {},
   "outputs": [
    {
     "data": {
      "text/plain": [
       "[<selenium.webdriver.remote.webelement.WebElement (session=\"f9054a4bd2f3e74b81f56177737801a3\", element=\"603f01f3-f8a5-42e0-b5ec-ad6252f1e562\")>,\n",
       " <selenium.webdriver.remote.webelement.WebElement (session=\"f9054a4bd2f3e74b81f56177737801a3\", element=\"11463609-a1e5-4d51-8703-6ac0a82d7f43\")>,\n",
       " <selenium.webdriver.remote.webelement.WebElement (session=\"f9054a4bd2f3e74b81f56177737801a3\", element=\"64725e80-28c7-4cd0-ada4-26411ba4554c\")>,\n",
       " <selenium.webdriver.remote.webelement.WebElement (session=\"f9054a4bd2f3e74b81f56177737801a3\", element=\"a7193d1a-f36d-4ed7-a075-196991351688\")>,\n",
       " <selenium.webdriver.remote.webelement.WebElement (session=\"f9054a4bd2f3e74b81f56177737801a3\", element=\"9a0edd44-b455-402d-a136-3ce7bd0fd56c\")>,\n",
       " <selenium.webdriver.remote.webelement.WebElement (session=\"f9054a4bd2f3e74b81f56177737801a3\", element=\"00b67fa8-30f6-4e43-af68-07a9461b2b21\")>,\n",
       " <selenium.webdriver.remote.webelement.WebElement (session=\"f9054a4bd2f3e74b81f56177737801a3\", element=\"2a2e685b-abde-4c46-9cdb-127bd03aff33\")>,\n",
       " <selenium.webdriver.remote.webelement.WebElement (session=\"f9054a4bd2f3e74b81f56177737801a3\", element=\"39802d70-fc14-45de-a4d7-320d4d1574ac\")>,\n",
       " <selenium.webdriver.remote.webelement.WebElement (session=\"f9054a4bd2f3e74b81f56177737801a3\", element=\"5aa3ea7c-786b-46a2-893a-e0bf7c10eb92\")>,\n",
       " <selenium.webdriver.remote.webelement.WebElement (session=\"f9054a4bd2f3e74b81f56177737801a3\", element=\"e13305f9-8e74-4847-9246-021857a626f3\")>,\n",
       " <selenium.webdriver.remote.webelement.WebElement (session=\"f9054a4bd2f3e74b81f56177737801a3\", element=\"f4fccfdc-9017-493a-8d29-585e0a4be083\")>,\n",
       " <selenium.webdriver.remote.webelement.WebElement (session=\"f9054a4bd2f3e74b81f56177737801a3\", element=\"dcce86f9-59e8-4a5a-be66-2994e55d244c\")>,\n",
       " <selenium.webdriver.remote.webelement.WebElement (session=\"f9054a4bd2f3e74b81f56177737801a3\", element=\"84776cce-dc41-4a57-a580-7f1d8db3ba2c\")>,\n",
       " <selenium.webdriver.remote.webelement.WebElement (session=\"f9054a4bd2f3e74b81f56177737801a3\", element=\"370891ab-1bda-4f37-926d-edcee306c70e\")>,\n",
       " <selenium.webdriver.remote.webelement.WebElement (session=\"f9054a4bd2f3e74b81f56177737801a3\", element=\"3e4c8a9a-1a3d-4789-81d6-385b5c722886\")>,\n",
       " <selenium.webdriver.remote.webelement.WebElement (session=\"f9054a4bd2f3e74b81f56177737801a3\", element=\"02eef782-4d4e-48fc-973a-99f0f92546c1\")>,\n",
       " <selenium.webdriver.remote.webelement.WebElement (session=\"f9054a4bd2f3e74b81f56177737801a3\", element=\"a48e2f50-3fb7-44e2-a6bc-336498ca6920\")>,\n",
       " <selenium.webdriver.remote.webelement.WebElement (session=\"f9054a4bd2f3e74b81f56177737801a3\", element=\"a2ed6729-254f-4fee-88d3-9f041e09c95d\")>,\n",
       " <selenium.webdriver.remote.webelement.WebElement (session=\"f9054a4bd2f3e74b81f56177737801a3\", element=\"3d372c06-82bc-4e31-b556-83acac27ed1c\")>]"
      ]
     },
     "execution_count": 94,
     "metadata": {},
     "output_type": "execute_result"
    }
   ],
   "source": [
    "rate=driver1.find_elements_by_xpath(\"//span[@class='css-19pjha7 e1cjmv6j1']\")\n",
    "rate"
   ]
  },
  {
   "cell_type": "code",
   "execution_count": 95,
   "metadata": {},
   "outputs": [
    {
     "data": {
      "text/plain": [
       "['3.7', '4.2', '', '', '', '', '', '', '', '']"
      ]
     },
     "execution_count": 95,
     "metadata": {},
     "output_type": "execute_result"
    }
   ],
   "source": [
    "for i in rate:\n",
    "   \n",
    "    Company_Rating.append(i.text)\n",
    "Company_Rating=Company_Rating[0:10]\n",
    "Company_Rating"
   ]
  },
  {
   "cell_type": "code",
   "execution_count": 91,
   "metadata": {},
   "outputs": [
    {
     "data": {
      "text/plain": [
       "[<selenium.webdriver.remote.webelement.WebElement (session=\"f9054a4bd2f3e74b81f56177737801a3\", element=\"79d24ba2-43c8-4e6f-9ac7-5e48de280e6b\")>,\n",
       " <selenium.webdriver.remote.webelement.WebElement (session=\"f9054a4bd2f3e74b81f56177737801a3\", element=\"039abced-a562-4e02-a5f7-b88b4800bafb\")>,\n",
       " <selenium.webdriver.remote.webelement.WebElement (session=\"f9054a4bd2f3e74b81f56177737801a3\", element=\"552db915-c181-4511-983a-e9df1bd7e40f\")>,\n",
       " <selenium.webdriver.remote.webelement.WebElement (session=\"f9054a4bd2f3e74b81f56177737801a3\", element=\"40c22240-49ed-4b96-9ddf-33d8ba5ff05e\")>,\n",
       " <selenium.webdriver.remote.webelement.WebElement (session=\"f9054a4bd2f3e74b81f56177737801a3\", element=\"189acb4e-efe6-4523-b710-d9a2d80a1953\")>,\n",
       " <selenium.webdriver.remote.webelement.WebElement (session=\"f9054a4bd2f3e74b81f56177737801a3\", element=\"0cbd957d-3e64-46c0-93b4-b187d02a62ab\")>,\n",
       " <selenium.webdriver.remote.webelement.WebElement (session=\"f9054a4bd2f3e74b81f56177737801a3\", element=\"d7e4a39e-c45b-4e83-9910-8fa2607c8e09\")>,\n",
       " <selenium.webdriver.remote.webelement.WebElement (session=\"f9054a4bd2f3e74b81f56177737801a3\", element=\"3bd12adb-fa55-498a-a067-86d7b44150a5\")>,\n",
       " <selenium.webdriver.remote.webelement.WebElement (session=\"f9054a4bd2f3e74b81f56177737801a3\", element=\"8c1da6f8-7bf5-48a7-8a3f-44e987077e82\")>,\n",
       " <selenium.webdriver.remote.webelement.WebElement (session=\"f9054a4bd2f3e74b81f56177737801a3\", element=\"d2e51bce-52b2-4cf0-8f01-29d9d246a48b\")>,\n",
       " <selenium.webdriver.remote.webelement.WebElement (session=\"f9054a4bd2f3e74b81f56177737801a3\", element=\"2a9ee0e5-3afe-4f6b-86df-89de98f3ad5f\")>,\n",
       " <selenium.webdriver.remote.webelement.WebElement (session=\"f9054a4bd2f3e74b81f56177737801a3\", element=\"bfa4ab44-350d-4ad3-8d84-c2ab2be1568f\")>,\n",
       " <selenium.webdriver.remote.webelement.WebElement (session=\"f9054a4bd2f3e74b81f56177737801a3\", element=\"027426c5-71ba-4017-b875-71e8c1229838\")>,\n",
       " <selenium.webdriver.remote.webelement.WebElement (session=\"f9054a4bd2f3e74b81f56177737801a3\", element=\"cf1e6a5a-c964-49e0-9345-2db6e77f0a34\")>,\n",
       " <selenium.webdriver.remote.webelement.WebElement (session=\"f9054a4bd2f3e74b81f56177737801a3\", element=\"5a2bf8a0-7c7d-4d85-9a8a-42c64d2c3cae\")>,\n",
       " <selenium.webdriver.remote.webelement.WebElement (session=\"f9054a4bd2f3e74b81f56177737801a3\", element=\"d030efdd-6fd0-48f7-985a-0e3937a1dbd9\")>,\n",
       " <selenium.webdriver.remote.webelement.WebElement (session=\"f9054a4bd2f3e74b81f56177737801a3\", element=\"ef04f23e-fdb7-477c-8f5c-442b647a8238\")>,\n",
       " <selenium.webdriver.remote.webelement.WebElement (session=\"f9054a4bd2f3e74b81f56177737801a3\", element=\"6a16bc76-4a02-41e1-aa9f-76d91fc83d69\")>,\n",
       " <selenium.webdriver.remote.webelement.WebElement (session=\"f9054a4bd2f3e74b81f56177737801a3\", element=\"2eb893e6-2229-4bf2-8627-132b551837d9\")>,\n",
       " <selenium.webdriver.remote.webelement.WebElement (session=\"f9054a4bd2f3e74b81f56177737801a3\", element=\"0ac1de00-a457-4f9f-a3b6-ae047490326a\")>,\n",
       " <selenium.webdriver.remote.webelement.WebElement (session=\"f9054a4bd2f3e74b81f56177737801a3\", element=\"ddcc9f1d-fd02-40fc-a0ea-3d39de3b2435\")>,\n",
       " <selenium.webdriver.remote.webelement.WebElement (session=\"f9054a4bd2f3e74b81f56177737801a3\", element=\"27adca21-f6f1-43c8-bb14-d24c74c1d2c5\")>,\n",
       " <selenium.webdriver.remote.webelement.WebElement (session=\"f9054a4bd2f3e74b81f56177737801a3\", element=\"1b4553f5-6733-46e4-a3b5-14a8ba7d11e9\")>,\n",
       " <selenium.webdriver.remote.webelement.WebElement (session=\"f9054a4bd2f3e74b81f56177737801a3\", element=\"20b05688-6a02-40cc-a27a-35dec9fd42d3\")>,\n",
       " <selenium.webdriver.remote.webelement.WebElement (session=\"f9054a4bd2f3e74b81f56177737801a3\", element=\"aa00b149-86f8-440f-9450-cf766a7371b6\")>,\n",
       " <selenium.webdriver.remote.webelement.WebElement (session=\"f9054a4bd2f3e74b81f56177737801a3\", element=\"3e953fae-4ba6-4213-9bd7-d05762c87b5a\")>,\n",
       " <selenium.webdriver.remote.webelement.WebElement (session=\"f9054a4bd2f3e74b81f56177737801a3\", element=\"dd11ec01-4b11-4b05-8045-8f8ee814e29b\")>,\n",
       " <selenium.webdriver.remote.webelement.WebElement (session=\"f9054a4bd2f3e74b81f56177737801a3\", element=\"41fce57b-0a0f-4bfc-8e33-f13bae417ab0\")>,\n",
       " <selenium.webdriver.remote.webelement.WebElement (session=\"f9054a4bd2f3e74b81f56177737801a3\", element=\"cd362f91-0202-47c7-ad81-6135ec631054\")>,\n",
       " <selenium.webdriver.remote.webelement.WebElement (session=\"f9054a4bd2f3e74b81f56177737801a3\", element=\"f8de9432-2a01-4258-8aac-77b7a8454afb\")>]"
      ]
     },
     "execution_count": 91,
     "metadata": {},
     "output_type": "execute_result"
    }
   ],
   "source": [
    "post=driver1.find_elements_by_xpath(\"//div[@class='d-flex align-items-end pl-std css-mi55ob']\")\n",
    "post"
   ]
  },
  {
   "cell_type": "code",
   "execution_count": 92,
   "metadata": {},
   "outputs": [
    {
     "data": {
      "text/plain": [
       "['1d', '4d', '1d', '17d', '30d+', '24h', '30d+', '30d+', '1d', '30d+']"
      ]
     },
     "execution_count": 92,
     "metadata": {},
     "output_type": "execute_result"
    }
   ],
   "source": [
    "for i in post:\n",
    "   \n",
    "    C=i.text\n",
    "    Posting_Date.append(C)\n",
    "Posting_Date=Posting_Date[0:10]\n",
    "Posting_Date"
   ]
  },
  {
   "cell_type": "code",
   "execution_count": 98,
   "metadata": {},
   "outputs": [
    {
     "data": {
      "text/html": [
       "<div>\n",
       "<style scoped>\n",
       "    .dataframe tbody tr th:only-of-type {\n",
       "        vertical-align: middle;\n",
       "    }\n",
       "\n",
       "    .dataframe tbody tr th {\n",
       "        vertical-align: top;\n",
       "    }\n",
       "\n",
       "    .dataframe thead th {\n",
       "        text-align: right;\n",
       "    }\n",
       "</style>\n",
       "<table border=\"1\" class=\"dataframe\">\n",
       "  <thead>\n",
       "    <tr style=\"text-align: right;\">\n",
       "      <th></th>\n",
       "      <th>Job Title</th>\n",
       "      <th>Location</th>\n",
       "      <th>Rating</th>\n",
       "    </tr>\n",
       "  </thead>\n",
       "  <tbody>\n",
       "    <tr>\n",
       "      <th>0</th>\n",
       "      <td>Data Scientist, Analytics</td>\n",
       "      <td>1d</td>\n",
       "      <td>3.7</td>\n",
       "    </tr>\n",
       "    <tr>\n",
       "      <th>1</th>\n",
       "      <td>RAU-Data Scientist</td>\n",
       "      <td>4d</td>\n",
       "      <td>4.2</td>\n",
       "    </tr>\n",
       "    <tr>\n",
       "      <th>2</th>\n",
       "      <td>Applied Data Scientist</td>\n",
       "      <td>1d</td>\n",
       "      <td></td>\n",
       "    </tr>\n",
       "    <tr>\n",
       "      <th>3</th>\n",
       "      <td></td>\n",
       "      <td>17d</td>\n",
       "      <td></td>\n",
       "    </tr>\n",
       "    <tr>\n",
       "      <th>4</th>\n",
       "      <td></td>\n",
       "      <td>30d+</td>\n",
       "      <td></td>\n",
       "    </tr>\n",
       "    <tr>\n",
       "      <th>5</th>\n",
       "      <td></td>\n",
       "      <td>24h</td>\n",
       "      <td></td>\n",
       "    </tr>\n",
       "    <tr>\n",
       "      <th>6</th>\n",
       "      <td></td>\n",
       "      <td>30d+</td>\n",
       "      <td></td>\n",
       "    </tr>\n",
       "    <tr>\n",
       "      <th>7</th>\n",
       "      <td></td>\n",
       "      <td>30d+</td>\n",
       "      <td></td>\n",
       "    </tr>\n",
       "    <tr>\n",
       "      <th>8</th>\n",
       "      <td></td>\n",
       "      <td>1d</td>\n",
       "      <td></td>\n",
       "    </tr>\n",
       "    <tr>\n",
       "      <th>9</th>\n",
       "      <td></td>\n",
       "      <td>30d+</td>\n",
       "      <td></td>\n",
       "    </tr>\n",
       "  </tbody>\n",
       "</table>\n",
       "</div>"
      ],
      "text/plain": [
       "                   Job Title Location Rating\n",
       "0  Data Scientist, Analytics       1d    3.7\n",
       "1         RAU-Data Scientist       4d    4.2\n",
       "2     Applied Data Scientist       1d       \n",
       "3                                 17d       \n",
       "4                                30d+       \n",
       "5                                 24h       \n",
       "6                                30d+       \n",
       "7                                30d+       \n",
       "8                                  1d       \n",
       "9                                30d+       "
      ]
     },
     "execution_count": 98,
     "metadata": {},
     "output_type": "execute_result"
    }
   ],
   "source": [
    "Glassdoor_Job=pd.DataFrame([])\n",
    "Glassdoor_Job['Job Title']=Company_Name[0:10]\n",
    "Glassdoor_Job['Location']=Posting_Date[0:10]\n",
    "Glassdoor_Job['Rating']=Company_Rating[0:10]\n",
    "Glassdoor_Job"
   ]
  },
  {
   "cell_type": "code",
   "execution_count": null,
   "metadata": {},
   "outputs": [],
   "source": []
  },
  {
   "cell_type": "markdown",
   "metadata": {},
   "source": [
    "# Quetion - 5"
   ]
  },
  {
   "cell_type": "code",
   "execution_count": 99,
   "metadata": {},
   "outputs": [],
   "source": [
    "driver1 = webdriver.Chrome(r\"E:\\Aniket\\chromedriver_win32\\chromedriver.exe\")"
   ]
  },
  {
   "cell_type": "code",
   "execution_count": 100,
   "metadata": {},
   "outputs": [],
   "source": [
    "url_4=\"https://www.glassdoor.co.in/Salaries/new-delhi-data-scientist-salary-SRCH_IL.0,9_IM1083_KO10,24.htm?clickSource=searchBtn\""
   ]
  },
  {
   "cell_type": "code",
   "execution_count": 101,
   "metadata": {},
   "outputs": [],
   "source": [
    "driver1.get(url_4)"
   ]
  },
  {
   "cell_type": "code",
   "execution_count": 102,
   "metadata": {},
   "outputs": [],
   "source": [
    "minimax=[]\n",
    "m=[]\n",
    "Avg_Salary=[]\n",
    "CompanyRating=[]\n",
    "CompanyName=[]\n",
    "NumberOfSalary=[]"
   ]
  },
  {
   "cell_type": "code",
   "execution_count": 103,
   "metadata": {},
   "outputs": [
    {
     "data": {
      "text/plain": [
       "[<selenium.webdriver.remote.webelement.WebElement (session=\"c7f2f03d3e23ddcd06248ef6cc1ecab9\", element=\"e71fad9a-c875-4718-8f64-26d4587029f2\")>,\n",
       " <selenium.webdriver.remote.webelement.WebElement (session=\"c7f2f03d3e23ddcd06248ef6cc1ecab9\", element=\"c12592d7-a243-4b3a-8793-598fba2414c3\")>,\n",
       " <selenium.webdriver.remote.webelement.WebElement (session=\"c7f2f03d3e23ddcd06248ef6cc1ecab9\", element=\"5fe1f695-fbb0-4d91-ba3a-4daf0f4731ba\")>,\n",
       " <selenium.webdriver.remote.webelement.WebElement (session=\"c7f2f03d3e23ddcd06248ef6cc1ecab9\", element=\"a8b4188d-78c3-4b70-a209-cf59d4d045ce\")>,\n",
       " <selenium.webdriver.remote.webelement.WebElement (session=\"c7f2f03d3e23ddcd06248ef6cc1ecab9\", element=\"c89f9914-de74-43de-83a9-cb6a616fec59\")>,\n",
       " <selenium.webdriver.remote.webelement.WebElement (session=\"c7f2f03d3e23ddcd06248ef6cc1ecab9\", element=\"acd53612-577d-405d-8568-21161a280b01\")>,\n",
       " <selenium.webdriver.remote.webelement.WebElement (session=\"c7f2f03d3e23ddcd06248ef6cc1ecab9\", element=\"f163fa4a-2655-4f94-911a-67bb79a323dd\")>,\n",
       " <selenium.webdriver.remote.webelement.WebElement (session=\"c7f2f03d3e23ddcd06248ef6cc1ecab9\", element=\"a85a7f17-f25c-49a9-8a56-21d69aa74efc\")>,\n",
       " <selenium.webdriver.remote.webelement.WebElement (session=\"c7f2f03d3e23ddcd06248ef6cc1ecab9\", element=\"8f95165a-9eeb-41c8-825c-7f5fab007f20\")>,\n",
       " <selenium.webdriver.remote.webelement.WebElement (session=\"c7f2f03d3e23ddcd06248ef6cc1ecab9\", element=\"66be1090-936d-4f67-a5e7-82dd32060e0c\")>]"
      ]
     },
     "execution_count": 103,
     "metadata": {},
     "output_type": "execute_result"
    }
   ],
   "source": [
    "Asal=driver1.find_elements_by_xpath(\"//div[@class='col-2 d-none d-md-flex flex-row justify-content-end']\")\n",
    "Asal[0:10]"
   ]
  },
  {
   "cell_type": "code",
   "execution_count": 104,
   "metadata": {},
   "outputs": [
    {
     "data": {
      "text/plain": [
       "['₹ 12,81,419/yr',\n",
       " '₹ 7,52,052/yr',\n",
       " '₹ 9,98,925/yr',\n",
       " '₹ 6,02,000/yr',\n",
       " '₹ 7,71,657/yr',\n",
       " '₹ 13,55,346/yr',\n",
       " '₹ 7,91,015/yr',\n",
       " '₹ 12,15,138/yr',\n",
       " '₹ 10,21,889/yr',\n",
       " '₹ 10,00,000/yr']"
      ]
     },
     "execution_count": 104,
     "metadata": {},
     "output_type": "execute_result"
    }
   ],
   "source": [
    "for i in Asal:\n",
    "   \n",
    "    Avg_Salary.append(str(i.text).replace(\"\\n\",\"\"))\n",
    "Avg_Salary=Avg_Salary[0:10]\n",
    "Avg_Salary"
   ]
  },
  {
   "cell_type": "code",
   "execution_count": 105,
   "metadata": {},
   "outputs": [
    {
     "data": {
      "text/plain": [
       "[<selenium.webdriver.remote.webelement.WebElement (session=\"c7f2f03d3e23ddcd06248ef6cc1ecab9\", element=\"d9957433-70b2-42d0-a204-e5de77b91d0f\")>,\n",
       " <selenium.webdriver.remote.webelement.WebElement (session=\"c7f2f03d3e23ddcd06248ef6cc1ecab9\", element=\"1816810b-536f-4a8b-aa38-e465c148a7d8\")>,\n",
       " <selenium.webdriver.remote.webelement.WebElement (session=\"c7f2f03d3e23ddcd06248ef6cc1ecab9\", element=\"d904efe8-81d6-411a-b7b8-9bc7c2a9df76\")>,\n",
       " <selenium.webdriver.remote.webelement.WebElement (session=\"c7f2f03d3e23ddcd06248ef6cc1ecab9\", element=\"873fd73c-1f56-4cb9-8d6f-f198a238fa08\")>,\n",
       " <selenium.webdriver.remote.webelement.WebElement (session=\"c7f2f03d3e23ddcd06248ef6cc1ecab9\", element=\"0e2aff07-e382-4e9d-bcb8-cee2d379543f\")>,\n",
       " <selenium.webdriver.remote.webelement.WebElement (session=\"c7f2f03d3e23ddcd06248ef6cc1ecab9\", element=\"8b26432d-3a95-490c-81d4-4f6e72b61a23\")>,\n",
       " <selenium.webdriver.remote.webelement.WebElement (session=\"c7f2f03d3e23ddcd06248ef6cc1ecab9\", element=\"db6277a9-d637-4a0a-8d98-41250289b263\")>,\n",
       " <selenium.webdriver.remote.webelement.WebElement (session=\"c7f2f03d3e23ddcd06248ef6cc1ecab9\", element=\"3735a1d1-a561-47a1-9869-124e7c17cb07\")>,\n",
       " <selenium.webdriver.remote.webelement.WebElement (session=\"c7f2f03d3e23ddcd06248ef6cc1ecab9\", element=\"c0e649d6-91a7-40fe-9824-6e6d07c359c1\")>,\n",
       " <selenium.webdriver.remote.webelement.WebElement (session=\"c7f2f03d3e23ddcd06248ef6cc1ecab9\", element=\"58feaac7-32b8-4571-9822-5b5c2e1c4de1\")>,\n",
       " <selenium.webdriver.remote.webelement.WebElement (session=\"c7f2f03d3e23ddcd06248ef6cc1ecab9\", element=\"44d13007-501e-4e42-b245-0edd1b85b727\")>,\n",
       " <selenium.webdriver.remote.webelement.WebElement (session=\"c7f2f03d3e23ddcd06248ef6cc1ecab9\", element=\"da5db910-30d0-4ca4-9cd5-b6added468f9\")>,\n",
       " <selenium.webdriver.remote.webelement.WebElement (session=\"c7f2f03d3e23ddcd06248ef6cc1ecab9\", element=\"8be2830a-da70-47ac-849a-c4c5255c8d56\")>,\n",
       " <selenium.webdriver.remote.webelement.WebElement (session=\"c7f2f03d3e23ddcd06248ef6cc1ecab9\", element=\"c8bb1165-cb58-4548-9f08-9f59903b9997\")>,\n",
       " <selenium.webdriver.remote.webelement.WebElement (session=\"c7f2f03d3e23ddcd06248ef6cc1ecab9\", element=\"2e2e0f75-f04a-4a65-887e-909b640d2126\")>,\n",
       " <selenium.webdriver.remote.webelement.WebElement (session=\"c7f2f03d3e23ddcd06248ef6cc1ecab9\", element=\"256581c1-f2b7-4e7d-bd81-a6d5da7139a5\")>,\n",
       " <selenium.webdriver.remote.webelement.WebElement (session=\"c7f2f03d3e23ddcd06248ef6cc1ecab9\", element=\"261c136d-7249-405f-8ea5-8dd6b3715009\")>,\n",
       " <selenium.webdriver.remote.webelement.WebElement (session=\"c7f2f03d3e23ddcd06248ef6cc1ecab9\", element=\"a6c3d386-bf3a-449a-ad1c-ed95a973f459\")>,\n",
       " <selenium.webdriver.remote.webelement.WebElement (session=\"c7f2f03d3e23ddcd06248ef6cc1ecab9\", element=\"135fe2c2-51d1-461e-948a-d1a4f6da3c29\")>,\n",
       " <selenium.webdriver.remote.webelement.WebElement (session=\"c7f2f03d3e23ddcd06248ef6cc1ecab9\", element=\"a0569f56-d1f0-48c8-a527-000d2aff1adc\")>]"
      ]
     },
     "execution_count": 105,
     "metadata": {},
     "output_type": "execute_result"
    }
   ],
   "source": [
    "Nsal=driver1.find_elements_by_xpath(\"//p[@class='css-1uyte9r css-1kuy7z7 m-0 ']\")\n",
    "Nsal"
   ]
  },
  {
   "cell_type": "code",
   "execution_count": 106,
   "metadata": {},
   "outputs": [
    {
     "data": {
      "text/plain": [
       "['13 salaries',\n",
       " '11 salaries',\n",
       " '10 salaries',\n",
       " '9 salaries',\n",
       " '9 salaries',\n",
       " '9 salaries',\n",
       " '8 salaries',\n",
       " '7 salaries',\n",
       " '6 salaries',\n",
       " '5 salaries']"
      ]
     },
     "execution_count": 106,
     "metadata": {},
     "output_type": "execute_result"
    }
   ],
   "source": [
    "for i in Nsal:\n",
    "   \n",
    "    NumberOfSalary.append(i.text)\n",
    "    \n",
    "NumberOfSalary=NumberOfSalary[0:10]\n",
    "NumberOfSalary"
   ]
  },
  {
   "cell_type": "code",
   "execution_count": 107,
   "metadata": {},
   "outputs": [
    {
     "data": {
      "text/plain": [
       "[<selenium.webdriver.remote.webelement.WebElement (session=\"c7f2f03d3e23ddcd06248ef6cc1ecab9\", element=\"1413e9bd-b2f9-4e65-9629-23eaf1273fec\")>,\n",
       " <selenium.webdriver.remote.webelement.WebElement (session=\"c7f2f03d3e23ddcd06248ef6cc1ecab9\", element=\"c07dbd06-0111-422e-831d-ee3084896a4e\")>,\n",
       " <selenium.webdriver.remote.webelement.WebElement (session=\"c7f2f03d3e23ddcd06248ef6cc1ecab9\", element=\"f6149ccb-b41b-4dfa-a923-b6b07aa4e70b\")>,\n",
       " <selenium.webdriver.remote.webelement.WebElement (session=\"c7f2f03d3e23ddcd06248ef6cc1ecab9\", element=\"366b13e4-186a-46aa-9b70-3831a5b8c072\")>,\n",
       " <selenium.webdriver.remote.webelement.WebElement (session=\"c7f2f03d3e23ddcd06248ef6cc1ecab9\", element=\"71a60ff7-55ed-4ab5-b07d-cf5fc12f028b\")>,\n",
       " <selenium.webdriver.remote.webelement.WebElement (session=\"c7f2f03d3e23ddcd06248ef6cc1ecab9\", element=\"dc63c3c6-8ecd-47a8-b38a-a2f8518e8eea\")>,\n",
       " <selenium.webdriver.remote.webelement.WebElement (session=\"c7f2f03d3e23ddcd06248ef6cc1ecab9\", element=\"add3d3b3-6ae3-40f8-8dc7-d9ff4ca9a2a8\")>,\n",
       " <selenium.webdriver.remote.webelement.WebElement (session=\"c7f2f03d3e23ddcd06248ef6cc1ecab9\", element=\"2c09710e-9986-471e-a136-c2c7760bbcba\")>,\n",
       " <selenium.webdriver.remote.webelement.WebElement (session=\"c7f2f03d3e23ddcd06248ef6cc1ecab9\", element=\"68ef55ee-c407-47de-8beb-51f1ff6c5e9e\")>,\n",
       " <selenium.webdriver.remote.webelement.WebElement (session=\"c7f2f03d3e23ddcd06248ef6cc1ecab9\", element=\"ece8008e-2cb2-43ac-9438-b8542eb33b2f\")>,\n",
       " <selenium.webdriver.remote.webelement.WebElement (session=\"c7f2f03d3e23ddcd06248ef6cc1ecab9\", element=\"1f1ddd91-79b0-4e31-95bd-907653e16ca2\")>,\n",
       " <selenium.webdriver.remote.webelement.WebElement (session=\"c7f2f03d3e23ddcd06248ef6cc1ecab9\", element=\"ad449e32-9f6d-4acc-8f52-81578bd69f49\")>,\n",
       " <selenium.webdriver.remote.webelement.WebElement (session=\"c7f2f03d3e23ddcd06248ef6cc1ecab9\", element=\"d0c1de4f-45e4-400a-ae5b-557f5c4fa916\")>,\n",
       " <selenium.webdriver.remote.webelement.WebElement (session=\"c7f2f03d3e23ddcd06248ef6cc1ecab9\", element=\"542d622b-326b-4418-a9f8-b2bc0b951f69\")>,\n",
       " <selenium.webdriver.remote.webelement.WebElement (session=\"c7f2f03d3e23ddcd06248ef6cc1ecab9\", element=\"7ddeeb06-2ef6-4283-b534-fdf587008d47\")>,\n",
       " <selenium.webdriver.remote.webelement.WebElement (session=\"c7f2f03d3e23ddcd06248ef6cc1ecab9\", element=\"9582a21a-2fec-4c55-8eed-fcb46a6bb971\")>,\n",
       " <selenium.webdriver.remote.webelement.WebElement (session=\"c7f2f03d3e23ddcd06248ef6cc1ecab9\", element=\"ffc0b4b6-4025-4010-a3d4-9687a8018d1b\")>,\n",
       " <selenium.webdriver.remote.webelement.WebElement (session=\"c7f2f03d3e23ddcd06248ef6cc1ecab9\", element=\"0da13d15-1f9e-41d9-a4b7-93985e5176c0\")>,\n",
       " <selenium.webdriver.remote.webelement.WebElement (session=\"c7f2f03d3e23ddcd06248ef6cc1ecab9\", element=\"c67d06af-a078-4805-9b10-c32ad0ad9130\")>,\n",
       " <selenium.webdriver.remote.webelement.WebElement (session=\"c7f2f03d3e23ddcd06248ef6cc1ecab9\", element=\"3c7f7b95-451d-4375-a963-552cd5891792\")>]"
      ]
     },
     "execution_count": 107,
     "metadata": {},
     "output_type": "execute_result"
    }
   ],
   "source": [
    "cname=driver1.find_elements_by_xpath(\"//div[@data-test='job-info']/p[2]\")\n",
    "cname"
   ]
  },
  {
   "cell_type": "code",
   "execution_count": 108,
   "metadata": {},
   "outputs": [
    {
     "data": {
      "text/plain": [
       "['Delhivery',\n",
       " 'Ericsson-Worldwide',\n",
       " 'Accenture',\n",
       " 'Tata Consultancy Services',\n",
       " 'IBM',\n",
       " 'UnitedHealth Group',\n",
       " 'Valiance Solutions',\n",
       " 'Innovaccer',\n",
       " 'Cognizant Technology Solutions',\n",
       " 'ZS Associates']"
      ]
     },
     "execution_count": 108,
     "metadata": {},
     "output_type": "execute_result"
    }
   ],
   "source": [
    "for i in cname:\n",
    "   \n",
    "    CompanyName.append(i.text)\n",
    "CompanyName=CompanyName[0:10]\n",
    "CompanyName"
   ]
  },
  {
   "cell_type": "code",
   "execution_count": null,
   "metadata": {},
   "outputs": [],
   "source": []
  },
  {
   "cell_type": "code",
   "execution_count": null,
   "metadata": {},
   "outputs": [],
   "source": []
  },
  {
   "cell_type": "code",
   "execution_count": 109,
   "metadata": {},
   "outputs": [
    {
     "data": {
      "text/plain": [
       "[<selenium.webdriver.remote.webelement.WebElement (session=\"c7f2f03d3e23ddcd06248ef6cc1ecab9\", element=\"06009f85-a7dc-4169-b11e-d3fd2d80e76d\")>,\n",
       " <selenium.webdriver.remote.webelement.WebElement (session=\"c7f2f03d3e23ddcd06248ef6cc1ecab9\", element=\"2aba31bf-4e14-4ee4-a6b0-98abdc95504b\")>,\n",
       " <selenium.webdriver.remote.webelement.WebElement (session=\"c7f2f03d3e23ddcd06248ef6cc1ecab9\", element=\"8641c86e-bdc1-455d-8539-5031c7c63a04\")>,\n",
       " <selenium.webdriver.remote.webelement.WebElement (session=\"c7f2f03d3e23ddcd06248ef6cc1ecab9\", element=\"1e181592-0ed6-406a-acee-068f93053929\")>,\n",
       " <selenium.webdriver.remote.webelement.WebElement (session=\"c7f2f03d3e23ddcd06248ef6cc1ecab9\", element=\"fb88afd1-c3c5-4494-96d5-24d7081f5715\")>,\n",
       " <selenium.webdriver.remote.webelement.WebElement (session=\"c7f2f03d3e23ddcd06248ef6cc1ecab9\", element=\"b5c5db85-3dc7-4da8-8a0d-39d937db7e2d\")>,\n",
       " <selenium.webdriver.remote.webelement.WebElement (session=\"c7f2f03d3e23ddcd06248ef6cc1ecab9\", element=\"e2ccb693-8047-45df-8912-ceed0c37cc01\")>,\n",
       " <selenium.webdriver.remote.webelement.WebElement (session=\"c7f2f03d3e23ddcd06248ef6cc1ecab9\", element=\"64f5369a-d25a-4e3e-a67c-545511a0dc0e\")>,\n",
       " <selenium.webdriver.remote.webelement.WebElement (session=\"c7f2f03d3e23ddcd06248ef6cc1ecab9\", element=\"ff4e0b39-78e5-41d3-8c1c-cab919f7cd50\")>,\n",
       " <selenium.webdriver.remote.webelement.WebElement (session=\"c7f2f03d3e23ddcd06248ef6cc1ecab9\", element=\"401f77c3-32d0-4bb4-9e40-d13b1d0ad9a0\")>,\n",
       " <selenium.webdriver.remote.webelement.WebElement (session=\"c7f2f03d3e23ddcd06248ef6cc1ecab9\", element=\"ca9fc455-1688-4633-9cac-bd685af73b8c\")>,\n",
       " <selenium.webdriver.remote.webelement.WebElement (session=\"c7f2f03d3e23ddcd06248ef6cc1ecab9\", element=\"cc030798-2c6d-4819-ac45-74ccb7f9844c\")>,\n",
       " <selenium.webdriver.remote.webelement.WebElement (session=\"c7f2f03d3e23ddcd06248ef6cc1ecab9\", element=\"8e3ba112-af6f-4903-ac06-1c813ac3e515\")>,\n",
       " <selenium.webdriver.remote.webelement.WebElement (session=\"c7f2f03d3e23ddcd06248ef6cc1ecab9\", element=\"1a54a51d-3041-45b2-a68a-11b846cd30d5\")>,\n",
       " <selenium.webdriver.remote.webelement.WebElement (session=\"c7f2f03d3e23ddcd06248ef6cc1ecab9\", element=\"66a76c3e-1cc8-415d-b089-201570ab842a\")>,\n",
       " <selenium.webdriver.remote.webelement.WebElement (session=\"c7f2f03d3e23ddcd06248ef6cc1ecab9\", element=\"483347e7-51d1-4dba-bc04-76a5150ac02d\")>,\n",
       " <selenium.webdriver.remote.webelement.WebElement (session=\"c7f2f03d3e23ddcd06248ef6cc1ecab9\", element=\"53d14e3b-065a-42cc-b30c-0792f5bb3ef4\")>,\n",
       " <selenium.webdriver.remote.webelement.WebElement (session=\"c7f2f03d3e23ddcd06248ef6cc1ecab9\", element=\"41f33df6-13b7-4d3b-a3b3-5a6c26405322\")>,\n",
       " <selenium.webdriver.remote.webelement.WebElement (session=\"c7f2f03d3e23ddcd06248ef6cc1ecab9\", element=\"3f0066c0-1118-4704-9e10-0997c0270c3c\")>,\n",
       " <selenium.webdriver.remote.webelement.WebElement (session=\"c7f2f03d3e23ddcd06248ef6cc1ecab9\", element=\"9f925594-5fba-43cf-a3f1-fdefe5e574bd\")>]"
      ]
     },
     "execution_count": 109,
     "metadata": {},
     "output_type": "execute_result"
    }
   ],
   "source": [
    "mmsal=driver1.find_elements_by_xpath(\"//div[@class='common__RangeBarStyle__values common__flex__justifySpaceBetween common__flex__container ']\")\n",
    "mmsal"
   ]
  },
  {
   "cell_type": "code",
   "execution_count": null,
   "metadata": {},
   "outputs": [],
   "source": []
  },
  {
   "cell_type": "code",
   "execution_count": 110,
   "metadata": {},
   "outputs": [
    {
     "data": {
      "text/plain": [
       "['₹456K-->₹11,789K',\n",
       " '₹420K-->₹1,636K',\n",
       " '₹585K-->₹2,200K',\n",
       " '₹336K-->₹1,024K',\n",
       " '₹595K-->₹2,769K',\n",
       " '₹727K-->₹1,597K',\n",
       " '₹509K-->₹1,168K',\n",
       " '₹629K-->₹1,719K',\n",
       " '₹804K-->₹1,281K',\n",
       " '₹205K-->₹1,835K']"
      ]
     },
     "execution_count": 110,
     "metadata": {},
     "output_type": "execute_result"
    }
   ],
   "source": [
    "for i in mmsal:\n",
    "    m=i.text.replace('\\n','-->')\n",
    "    minimax.append(m)\n",
    "minimax=minimax[0:10]\n",
    "minimax"
   ]
  },
  {
   "cell_type": "code",
   "execution_count": null,
   "metadata": {},
   "outputs": [],
   "source": []
  },
  {
   "cell_type": "code",
   "execution_count": 111,
   "metadata": {},
   "outputs": [
    {
     "data": {
      "text/html": [
       "<div>\n",
       "<style scoped>\n",
       "    .dataframe tbody tr th:only-of-type {\n",
       "        vertical-align: middle;\n",
       "    }\n",
       "\n",
       "    .dataframe tbody tr th {\n",
       "        vertical-align: top;\n",
       "    }\n",
       "\n",
       "    .dataframe thead th {\n",
       "        text-align: right;\n",
       "    }\n",
       "</style>\n",
       "<table border=\"1\" class=\"dataframe\">\n",
       "  <thead>\n",
       "    <tr style=\"text-align: right;\">\n",
       "      <th></th>\n",
       "      <th>Company</th>\n",
       "      <th>Number Of Salary</th>\n",
       "      <th>Avgrage Salary</th>\n",
       "      <th>Min/Maxi Salary</th>\n",
       "    </tr>\n",
       "  </thead>\n",
       "  <tbody>\n",
       "    <tr>\n",
       "      <th>0</th>\n",
       "      <td>Delhivery</td>\n",
       "      <td>13 salaries</td>\n",
       "      <td>₹ 12,81,419/yr</td>\n",
       "      <td>₹456K--&gt;₹11,789K</td>\n",
       "    </tr>\n",
       "    <tr>\n",
       "      <th>1</th>\n",
       "      <td>Ericsson-Worldwide</td>\n",
       "      <td>11 salaries</td>\n",
       "      <td>₹ 7,52,052/yr</td>\n",
       "      <td>₹420K--&gt;₹1,636K</td>\n",
       "    </tr>\n",
       "    <tr>\n",
       "      <th>2</th>\n",
       "      <td>Accenture</td>\n",
       "      <td>10 salaries</td>\n",
       "      <td>₹ 9,98,925/yr</td>\n",
       "      <td>₹585K--&gt;₹2,200K</td>\n",
       "    </tr>\n",
       "    <tr>\n",
       "      <th>3</th>\n",
       "      <td>Tata Consultancy Services</td>\n",
       "      <td>9 salaries</td>\n",
       "      <td>₹ 6,02,000/yr</td>\n",
       "      <td>₹336K--&gt;₹1,024K</td>\n",
       "    </tr>\n",
       "    <tr>\n",
       "      <th>4</th>\n",
       "      <td>IBM</td>\n",
       "      <td>9 salaries</td>\n",
       "      <td>₹ 7,71,657/yr</td>\n",
       "      <td>₹595K--&gt;₹2,769K</td>\n",
       "    </tr>\n",
       "    <tr>\n",
       "      <th>5</th>\n",
       "      <td>UnitedHealth Group</td>\n",
       "      <td>9 salaries</td>\n",
       "      <td>₹ 13,55,346/yr</td>\n",
       "      <td>₹727K--&gt;₹1,597K</td>\n",
       "    </tr>\n",
       "    <tr>\n",
       "      <th>6</th>\n",
       "      <td>Valiance Solutions</td>\n",
       "      <td>8 salaries</td>\n",
       "      <td>₹ 7,91,015/yr</td>\n",
       "      <td>₹509K--&gt;₹1,168K</td>\n",
       "    </tr>\n",
       "    <tr>\n",
       "      <th>7</th>\n",
       "      <td>Innovaccer</td>\n",
       "      <td>7 salaries</td>\n",
       "      <td>₹ 12,15,138/yr</td>\n",
       "      <td>₹629K--&gt;₹1,719K</td>\n",
       "    </tr>\n",
       "    <tr>\n",
       "      <th>8</th>\n",
       "      <td>Cognizant Technology Solutions</td>\n",
       "      <td>6 salaries</td>\n",
       "      <td>₹ 10,21,889/yr</td>\n",
       "      <td>₹804K--&gt;₹1,281K</td>\n",
       "    </tr>\n",
       "    <tr>\n",
       "      <th>9</th>\n",
       "      <td>ZS Associates</td>\n",
       "      <td>5 salaries</td>\n",
       "      <td>₹ 10,00,000/yr</td>\n",
       "      <td>₹205K--&gt;₹1,835K</td>\n",
       "    </tr>\n",
       "  </tbody>\n",
       "</table>\n",
       "</div>"
      ],
      "text/plain": [
       "                          Company Number Of Salary  Avgrage Salary  \\\n",
       "0                       Delhivery      13 salaries  ₹ 12,81,419/yr   \n",
       "1              Ericsson-Worldwide      11 salaries   ₹ 7,52,052/yr   \n",
       "2                       Accenture      10 salaries   ₹ 9,98,925/yr   \n",
       "3       Tata Consultancy Services       9 salaries   ₹ 6,02,000/yr   \n",
       "4                             IBM       9 salaries   ₹ 7,71,657/yr   \n",
       "5              UnitedHealth Group       9 salaries  ₹ 13,55,346/yr   \n",
       "6              Valiance Solutions       8 salaries   ₹ 7,91,015/yr   \n",
       "7                      Innovaccer       7 salaries  ₹ 12,15,138/yr   \n",
       "8  Cognizant Technology Solutions       6 salaries  ₹ 10,21,889/yr   \n",
       "9                   ZS Associates       5 salaries  ₹ 10,00,000/yr   \n",
       "\n",
       "    Min/Maxi Salary  \n",
       "0  ₹456K-->₹11,789K  \n",
       "1   ₹420K-->₹1,636K  \n",
       "2   ₹585K-->₹2,200K  \n",
       "3   ₹336K-->₹1,024K  \n",
       "4   ₹595K-->₹2,769K  \n",
       "5   ₹727K-->₹1,597K  \n",
       "6   ₹509K-->₹1,168K  \n",
       "7   ₹629K-->₹1,719K  \n",
       "8   ₹804K-->₹1,281K  \n",
       "9   ₹205K-->₹1,835K  "
      ]
     },
     "execution_count": 111,
     "metadata": {},
     "output_type": "execute_result"
    }
   ],
   "source": [
    "Glassdoor_Job=pd.DataFrame([])\n",
    "Glassdoor_Job['Company']=CompanyName[0:10]\n",
    "Glassdoor_Job['Number Of Salary']=NumberOfSalary[0:10]\n",
    "Glassdoor_Job['Avgrage Salary']=Avg_Salary[0:10]\n",
    "Glassdoor_Job['Min/Maxi Salary']=minimax[0:10]\n",
    "\n",
    "Glassdoor_Job"
   ]
  },
  {
   "cell_type": "code",
   "execution_count": null,
   "metadata": {},
   "outputs": [],
   "source": []
  },
  {
   "cell_type": "markdown",
   "metadata": {},
   "source": [
    "# Quetion- 6"
   ]
  },
  {
   "cell_type": "code",
   "execution_count": null,
   "metadata": {},
   "outputs": [],
   "source": []
  },
  {
   "cell_type": "code",
   "execution_count": 112,
   "metadata": {},
   "outputs": [],
   "source": [
    "driver1 = webdriver.Chrome(r\"E:\\Aniket\\chromedriver_win32\\chromedriver.exe\")"
   ]
  },
  {
   "cell_type": "code",
   "execution_count": 113,
   "metadata": {},
   "outputs": [],
   "source": [
    "url_5=\"https://www.flipkart.com/search?q=sunglasses&sid=26x&as=on&as-show=on&otracker=AS_QueryStore_OrganicAutoSuggest_1_2_na_na_na&otracker1=AS_QueryStore_OrganicAutoSuggest_1_2_na_na_na&as-pos=1&as-type=RECENT&suggestionId=sunglasses%7CSunglasses&requestId=b37bee6b-a12b-474f-8201-050d9f97567d&as-searchtext=su\""
   ]
  },
  {
   "cell_type": "code",
   "execution_count": 114,
   "metadata": {},
   "outputs": [],
   "source": [
    "driver1.get(url_5)"
   ]
  },
  {
   "cell_type": "code",
   "execution_count": 115,
   "metadata": {},
   "outputs": [],
   "source": [
    "Brand=[]\n",
    "Produc_Description=[]\n",
    "Price=[]\n",
    "Discount=[]"
   ]
  },
  {
   "cell_type": "code",
   "execution_count": 116,
   "metadata": {},
   "outputs": [
    {
     "data": {
      "text/plain": [
       "40"
      ]
     },
     "execution_count": 116,
     "metadata": {},
     "output_type": "execute_result"
    }
   ],
   "source": [
    "brnd=driver1.find_elements_by_xpath(\"//div[@class='_2WkVRV']\")\n",
    "len(brnd)"
   ]
  },
  {
   "cell_type": "code",
   "execution_count": 117,
   "metadata": {},
   "outputs": [
    {
     "data": {
      "text/plain": [
       "['Voyage',\n",
       " 'Voyage',\n",
       " 'Phenomenal',\n",
       " 'povty',\n",
       " 'HIPPON',\n",
       " 'funglasses',\n",
       " 'Royal Son',\n",
       " 'Riffko',\n",
       " 'kingsunglasses',\n",
       " 'PIRASO',\n",
       " 'Phenomenal',\n",
       " 'Fastrack',\n",
       " 'Phenomenal',\n",
       " 'Abner',\n",
       " 'peter india',\n",
       " 'Ayezent',\n",
       " 'shah collections',\n",
       " 'Fastrack',\n",
       " 'The Blue Pink',\n",
       " 'Royal Son',\n",
       " 'JOHAENA',\n",
       " 'Creative Group',\n",
       " 'Singco India',\n",
       " 'Aislin',\n",
       " 'LEZTO',\n",
       " 'kingsunglasses',\n",
       " 'Yumato',\n",
       " 'Online Mantra',\n",
       " 'PIRASO',\n",
       " 'Royal Son',\n",
       " 'STYLISH GUYS',\n",
       " 'Hotexo',\n",
       " 'funglasses',\n",
       " 'Farenheit',\n",
       " 'Royal Son']"
      ]
     },
     "execution_count": 117,
     "metadata": {},
     "output_type": "execute_result"
    }
   ],
   "source": [
    "for i in brnd:\n",
    "   \n",
    "    Brand.append(str(i.text).replace(\"\\n\",\"\"))\n",
    "Brand=Brand[:35]\n",
    "Brand"
   ]
  },
  {
   "cell_type": "code",
   "execution_count": 118,
   "metadata": {},
   "outputs": [
    {
     "data": {
      "text/plain": [
       "40"
      ]
     },
     "execution_count": 118,
     "metadata": {},
     "output_type": "execute_result"
    }
   ],
   "source": [
    "prc=driver1.find_elements_by_xpath(\"//div[@class='_30jeq3']\")\n",
    "len(prc)"
   ]
  },
  {
   "cell_type": "code",
   "execution_count": 119,
   "metadata": {},
   "outputs": [
    {
     "data": {
      "text/plain": [
       "['₹649',\n",
       " '₹850',\n",
       " '₹399',\n",
       " '₹245',\n",
       " '₹189',\n",
       " '₹161',\n",
       " '₹379',\n",
       " '₹227',\n",
       " '₹284',\n",
       " '₹250',\n",
       " '₹249',\n",
       " '₹1,123',\n",
       " '₹399',\n",
       " '₹599',\n",
       " '₹175',\n",
       " '₹282',\n",
       " '₹214',\n",
       " '₹763',\n",
       " '₹107',\n",
       " '₹664',\n",
       " '₹178',\n",
       " '₹275',\n",
       " '₹189',\n",
       " '₹598',\n",
       " '₹169',\n",
       " '₹160',\n",
       " '₹499',\n",
       " '₹152',\n",
       " '₹250',\n",
       " '₹499',\n",
       " '₹789',\n",
       " '₹146',\n",
       " '₹210',\n",
       " '₹599',\n",
       " '₹399']"
      ]
     },
     "execution_count": 119,
     "metadata": {},
     "output_type": "execute_result"
    }
   ],
   "source": [
    "for i in prc:\n",
    "   \n",
    "    Price.append(str(i.text).replace(\"\\n\",\"\"))\n",
    "Price=Price[:35]\n",
    "Price"
   ]
  },
  {
   "cell_type": "code",
   "execution_count": 120,
   "metadata": {},
   "outputs": [
    {
     "data": {
      "text/plain": [
       "40"
      ]
     },
     "execution_count": 120,
     "metadata": {},
     "output_type": "execute_result"
    }
   ],
   "source": [
    "disc=driver1.find_elements_by_xpath(\"//div[@class='_3Ay6Sb']\")\n",
    "len(disc)"
   ]
  },
  {
   "cell_type": "code",
   "execution_count": 121,
   "metadata": {},
   "outputs": [
    {
     "data": {
      "text/plain": [
       "['78% off',\n",
       " '52% off',\n",
       " '80% off',\n",
       " '75% off',\n",
       " '84% off',\n",
       " '83% off',\n",
       " '74% off',\n",
       " '81% off',\n",
       " '81% off',\n",
       " '84% off',\n",
       " '75% off',\n",
       " '13% off',\n",
       " '80% off',\n",
       " '62% off',\n",
       " '86% off',\n",
       " '85% off',\n",
       " '85% off',\n",
       " '15% off',\n",
       " '53% off',\n",
       " '66% off',\n",
       " '87% off',\n",
       " '77% off',\n",
       " '72% off',\n",
       " '72% off',\n",
       " '82% off',\n",
       " '85% off',\n",
       " '62% off',\n",
       " '69% off',\n",
       " '84% off',\n",
       " '66% off',\n",
       " '77% off',\n",
       " '78% off',\n",
       " '85% off',\n",
       " '76% off',\n",
       " '73% off']"
      ]
     },
     "execution_count": 121,
     "metadata": {},
     "output_type": "execute_result"
    }
   ],
   "source": [
    "for i in disc:\n",
    "   \n",
    "    Discount.append(i.text)\n",
    "Discount=Discount[:35]\n",
    "Discount"
   ]
  },
  {
   "cell_type": "code",
   "execution_count": 122,
   "metadata": {},
   "outputs": [
    {
     "data": {
      "text/plain": [
       "28"
      ]
     },
     "execution_count": 122,
     "metadata": {},
     "output_type": "execute_result"
    }
   ],
   "source": [
    "prd=driver1.find_elements_by_xpath(\"//a[@class='IRpwTa']\")\n",
    "len(prd)"
   ]
  },
  {
   "cell_type": "code",
   "execution_count": 123,
   "metadata": {},
   "outputs": [],
   "source": [
    "for i in prd:\n",
    "   \n",
    "    Produc_Description.append(str(i.text).replace(\"\\n\",\"\"))\n",
    "Produc_Description=Produc_Description[:35]"
   ]
  },
  {
   "cell_type": "code",
   "execution_count": 124,
   "metadata": {},
   "outputs": [
    {
     "data": {
      "text/plain": [
       "['UV Protection Aviator Sunglasses (58)',\n",
       " 'UV Protection Aviator Sunglasses (62)',\n",
       " 'UV Protection Retro Square Sunglasses (Free Size)',\n",
       " 'UV Protection Wayfarer Sunglasses (Free Size)',\n",
       " 'Mirrored Aviator Sunglasses (55)',\n",
       " 'Mirrored, UV Protection Wayfarer, Wayfarer, Wayfarer, W...',\n",
       " 'UV Protection Wayfarer Sunglasses (32)',\n",
       " 'UV Protection Aviator Sunglasses (58)',\n",
       " 'UV Protection, Mirrored Retro Square Sunglasses (Free S...',\n",
       " 'Mirrored, UV Protection Sports Sunglasses (Free Size)',\n",
       " 'UV Protection Spectacle Sunglasses (Free Size)',\n",
       " 'UV Protection Retro Square Sunglasses (52)',\n",
       " 'Mirrored Round Sunglasses (53)',\n",
       " 'UV Protection Shield Sunglasses (Free Size)',\n",
       " 'Riding Glasses, UV Protection Oval Sunglasses (52)',\n",
       " 'Polarized, UV Protection Retro Square Sunglasses (Free ...',\n",
       " 'UV Protection, Polarized Aviator Sunglasses (Free Size)',\n",
       " 'UV Protection, Gradient Aviator Sunglasses (61)',\n",
       " 'Polarized Sports Sunglasses (21)',\n",
       " 'UV Protection Aviator Sunglasses (54)',\n",
       " 'UV Protection Rectangular Sunglasses (Free Size)',\n",
       " 'UV Protection, Mirrored, Gradient Retro Square Sunglass...',\n",
       " 'UV Protection Wayfarer Sunglasses (53)',\n",
       " 'Mirrored Aviator Sunglasses (Free Size)',\n",
       " 'UV Protection Wayfarer Sunglasses (56)',\n",
       " 'UV Protection Wayfarer Sunglasses (Free Size)',\n",
       " 'UV Protection, Mirrored Retro Square Sunglasses (53)',\n",
       " 'UV Protection Aviator Sunglasses (Free Size)']"
      ]
     },
     "execution_count": 124,
     "metadata": {},
     "output_type": "execute_result"
    }
   ],
   "source": [
    "Produc_Description"
   ]
  },
  {
   "cell_type": "code",
   "execution_count": null,
   "metadata": {},
   "outputs": [],
   "source": []
  },
  {
   "cell_type": "code",
   "execution_count": 126,
   "metadata": {},
   "outputs": [
    {
     "data": {
      "text/html": [
       "<div>\n",
       "<style scoped>\n",
       "    .dataframe tbody tr th:only-of-type {\n",
       "        vertical-align: middle;\n",
       "    }\n",
       "\n",
       "    .dataframe tbody tr th {\n",
       "        vertical-align: top;\n",
       "    }\n",
       "\n",
       "    .dataframe thead th {\n",
       "        text-align: right;\n",
       "    }\n",
       "</style>\n",
       "<table border=\"1\" class=\"dataframe\">\n",
       "  <thead>\n",
       "    <tr style=\"text-align: right;\">\n",
       "      <th></th>\n",
       "      <th>Brand</th>\n",
       "      <th>Price</th>\n",
       "      <th>Discount</th>\n",
       "      <th>Produc_Descriptiony</th>\n",
       "    </tr>\n",
       "  </thead>\n",
       "  <tbody>\n",
       "    <tr>\n",
       "      <th>0</th>\n",
       "      <td>Voyage</td>\n",
       "      <td>₹649</td>\n",
       "      <td>78% off</td>\n",
       "      <td>UV Protection Aviator Sunglasses (58)</td>\n",
       "    </tr>\n",
       "    <tr>\n",
       "      <th>1</th>\n",
       "      <td>Voyage</td>\n",
       "      <td>₹850</td>\n",
       "      <td>52% off</td>\n",
       "      <td>UV Protection Aviator Sunglasses (62)</td>\n",
       "    </tr>\n",
       "    <tr>\n",
       "      <th>2</th>\n",
       "      <td>Phenomenal</td>\n",
       "      <td>₹399</td>\n",
       "      <td>80% off</td>\n",
       "      <td>UV Protection Retro Square Sunglasses (Free Size)</td>\n",
       "    </tr>\n",
       "    <tr>\n",
       "      <th>3</th>\n",
       "      <td>povty</td>\n",
       "      <td>₹245</td>\n",
       "      <td>75% off</td>\n",
       "      <td>UV Protection Wayfarer Sunglasses (Free Size)</td>\n",
       "    </tr>\n",
       "    <tr>\n",
       "      <th>4</th>\n",
       "      <td>HIPPON</td>\n",
       "      <td>₹189</td>\n",
       "      <td>84% off</td>\n",
       "      <td>Mirrored Aviator Sunglasses (55)</td>\n",
       "    </tr>\n",
       "    <tr>\n",
       "      <th>5</th>\n",
       "      <td>funglasses</td>\n",
       "      <td>₹161</td>\n",
       "      <td>83% off</td>\n",
       "      <td>Mirrored, UV Protection Wayfarer, Wayfarer, Wa...</td>\n",
       "    </tr>\n",
       "    <tr>\n",
       "      <th>6</th>\n",
       "      <td>Royal Son</td>\n",
       "      <td>₹379</td>\n",
       "      <td>74% off</td>\n",
       "      <td>UV Protection Wayfarer Sunglasses (32)</td>\n",
       "    </tr>\n",
       "    <tr>\n",
       "      <th>7</th>\n",
       "      <td>Riffko</td>\n",
       "      <td>₹227</td>\n",
       "      <td>81% off</td>\n",
       "      <td>UV Protection Aviator Sunglasses (58)</td>\n",
       "    </tr>\n",
       "    <tr>\n",
       "      <th>8</th>\n",
       "      <td>kingsunglasses</td>\n",
       "      <td>₹284</td>\n",
       "      <td>81% off</td>\n",
       "      <td>UV Protection, Mirrored Retro Square Sunglasse...</td>\n",
       "    </tr>\n",
       "    <tr>\n",
       "      <th>9</th>\n",
       "      <td>PIRASO</td>\n",
       "      <td>₹250</td>\n",
       "      <td>84% off</td>\n",
       "      <td>Mirrored, UV Protection Sports Sunglasses (Fre...</td>\n",
       "    </tr>\n",
       "    <tr>\n",
       "      <th>10</th>\n",
       "      <td>Phenomenal</td>\n",
       "      <td>₹249</td>\n",
       "      <td>75% off</td>\n",
       "      <td>UV Protection Spectacle Sunglasses (Free Size)</td>\n",
       "    </tr>\n",
       "    <tr>\n",
       "      <th>11</th>\n",
       "      <td>Fastrack</td>\n",
       "      <td>₹1,123</td>\n",
       "      <td>13% off</td>\n",
       "      <td>UV Protection Retro Square Sunglasses (52)</td>\n",
       "    </tr>\n",
       "    <tr>\n",
       "      <th>12</th>\n",
       "      <td>Phenomenal</td>\n",
       "      <td>₹399</td>\n",
       "      <td>80% off</td>\n",
       "      <td>Mirrored Round Sunglasses (53)</td>\n",
       "    </tr>\n",
       "    <tr>\n",
       "      <th>13</th>\n",
       "      <td>Abner</td>\n",
       "      <td>₹599</td>\n",
       "      <td>62% off</td>\n",
       "      <td>UV Protection Shield Sunglasses (Free Size)</td>\n",
       "    </tr>\n",
       "    <tr>\n",
       "      <th>14</th>\n",
       "      <td>peter india</td>\n",
       "      <td>₹175</td>\n",
       "      <td>86% off</td>\n",
       "      <td>Riding Glasses, UV Protection Oval Sunglasses ...</td>\n",
       "    </tr>\n",
       "    <tr>\n",
       "      <th>15</th>\n",
       "      <td>Ayezent</td>\n",
       "      <td>₹282</td>\n",
       "      <td>85% off</td>\n",
       "      <td>Polarized, UV Protection Retro Square Sunglass...</td>\n",
       "    </tr>\n",
       "    <tr>\n",
       "      <th>16</th>\n",
       "      <td>shah collections</td>\n",
       "      <td>₹214</td>\n",
       "      <td>85% off</td>\n",
       "      <td>UV Protection, Polarized Aviator Sunglasses (F...</td>\n",
       "    </tr>\n",
       "    <tr>\n",
       "      <th>17</th>\n",
       "      <td>Fastrack</td>\n",
       "      <td>₹763</td>\n",
       "      <td>15% off</td>\n",
       "      <td>UV Protection, Gradient Aviator Sunglasses (61)</td>\n",
       "    </tr>\n",
       "    <tr>\n",
       "      <th>18</th>\n",
       "      <td>The Blue Pink</td>\n",
       "      <td>₹107</td>\n",
       "      <td>53% off</td>\n",
       "      <td>Polarized Sports Sunglasses (21)</td>\n",
       "    </tr>\n",
       "    <tr>\n",
       "      <th>19</th>\n",
       "      <td>Royal Son</td>\n",
       "      <td>₹664</td>\n",
       "      <td>66% off</td>\n",
       "      <td>UV Protection Aviator Sunglasses (54)</td>\n",
       "    </tr>\n",
       "    <tr>\n",
       "      <th>20</th>\n",
       "      <td>JOHAENA</td>\n",
       "      <td>₹178</td>\n",
       "      <td>87% off</td>\n",
       "      <td>UV Protection Rectangular Sunglasses (Free Size)</td>\n",
       "    </tr>\n",
       "    <tr>\n",
       "      <th>21</th>\n",
       "      <td>Creative Group</td>\n",
       "      <td>₹275</td>\n",
       "      <td>77% off</td>\n",
       "      <td>UV Protection, Mirrored, Gradient Retro Square...</td>\n",
       "    </tr>\n",
       "    <tr>\n",
       "      <th>22</th>\n",
       "      <td>Singco India</td>\n",
       "      <td>₹189</td>\n",
       "      <td>72% off</td>\n",
       "      <td>UV Protection Wayfarer Sunglasses (53)</td>\n",
       "    </tr>\n",
       "    <tr>\n",
       "      <th>23</th>\n",
       "      <td>Aislin</td>\n",
       "      <td>₹598</td>\n",
       "      <td>72% off</td>\n",
       "      <td>Mirrored Aviator Sunglasses (Free Size)</td>\n",
       "    </tr>\n",
       "    <tr>\n",
       "      <th>24</th>\n",
       "      <td>LEZTO</td>\n",
       "      <td>₹169</td>\n",
       "      <td>82% off</td>\n",
       "      <td>UV Protection Wayfarer Sunglasses (56)</td>\n",
       "    </tr>\n",
       "    <tr>\n",
       "      <th>25</th>\n",
       "      <td>kingsunglasses</td>\n",
       "      <td>₹160</td>\n",
       "      <td>85% off</td>\n",
       "      <td>UV Protection Wayfarer Sunglasses (Free Size)</td>\n",
       "    </tr>\n",
       "    <tr>\n",
       "      <th>26</th>\n",
       "      <td>Yumato</td>\n",
       "      <td>₹499</td>\n",
       "      <td>62% off</td>\n",
       "      <td>UV Protection, Mirrored Retro Square Sunglasse...</td>\n",
       "    </tr>\n",
       "    <tr>\n",
       "      <th>27</th>\n",
       "      <td>Online Mantra</td>\n",
       "      <td>₹152</td>\n",
       "      <td>69% off</td>\n",
       "      <td>UV Protection Aviator Sunglasses (Free Size)</td>\n",
       "    </tr>\n",
       "  </tbody>\n",
       "</table>\n",
       "</div>"
      ],
      "text/plain": [
       "               Brand   Price Discount  \\\n",
       "0             Voyage    ₹649  78% off   \n",
       "1             Voyage    ₹850  52% off   \n",
       "2         Phenomenal    ₹399  80% off   \n",
       "3              povty    ₹245  75% off   \n",
       "4             HIPPON    ₹189  84% off   \n",
       "5         funglasses    ₹161  83% off   \n",
       "6          Royal Son    ₹379  74% off   \n",
       "7             Riffko    ₹227  81% off   \n",
       "8     kingsunglasses    ₹284  81% off   \n",
       "9             PIRASO    ₹250  84% off   \n",
       "10        Phenomenal    ₹249  75% off   \n",
       "11          Fastrack  ₹1,123  13% off   \n",
       "12        Phenomenal    ₹399  80% off   \n",
       "13             Abner    ₹599  62% off   \n",
       "14       peter india    ₹175  86% off   \n",
       "15           Ayezent    ₹282  85% off   \n",
       "16  shah collections    ₹214  85% off   \n",
       "17          Fastrack    ₹763  15% off   \n",
       "18     The Blue Pink    ₹107  53% off   \n",
       "19         Royal Son    ₹664  66% off   \n",
       "20           JOHAENA    ₹178  87% off   \n",
       "21    Creative Group    ₹275  77% off   \n",
       "22      Singco India    ₹189  72% off   \n",
       "23            Aislin    ₹598  72% off   \n",
       "24             LEZTO    ₹169  82% off   \n",
       "25    kingsunglasses    ₹160  85% off   \n",
       "26            Yumato    ₹499  62% off   \n",
       "27     Online Mantra    ₹152  69% off   \n",
       "\n",
       "                                  Produc_Descriptiony  \n",
       "0               UV Protection Aviator Sunglasses (58)  \n",
       "1               UV Protection Aviator Sunglasses (62)  \n",
       "2   UV Protection Retro Square Sunglasses (Free Size)  \n",
       "3       UV Protection Wayfarer Sunglasses (Free Size)  \n",
       "4                    Mirrored Aviator Sunglasses (55)  \n",
       "5   Mirrored, UV Protection Wayfarer, Wayfarer, Wa...  \n",
       "6              UV Protection Wayfarer Sunglasses (32)  \n",
       "7               UV Protection Aviator Sunglasses (58)  \n",
       "8   UV Protection, Mirrored Retro Square Sunglasse...  \n",
       "9   Mirrored, UV Protection Sports Sunglasses (Fre...  \n",
       "10     UV Protection Spectacle Sunglasses (Free Size)  \n",
       "11         UV Protection Retro Square Sunglasses (52)  \n",
       "12                     Mirrored Round Sunglasses (53)  \n",
       "13        UV Protection Shield Sunglasses (Free Size)  \n",
       "14  Riding Glasses, UV Protection Oval Sunglasses ...  \n",
       "15  Polarized, UV Protection Retro Square Sunglass...  \n",
       "16  UV Protection, Polarized Aviator Sunglasses (F...  \n",
       "17    UV Protection, Gradient Aviator Sunglasses (61)  \n",
       "18                   Polarized Sports Sunglasses (21)  \n",
       "19              UV Protection Aviator Sunglasses (54)  \n",
       "20   UV Protection Rectangular Sunglasses (Free Size)  \n",
       "21  UV Protection, Mirrored, Gradient Retro Square...  \n",
       "22             UV Protection Wayfarer Sunglasses (53)  \n",
       "23            Mirrored Aviator Sunglasses (Free Size)  \n",
       "24             UV Protection Wayfarer Sunglasses (56)  \n",
       "25      UV Protection Wayfarer Sunglasses (Free Size)  \n",
       "26  UV Protection, Mirrored Retro Square Sunglasse...  \n",
       "27       UV Protection Aviator Sunglasses (Free Size)  "
      ]
     },
     "execution_count": 126,
     "metadata": {},
     "output_type": "execute_result"
    }
   ],
   "source": [
    "Glass=pd.DataFrame([])\n",
    "Glass['Brand']=Brand[0:28]\n",
    "Glass['Price']=Price[0:28]\n",
    "Glass['Discount']=Discount[0:28]\n",
    "Glass['Produc_Descriptiony']=Produc_Description[0:28]\n",
    "\n",
    "Glass"
   ]
  },
  {
   "cell_type": "code",
   "execution_count": null,
   "metadata": {},
   "outputs": [],
   "source": []
  },
  {
   "cell_type": "markdown",
   "metadata": {},
   "source": [
    "# Quetion - 7"
   ]
  },
  {
   "cell_type": "code",
   "execution_count": null,
   "metadata": {},
   "outputs": [],
   "source": []
  },
  {
   "cell_type": "code",
   "execution_count": 127,
   "metadata": {},
   "outputs": [],
   "source": [
    "driver1 = webdriver.Chrome(r\"E:\\Aniket\\chromedriver_win32\\chromedriver.exe\")"
   ]
  },
  {
   "cell_type": "code",
   "execution_count": 128,
   "metadata": {},
   "outputs": [],
   "source": [
    "url_6=\"https://www.flipkart.com/apple-iphone-11-black-64-gb-includes-earpods-power-adapter/product-reviews/itm0f37c2240b217?pid=MOBFKCTSVZAXUHGR&lid=LSTMOBFKCTSVZAXUHGR3QP11A&marketplace=FLIPKART\""
   ]
  },
  {
   "cell_type": "code",
   "execution_count": 129,
   "metadata": {},
   "outputs": [],
   "source": [
    "driver1.get(url_6)"
   ]
  },
  {
   "cell_type": "code",
   "execution_count": 130,
   "metadata": {},
   "outputs": [],
   "source": [
    "Rating=[]\n",
    "Summary_Review=[]\n",
    "Full_Review=[]"
   ]
  },
  {
   "cell_type": "code",
   "execution_count": 131,
   "metadata": {},
   "outputs": [
    {
     "data": {
      "text/plain": [
       "10"
      ]
     },
     "execution_count": 131,
     "metadata": {},
     "output_type": "execute_result"
    }
   ],
   "source": [
    "rt=driver1.find_elements_by_xpath(\"//div[@class='_3LWZlK _1BLPMq']\")\n",
    "len(rt)"
   ]
  },
  {
   "cell_type": "code",
   "execution_count": 132,
   "metadata": {},
   "outputs": [
    {
     "data": {
      "text/plain": [
       "['5', '5', '5', '5', '5', '5', '5', '5', '5', '4']"
      ]
     },
     "execution_count": 132,
     "metadata": {},
     "output_type": "execute_result"
    }
   ],
   "source": [
    "for i in rt:\n",
    "   \n",
    "    Rating.append(str(i.text).replace(\"\\n\",\"\"))\n",
    "Rating"
   ]
  },
  {
   "cell_type": "code",
   "execution_count": 133,
   "metadata": {},
   "outputs": [
    {
     "data": {
      "text/plain": [
       "10"
      ]
     },
     "execution_count": 133,
     "metadata": {},
     "output_type": "execute_result"
    }
   ],
   "source": [
    "sr=driver1.find_elements_by_xpath(\"//p[@class='_2-N8zT']\")\n",
    "len(sr)"
   ]
  },
  {
   "cell_type": "code",
   "execution_count": 134,
   "metadata": {},
   "outputs": [
    {
     "data": {
      "text/plain": [
       "['Perfect product!',\n",
       " 'Great product',\n",
       " 'Highly recommended',\n",
       " 'Perfect product!',\n",
       " 'Perfect product!',\n",
       " 'Worth every penny',\n",
       " 'Brilliant',\n",
       " 'Worth every penny',\n",
       " 'Wonderful',\n",
       " 'Nice product']"
      ]
     },
     "execution_count": 134,
     "metadata": {},
     "output_type": "execute_result"
    }
   ],
   "source": [
    "for i in sr:\n",
    "   \n",
    "    Summary_Review.append(str(i.text).replace(\"\\n\",\"\"))\n",
    "Summary_Review"
   ]
  },
  {
   "cell_type": "code",
   "execution_count": 135,
   "metadata": {},
   "outputs": [
    {
     "data": {
      "text/plain": [
       "10"
      ]
     },
     "execution_count": 135,
     "metadata": {},
     "output_type": "execute_result"
    }
   ],
   "source": [
    "fr=driver1.find_elements_by_xpath(\"//div[@class='t-ZTKy']\")\n",
    "len(fr)"
   ]
  },
  {
   "cell_type": "code",
   "execution_count": 136,
   "metadata": {},
   "outputs": [
    {
     "data": {
      "text/plain": [
       "['Amazing phone with great cameras and better battery which gives you the best performance. I just love the camera .',\n",
       " 'Amazing Powerful and Durable Gadget.I’m am very happy with the camera picture quality, Amazing face id unlocked in dark room, Strong battery with perfect screen size as you can carry easily in pocket. This is my third iPhone.I shifted from android Samsung Note series to iPhone because of the strong build quality and peace of mind for next 3-4 years.Don’t think to much just go for it and I suggest you to go for minimum 128gb variant or more 256gb.I’ve attached my puppy pics and no fi...READ MORE',\n",
       " 'iphone 11 is a very good phone to buy only if you can compromise for the display. The display on this is device is pretty good but you can get other options with better displays in this price segment.If you can survive with an HD+ LCD panel with thicker bezels and a notch up top then this is a very good phone for you.Cameras are awesome, battery backup excellent, great performance and a decent premium look. Good job Apple !',\n",
       " 'It’s a must buy who is looking for an upgrade from previous generation of iPhones. If you are using XR then still you can hold on for sometime and upgrade to 2020 model else this phone is a must buy . Camera quality is amazing and wide angle is something to count upon. Performance wise it’s amazing and feels premium while holding in hand. So a big YES for this device. Go for 128 GB variant as the 4K videos will occupy lots of space and the storage can get over very quickly. Try to buy it with...READ MORE',\n",
       " 'Value for money❤️❤️Its awesome mobile phone in the world ...Display was very good and bright ..Trust me freinds you r never regret after Buying..Just go for it....I love this phone and i switch to iphone x to 11',\n",
       " 'Best budget Iphone till date ❤️ go for it guys without second thought. Let me explain you guys about Camera, Display, battery, and performance.Camera: at this price range there is no comparison of camera, you’ll love the picture quality as well as video quality. I am a Vlogger I wanted an iPhone with 4k video by front camera and I got this phone and I am more than happy 😃Battery: I use this phone roughly as I am active social media person and I have a youtube channel. so the battery ba...READ MORE',\n",
       " 'The Best Phone for the MoneyThe iPhone 11 offers superb cameras, a more durable design and excellent battery life for an affordable price.Compelling ultra-wide cameraNew Night mode is excellentLong battery life',\n",
       " 'It’s been almost a month since I have been using this phone. I upgraded from an iPhone 8. The main issue with my 8 was battery and this phone is just awesome when it comes to battery. It lasts a day and a half for me with my regular use , internet connected always with 4gCan’t move forward without saying this. Battery of this phone is a life saver when I am traveling or at work when I don’t get the option to chargeCamera is superb. Front cam selfies and back cam photos are just awesome....READ MORE',\n",
       " '*Review after 10 months of usage*Doesn\\'t seem bulky with decent touch and camera. The \"standard maintained\" quality of IPhone. Go for it, if your budget is not more enough for pro models. It\\'s a value for money among the 11 series Stereo speakers are so good, you will love the stereo sound. Battery backup is not decent but still better than Iphone 7 and 8.Processor is fast, the phone doesn\\'t lag at all even with heavy games, waterproof, faster face id and with no fingerprint scanners. The ca...READ MORE',\n",
       " 'Awesome Phone. Slightly high price but worth. Better than iPhone XR.Camera is superb and wide angle camera is very clear.12MP selfie camera is also very good.A13 Chip gives a very good and smooth performance.']"
      ]
     },
     "execution_count": 136,
     "metadata": {},
     "output_type": "execute_result"
    }
   ],
   "source": [
    "for i in fr:\n",
    "   \n",
    "    Full_Review.append(str(i.text).replace(\"\\n\",\"\"))\n",
    "Full_Review"
   ]
  },
  {
   "cell_type": "code",
   "execution_count": 137,
   "metadata": {},
   "outputs": [
    {
     "data": {
      "text/html": [
       "<div>\n",
       "<style scoped>\n",
       "    .dataframe tbody tr th:only-of-type {\n",
       "        vertical-align: middle;\n",
       "    }\n",
       "\n",
       "    .dataframe tbody tr th {\n",
       "        vertical-align: top;\n",
       "    }\n",
       "\n",
       "    .dataframe thead th {\n",
       "        text-align: right;\n",
       "    }\n",
       "</style>\n",
       "<table border=\"1\" class=\"dataframe\">\n",
       "  <thead>\n",
       "    <tr style=\"text-align: right;\">\n",
       "      <th></th>\n",
       "      <th>Rating</th>\n",
       "      <th>Summary_Reviewy</th>\n",
       "      <th>Full_Review</th>\n",
       "    </tr>\n",
       "  </thead>\n",
       "  <tbody>\n",
       "    <tr>\n",
       "      <th>0</th>\n",
       "      <td>5</td>\n",
       "      <td>Perfect product!</td>\n",
       "      <td>Amazing phone with great cameras and better ba...</td>\n",
       "    </tr>\n",
       "    <tr>\n",
       "      <th>1</th>\n",
       "      <td>5</td>\n",
       "      <td>Great product</td>\n",
       "      <td>Amazing Powerful and Durable Gadget.I’m am ver...</td>\n",
       "    </tr>\n",
       "    <tr>\n",
       "      <th>2</th>\n",
       "      <td>5</td>\n",
       "      <td>Highly recommended</td>\n",
       "      <td>iphone 11 is a very good phone to buy only if ...</td>\n",
       "    </tr>\n",
       "    <tr>\n",
       "      <th>3</th>\n",
       "      <td>5</td>\n",
       "      <td>Perfect product!</td>\n",
       "      <td>It’s a must buy who is looking for an upgrade ...</td>\n",
       "    </tr>\n",
       "    <tr>\n",
       "      <th>4</th>\n",
       "      <td>5</td>\n",
       "      <td>Perfect product!</td>\n",
       "      <td>Value for money❤️❤️Its awesome mobile phone in...</td>\n",
       "    </tr>\n",
       "    <tr>\n",
       "      <th>5</th>\n",
       "      <td>5</td>\n",
       "      <td>Worth every penny</td>\n",
       "      <td>Best budget Iphone till date ❤️ go for it guys...</td>\n",
       "    </tr>\n",
       "    <tr>\n",
       "      <th>6</th>\n",
       "      <td>5</td>\n",
       "      <td>Brilliant</td>\n",
       "      <td>The Best Phone for the MoneyThe iPhone 11 offe...</td>\n",
       "    </tr>\n",
       "    <tr>\n",
       "      <th>7</th>\n",
       "      <td>5</td>\n",
       "      <td>Worth every penny</td>\n",
       "      <td>It’s been almost a month since I have been usi...</td>\n",
       "    </tr>\n",
       "    <tr>\n",
       "      <th>8</th>\n",
       "      <td>5</td>\n",
       "      <td>Wonderful</td>\n",
       "      <td>*Review after 10 months of usage*Doesn't seem ...</td>\n",
       "    </tr>\n",
       "    <tr>\n",
       "      <th>9</th>\n",
       "      <td>4</td>\n",
       "      <td>Nice product</td>\n",
       "      <td>Awesome Phone. Slightly high price but worth. ...</td>\n",
       "    </tr>\n",
       "  </tbody>\n",
       "</table>\n",
       "</div>"
      ],
      "text/plain": [
       "  Rating     Summary_Reviewy  \\\n",
       "0      5    Perfect product!   \n",
       "1      5       Great product   \n",
       "2      5  Highly recommended   \n",
       "3      5    Perfect product!   \n",
       "4      5    Perfect product!   \n",
       "5      5   Worth every penny   \n",
       "6      5           Brilliant   \n",
       "7      5   Worth every penny   \n",
       "8      5           Wonderful   \n",
       "9      4        Nice product   \n",
       "\n",
       "                                         Full_Review  \n",
       "0  Amazing phone with great cameras and better ba...  \n",
       "1  Amazing Powerful and Durable Gadget.I’m am ver...  \n",
       "2  iphone 11 is a very good phone to buy only if ...  \n",
       "3  It’s a must buy who is looking for an upgrade ...  \n",
       "4  Value for money❤️❤️Its awesome mobile phone in...  \n",
       "5  Best budget Iphone till date ❤️ go for it guys...  \n",
       "6  The Best Phone for the MoneyThe iPhone 11 offe...  \n",
       "7  It’s been almost a month since I have been usi...  \n",
       "8  *Review after 10 months of usage*Doesn't seem ...  \n",
       "9  Awesome Phone. Slightly high price but worth. ...  "
      ]
     },
     "execution_count": 137,
     "metadata": {},
     "output_type": "execute_result"
    }
   ],
   "source": [
    "iphone=pd.DataFrame([])\n",
    "iphone['Rating']=Rating\n",
    "iphone['Summary_Reviewy']=Summary_Review\n",
    "iphone['Full_Review']=Full_Review\n",
    "iphone"
   ]
  },
  {
   "cell_type": "code",
   "execution_count": null,
   "metadata": {},
   "outputs": [],
   "source": []
  },
  {
   "cell_type": "markdown",
   "metadata": {},
   "source": [
    "# Quetion - 8"
   ]
  },
  {
   "cell_type": "code",
   "execution_count": null,
   "metadata": {},
   "outputs": [],
   "source": []
  },
  {
   "cell_type": "code",
   "execution_count": 138,
   "metadata": {},
   "outputs": [],
   "source": [
    "driver1 = webdriver.Chrome(r\"E:\\Aniket\\chromedriver_win32\\chromedriver.exe\")"
   ]
  },
  {
   "cell_type": "code",
   "execution_count": 139,
   "metadata": {},
   "outputs": [],
   "source": [
    "url_7=\"https://www.flipkart.com/search?q=sneakers&sid=osp%2Ccil%2Ce1f&as=on&as-show=on&otracker=AS_QueryStore_OrganicAutoSuggest_1_7_na_na_na&otracker1=AS_QueryStore_OrganicAutoSuggest_1_7_na_na_na&as-pos=1&as-type=RECENT&suggestionId=sneakers%7CMen%27s+Casual+Shoes&requestId=5575a0d1-e24c-41b2-8b32-11c74aae4a37&as-searchtext=sneaker\""
   ]
  },
  {
   "cell_type": "code",
   "execution_count": 140,
   "metadata": {},
   "outputs": [],
   "source": [
    "driver1.get(url_7)"
   ]
  },
  {
   "cell_type": "code",
   "execution_count": 141,
   "metadata": {},
   "outputs": [],
   "source": [
    "Brands=[]\n",
    "Products_Description=[]\n",
    "Prices=[]\n",
    "Discounts=[]\n"
   ]
  },
  {
   "cell_type": "code",
   "execution_count": 142,
   "metadata": {},
   "outputs": [
    {
     "data": {
      "text/plain": [
       "40"
      ]
     },
     "execution_count": 142,
     "metadata": {},
     "output_type": "execute_result"
    }
   ],
   "source": [
    "br=driver1.find_elements_by_xpath(\"//div[@class='_2WkVRV']\")\n",
    "len(br)"
   ]
  },
  {
   "cell_type": "code",
   "execution_count": 143,
   "metadata": {
    "scrolled": true
   },
   "outputs": [
    {
     "data": {
      "text/plain": [
       "['BRUTON',\n",
       " 'Airland',\n",
       " 'Chevit',\n",
       " 'Robbie jones',\n",
       " 'World Wear Footwear',\n",
       " 'Chevit',\n",
       " 'BRUTON',\n",
       " 'Stefano Rads',\n",
       " 'Oricum',\n",
       " 'Shoes Bank',\n",
       " 'Restinfoot',\n",
       " 'Armado',\n",
       " 'Rockfield',\n",
       " 'Crysta',\n",
       " 'Hotstyle',\n",
       " 'LeatherKraft',\n",
       " 'Chevit',\n",
       " 'Chevit',\n",
       " 'Chevit',\n",
       " 'Numenzo',\n",
       " 'Red Rose',\n",
       " 'Kavon',\n",
       " 'Fzzirok',\n",
       " 'Kraasa',\n",
       " 'Sparx',\n",
       " 'ASTEROID',\n",
       " 'Magnolia',\n",
       " 'T-Rock',\n",
       " 'Swiggy',\n",
       " 'Stinson',\n",
       " 'World Wear Footwear',\n",
       " 'Airland',\n",
       " 'D-SNEAKERZ',\n",
       " 'Crysta',\n",
       " 'Chevit',\n",
       " 'Chevit',\n",
       " 'Axter',\n",
       " 'Believe',\n",
       " 'Layasa',\n",
       " 'Kraasa']"
      ]
     },
     "execution_count": 143,
     "metadata": {},
     "output_type": "execute_result"
    }
   ],
   "source": [
    "for i in br:\n",
    "   \n",
    "    Brands.append(str(i.text).replace(\"\\n\",\"\"))\n",
    "Brands"
   ]
  },
  {
   "cell_type": "code",
   "execution_count": 144,
   "metadata": {},
   "outputs": [
    {
     "data": {
      "text/plain": [
       "40"
      ]
     },
     "execution_count": 144,
     "metadata": {},
     "output_type": "execute_result"
    }
   ],
   "source": [
    "prs=driver1.find_elements_by_xpath(\"//div[@class='_30jeq3']\")\n",
    "len(prs)"
   ]
  },
  {
   "cell_type": "code",
   "execution_count": 145,
   "metadata": {
    "scrolled": true
   },
   "outputs": [
    {
     "data": {
      "text/plain": [
       "['₹379',\n",
       " '₹298',\n",
       " '₹499',\n",
       " '₹379',\n",
       " '₹499',\n",
       " '₹236',\n",
       " '₹499',\n",
       " '₹274',\n",
       " '₹398',\n",
       " '₹349',\n",
       " '₹350',\n",
       " '₹498',\n",
       " '₹379',\n",
       " '₹270',\n",
       " '₹205',\n",
       " '₹284',\n",
       " '₹299',\n",
       " '₹236',\n",
       " '₹236',\n",
       " '₹449',\n",
       " '₹379',\n",
       " '₹349',\n",
       " '₹420',\n",
       " '₹499',\n",
       " '₹819',\n",
       " '₹395',\n",
       " '₹348',\n",
       " '₹399',\n",
       " '₹759',\n",
       " '₹299',\n",
       " '₹240',\n",
       " '₹258',\n",
       " '₹368',\n",
       " '₹699',\n",
       " '₹499',\n",
       " '₹389',\n",
       " '₹297',\n",
       " '₹379',\n",
       " '₹399',\n",
       " '₹499']"
      ]
     },
     "execution_count": 145,
     "metadata": {},
     "output_type": "execute_result"
    }
   ],
   "source": [
    "for i in prs:\n",
    "   \n",
    "    Prices.append(str(i.text).replace(\"\\n\",\"\"))\n",
    "Prices"
   ]
  },
  {
   "cell_type": "code",
   "execution_count": 146,
   "metadata": {},
   "outputs": [
    {
     "data": {
      "text/plain": [
       "40"
      ]
     },
     "execution_count": 146,
     "metadata": {},
     "output_type": "execute_result"
    }
   ],
   "source": [
    "dsco=driver1.find_elements_by_xpath(\"//div[@class='_3Ay6Sb']\")\n",
    "len(dsco)"
   ]
  },
  {
   "cell_type": "code",
   "execution_count": 147,
   "metadata": {},
   "outputs": [
    {
     "data": {
      "text/plain": [
       "['70% off',\n",
       " '40% off',\n",
       " '75% off',\n",
       " '62% off',\n",
       " '75% off',\n",
       " '52% off',\n",
       " '85% off',\n",
       " '60% off',\n",
       " '60% off',\n",
       " '65% off',\n",
       " '64% off',\n",
       " '50% off',\n",
       " '62% off',\n",
       " '45% off',\n",
       " '58% off',\n",
       " '71% off',\n",
       " '70% off',\n",
       " '52% off',\n",
       " '52% off',\n",
       " '65% off',\n",
       " '62% off',\n",
       " '65% off',\n",
       " '57% off',\n",
       " '50% off',\n",
       " '18% off',\n",
       " '60% off',\n",
       " '65% off',\n",
       " '60% off',\n",
       " '69% off',\n",
       " '40% off',\n",
       " '51% off',\n",
       " '48% off',\n",
       " '44% off',\n",
       " '53% off',\n",
       " '50% off',\n",
       " '22% off',\n",
       " '70% off',\n",
       " '62% off',\n",
       " '60% off',\n",
       " '50% off']"
      ]
     },
     "execution_count": 147,
     "metadata": {},
     "output_type": "execute_result"
    }
   ],
   "source": [
    "for i in dsco:\n",
    "   \n",
    "    Discounts.append(str(i.text).replace(\"\\n\",\"\"))\n",
    "Discounts"
   ]
  },
  {
   "cell_type": "code",
   "execution_count": 148,
   "metadata": {},
   "outputs": [
    {
     "data": {
      "text/plain": [
       "33"
      ]
     },
     "execution_count": 148,
     "metadata": {},
     "output_type": "execute_result"
    }
   ],
   "source": [
    "prdesc=driver1.find_elements_by_xpath(\"//a[@class='IRpwTa']\")\n",
    "len(prdesc)"
   ]
  },
  {
   "cell_type": "code",
   "execution_count": 149,
   "metadata": {},
   "outputs": [
    {
     "data": {
      "text/plain": [
       "['Men Sports Sneakers For Men',\n",
       " 'Combo Pack of 4 Casual Sneakers With Sneakers For Men',\n",
       " 'Combo Pack of 4 Latest Collection Stylish Casual Loafer...',\n",
       " '171 Smart Tan Lace-Ups Casuals for Men Sneakers For Men',\n",
       " 'Combo Pack Of 4 Canvas Sneakers For Men',\n",
       " 'Combo pack of 2 casual sneaker shoes for men Sneakers F...',\n",
       " \"White Sneaker For Men's/Boy's Sneakers For Men\",\n",
       " \"Casual shoes,Sneakers for men's,shoes for men's Sneaker...\",\n",
       " 'shoes For Mens Combo(AR)-1660-1566 ( Multicolor-Pack of...',\n",
       " 'Sneakers For Men',\n",
       " '1245SpiderBlack Sneakers For Men',\n",
       " 'Sneakers For Men',\n",
       " 'Smart Casuals Canvas Shoes Combo pack of 2 Sneakers For...',\n",
       " '170 Smart Grey Lace-Ups Casuals for Men Sneakers For Me...',\n",
       " '168 Smart Red Lace-Ups Casuals for Men Sneakers For Men',\n",
       " 'White Sneaker for Men Sneakers For Men',\n",
       " 'Sneakers For Men',\n",
       " 'Sneakers For Men',\n",
       " 'Knitted Socks Casuals Sneakers For Men',\n",
       " 'SM-322 Sneakers For Men',\n",
       " 'White Sneakers Sneakers For Men',\n",
       " 'Synthetic Leather Casual Partywear Wedding Sneakers Sho...',\n",
       " 'Casual Loafers, Sneakers Shoes for Men Pack of 5 Combo(...',\n",
       " 'Sneakers For Men',\n",
       " '5011-Latest Collection Stylish Casual Loafer Sneakers S...',\n",
       " 'shoe Sneakers For Men',\n",
       " \"Casual , Partywear Sneakers Shoes For Men's And Boys Wh...\",\n",
       " 'Lightweight Combo Pack of 02 Trendy Sneakers Casuals Fo...',\n",
       " 'Super 445 Fashion Sneakers For Men',\n",
       " 'Combo Pack of 2 Latest Collection Stylish Casual Loafer...',\n",
       " 'Sneakers for men(black_10) Sneakers For Men',\n",
       " 'Fashionable Canvas casual Sneakers For Men',\n",
       " 'Young Choice Sneakers For Men']"
      ]
     },
     "execution_count": 149,
     "metadata": {},
     "output_type": "execute_result"
    }
   ],
   "source": [
    "for i in prdesc:\n",
    "   \n",
    "    Products_Description.append(str(i.text).replace(\"\\n\",\"\"))\n",
    "Products_Description"
   ]
  },
  {
   "cell_type": "code",
   "execution_count": 150,
   "metadata": {},
   "outputs": [
    {
     "data": {
      "text/html": [
       "<div>\n",
       "<style scoped>\n",
       "    .dataframe tbody tr th:only-of-type {\n",
       "        vertical-align: middle;\n",
       "    }\n",
       "\n",
       "    .dataframe tbody tr th {\n",
       "        vertical-align: top;\n",
       "    }\n",
       "\n",
       "    .dataframe thead th {\n",
       "        text-align: right;\n",
       "    }\n",
       "</style>\n",
       "<table border=\"1\" class=\"dataframe\">\n",
       "  <thead>\n",
       "    <tr style=\"text-align: right;\">\n",
       "      <th></th>\n",
       "      <th>Brands</th>\n",
       "      <th>Prices</th>\n",
       "      <th>Discounts</th>\n",
       "      <th>Products Description</th>\n",
       "    </tr>\n",
       "  </thead>\n",
       "  <tbody>\n",
       "    <tr>\n",
       "      <th>0</th>\n",
       "      <td>BRUTON</td>\n",
       "      <td>₹379</td>\n",
       "      <td>70% off</td>\n",
       "      <td>Men Sports Sneakers For Men</td>\n",
       "    </tr>\n",
       "    <tr>\n",
       "      <th>1</th>\n",
       "      <td>Airland</td>\n",
       "      <td>₹298</td>\n",
       "      <td>40% off</td>\n",
       "      <td>Combo Pack of 4 Casual Sneakers With Sneakers ...</td>\n",
       "    </tr>\n",
       "    <tr>\n",
       "      <th>2</th>\n",
       "      <td>Chevit</td>\n",
       "      <td>₹499</td>\n",
       "      <td>75% off</td>\n",
       "      <td>Combo Pack of 4 Latest Collection Stylish Casu...</td>\n",
       "    </tr>\n",
       "    <tr>\n",
       "      <th>3</th>\n",
       "      <td>Robbie jones</td>\n",
       "      <td>₹379</td>\n",
       "      <td>62% off</td>\n",
       "      <td>171 Smart Tan Lace-Ups Casuals for Men Sneaker...</td>\n",
       "    </tr>\n",
       "    <tr>\n",
       "      <th>4</th>\n",
       "      <td>World Wear Footwear</td>\n",
       "      <td>₹499</td>\n",
       "      <td>75% off</td>\n",
       "      <td>Combo Pack Of 4 Canvas Sneakers For Men</td>\n",
       "    </tr>\n",
       "    <tr>\n",
       "      <th>5</th>\n",
       "      <td>Chevit</td>\n",
       "      <td>₹236</td>\n",
       "      <td>52% off</td>\n",
       "      <td>Combo pack of 2 casual sneaker shoes for men S...</td>\n",
       "    </tr>\n",
       "    <tr>\n",
       "      <th>6</th>\n",
       "      <td>BRUTON</td>\n",
       "      <td>₹499</td>\n",
       "      <td>85% off</td>\n",
       "      <td>White Sneaker For Men's/Boy's Sneakers For Men</td>\n",
       "    </tr>\n",
       "    <tr>\n",
       "      <th>7</th>\n",
       "      <td>Stefano Rads</td>\n",
       "      <td>₹274</td>\n",
       "      <td>60% off</td>\n",
       "      <td>Casual shoes,Sneakers for men's,shoes for men'...</td>\n",
       "    </tr>\n",
       "    <tr>\n",
       "      <th>8</th>\n",
       "      <td>Oricum</td>\n",
       "      <td>₹398</td>\n",
       "      <td>60% off</td>\n",
       "      <td>shoes For Mens Combo(AR)-1660-1566 ( Multicolo...</td>\n",
       "    </tr>\n",
       "    <tr>\n",
       "      <th>9</th>\n",
       "      <td>Shoes Bank</td>\n",
       "      <td>₹349</td>\n",
       "      <td>65% off</td>\n",
       "      <td>Sneakers For Men</td>\n",
       "    </tr>\n",
       "    <tr>\n",
       "      <th>10</th>\n",
       "      <td>Restinfoot</td>\n",
       "      <td>₹350</td>\n",
       "      <td>64% off</td>\n",
       "      <td>1245SpiderBlack Sneakers For Men</td>\n",
       "    </tr>\n",
       "    <tr>\n",
       "      <th>11</th>\n",
       "      <td>Armado</td>\n",
       "      <td>₹498</td>\n",
       "      <td>50% off</td>\n",
       "      <td>Sneakers For Men</td>\n",
       "    </tr>\n",
       "    <tr>\n",
       "      <th>12</th>\n",
       "      <td>Rockfield</td>\n",
       "      <td>₹379</td>\n",
       "      <td>62% off</td>\n",
       "      <td>Smart Casuals Canvas Shoes Combo pack of 2 Sne...</td>\n",
       "    </tr>\n",
       "    <tr>\n",
       "      <th>13</th>\n",
       "      <td>Crysta</td>\n",
       "      <td>₹270</td>\n",
       "      <td>45% off</td>\n",
       "      <td>170 Smart Grey Lace-Ups Casuals for Men Sneake...</td>\n",
       "    </tr>\n",
       "    <tr>\n",
       "      <th>14</th>\n",
       "      <td>Hotstyle</td>\n",
       "      <td>₹205</td>\n",
       "      <td>58% off</td>\n",
       "      <td>168 Smart Red Lace-Ups Casuals for Men Sneaker...</td>\n",
       "    </tr>\n",
       "    <tr>\n",
       "      <th>15</th>\n",
       "      <td>LeatherKraft</td>\n",
       "      <td>₹284</td>\n",
       "      <td>71% off</td>\n",
       "      <td>White Sneaker for Men Sneakers For Men</td>\n",
       "    </tr>\n",
       "    <tr>\n",
       "      <th>16</th>\n",
       "      <td>Chevit</td>\n",
       "      <td>₹299</td>\n",
       "      <td>70% off</td>\n",
       "      <td>Sneakers For Men</td>\n",
       "    </tr>\n",
       "    <tr>\n",
       "      <th>17</th>\n",
       "      <td>Chevit</td>\n",
       "      <td>₹236</td>\n",
       "      <td>52% off</td>\n",
       "      <td>Sneakers For Men</td>\n",
       "    </tr>\n",
       "    <tr>\n",
       "      <th>18</th>\n",
       "      <td>Chevit</td>\n",
       "      <td>₹236</td>\n",
       "      <td>52% off</td>\n",
       "      <td>Knitted Socks Casuals Sneakers For Men</td>\n",
       "    </tr>\n",
       "    <tr>\n",
       "      <th>19</th>\n",
       "      <td>Numenzo</td>\n",
       "      <td>₹449</td>\n",
       "      <td>65% off</td>\n",
       "      <td>SM-322 Sneakers For Men</td>\n",
       "    </tr>\n",
       "    <tr>\n",
       "      <th>20</th>\n",
       "      <td>Red Rose</td>\n",
       "      <td>₹379</td>\n",
       "      <td>62% off</td>\n",
       "      <td>White Sneakers Sneakers For Men</td>\n",
       "    </tr>\n",
       "    <tr>\n",
       "      <th>21</th>\n",
       "      <td>Kavon</td>\n",
       "      <td>₹349</td>\n",
       "      <td>65% off</td>\n",
       "      <td>Synthetic Leather Casual Partywear Wedding Sne...</td>\n",
       "    </tr>\n",
       "    <tr>\n",
       "      <th>22</th>\n",
       "      <td>Fzzirok</td>\n",
       "      <td>₹420</td>\n",
       "      <td>57% off</td>\n",
       "      <td>Casual Loafers, Sneakers Shoes for Men Pack of...</td>\n",
       "    </tr>\n",
       "    <tr>\n",
       "      <th>23</th>\n",
       "      <td>Kraasa</td>\n",
       "      <td>₹499</td>\n",
       "      <td>50% off</td>\n",
       "      <td>Sneakers For Men</td>\n",
       "    </tr>\n",
       "    <tr>\n",
       "      <th>24</th>\n",
       "      <td>Sparx</td>\n",
       "      <td>₹819</td>\n",
       "      <td>18% off</td>\n",
       "      <td>5011-Latest Collection Stylish Casual Loafer S...</td>\n",
       "    </tr>\n",
       "    <tr>\n",
       "      <th>25</th>\n",
       "      <td>ASTEROID</td>\n",
       "      <td>₹395</td>\n",
       "      <td>60% off</td>\n",
       "      <td>shoe Sneakers For Men</td>\n",
       "    </tr>\n",
       "    <tr>\n",
       "      <th>26</th>\n",
       "      <td>Magnolia</td>\n",
       "      <td>₹348</td>\n",
       "      <td>65% off</td>\n",
       "      <td>Casual , Partywear Sneakers Shoes For Men's An...</td>\n",
       "    </tr>\n",
       "    <tr>\n",
       "      <th>27</th>\n",
       "      <td>T-Rock</td>\n",
       "      <td>₹399</td>\n",
       "      <td>60% off</td>\n",
       "      <td>Lightweight Combo Pack of 02 Trendy Sneakers C...</td>\n",
       "    </tr>\n",
       "    <tr>\n",
       "      <th>28</th>\n",
       "      <td>Swiggy</td>\n",
       "      <td>₹759</td>\n",
       "      <td>69% off</td>\n",
       "      <td>Super 445 Fashion Sneakers For Men</td>\n",
       "    </tr>\n",
       "    <tr>\n",
       "      <th>29</th>\n",
       "      <td>Stinson</td>\n",
       "      <td>₹299</td>\n",
       "      <td>40% off</td>\n",
       "      <td>Combo Pack of 2 Latest Collection Stylish Casu...</td>\n",
       "    </tr>\n",
       "    <tr>\n",
       "      <th>30</th>\n",
       "      <td>World Wear Footwear</td>\n",
       "      <td>₹240</td>\n",
       "      <td>51% off</td>\n",
       "      <td>Sneakers for men(black_10) Sneakers For Men</td>\n",
       "    </tr>\n",
       "    <tr>\n",
       "      <th>31</th>\n",
       "      <td>Airland</td>\n",
       "      <td>₹258</td>\n",
       "      <td>48% off</td>\n",
       "      <td>Fashionable Canvas casual Sneakers For Men</td>\n",
       "    </tr>\n",
       "    <tr>\n",
       "      <th>32</th>\n",
       "      <td>D-SNEAKERZ</td>\n",
       "      <td>₹368</td>\n",
       "      <td>44% off</td>\n",
       "      <td>Young Choice Sneakers For Men</td>\n",
       "    </tr>\n",
       "  </tbody>\n",
       "</table>\n",
       "</div>"
      ],
      "text/plain": [
       "                 Brands Prices Discounts  \\\n",
       "0                BRUTON   ₹379   70% off   \n",
       "1               Airland   ₹298   40% off   \n",
       "2                Chevit   ₹499   75% off   \n",
       "3          Robbie jones   ₹379   62% off   \n",
       "4   World Wear Footwear   ₹499   75% off   \n",
       "5                Chevit   ₹236   52% off   \n",
       "6                BRUTON   ₹499   85% off   \n",
       "7          Stefano Rads   ₹274   60% off   \n",
       "8                Oricum   ₹398   60% off   \n",
       "9            Shoes Bank   ₹349   65% off   \n",
       "10           Restinfoot   ₹350   64% off   \n",
       "11               Armado   ₹498   50% off   \n",
       "12            Rockfield   ₹379   62% off   \n",
       "13               Crysta   ₹270   45% off   \n",
       "14             Hotstyle   ₹205   58% off   \n",
       "15         LeatherKraft   ₹284   71% off   \n",
       "16               Chevit   ₹299   70% off   \n",
       "17               Chevit   ₹236   52% off   \n",
       "18               Chevit   ₹236   52% off   \n",
       "19              Numenzo   ₹449   65% off   \n",
       "20             Red Rose   ₹379   62% off   \n",
       "21                Kavon   ₹349   65% off   \n",
       "22              Fzzirok   ₹420   57% off   \n",
       "23               Kraasa   ₹499   50% off   \n",
       "24                Sparx   ₹819   18% off   \n",
       "25             ASTEROID   ₹395   60% off   \n",
       "26             Magnolia   ₹348   65% off   \n",
       "27               T-Rock   ₹399   60% off   \n",
       "28               Swiggy   ₹759   69% off   \n",
       "29              Stinson   ₹299   40% off   \n",
       "30  World Wear Footwear   ₹240   51% off   \n",
       "31              Airland   ₹258   48% off   \n",
       "32           D-SNEAKERZ   ₹368   44% off   \n",
       "\n",
       "                                 Products Description  \n",
       "0                         Men Sports Sneakers For Men  \n",
       "1   Combo Pack of 4 Casual Sneakers With Sneakers ...  \n",
       "2   Combo Pack of 4 Latest Collection Stylish Casu...  \n",
       "3   171 Smart Tan Lace-Ups Casuals for Men Sneaker...  \n",
       "4             Combo Pack Of 4 Canvas Sneakers For Men  \n",
       "5   Combo pack of 2 casual sneaker shoes for men S...  \n",
       "6      White Sneaker For Men's/Boy's Sneakers For Men  \n",
       "7   Casual shoes,Sneakers for men's,shoes for men'...  \n",
       "8   shoes For Mens Combo(AR)-1660-1566 ( Multicolo...  \n",
       "9                                    Sneakers For Men  \n",
       "10                   1245SpiderBlack Sneakers For Men  \n",
       "11                                   Sneakers For Men  \n",
       "12  Smart Casuals Canvas Shoes Combo pack of 2 Sne...  \n",
       "13  170 Smart Grey Lace-Ups Casuals for Men Sneake...  \n",
       "14  168 Smart Red Lace-Ups Casuals for Men Sneaker...  \n",
       "15             White Sneaker for Men Sneakers For Men  \n",
       "16                                   Sneakers For Men  \n",
       "17                                   Sneakers For Men  \n",
       "18             Knitted Socks Casuals Sneakers For Men  \n",
       "19                            SM-322 Sneakers For Men  \n",
       "20                    White Sneakers Sneakers For Men  \n",
       "21  Synthetic Leather Casual Partywear Wedding Sne...  \n",
       "22  Casual Loafers, Sneakers Shoes for Men Pack of...  \n",
       "23                                   Sneakers For Men  \n",
       "24  5011-Latest Collection Stylish Casual Loafer S...  \n",
       "25                              shoe Sneakers For Men  \n",
       "26  Casual , Partywear Sneakers Shoes For Men's An...  \n",
       "27  Lightweight Combo Pack of 02 Trendy Sneakers C...  \n",
       "28                 Super 445 Fashion Sneakers For Men  \n",
       "29  Combo Pack of 2 Latest Collection Stylish Casu...  \n",
       "30        Sneakers for men(black_10) Sneakers For Men  \n",
       "31         Fashionable Canvas casual Sneakers For Men  \n",
       "32                      Young Choice Sneakers For Men  "
      ]
     },
     "execution_count": 150,
     "metadata": {},
     "output_type": "execute_result"
    }
   ],
   "source": [
    "FlipSneak=pd.DataFrame([])\n",
    "FlipSneak['Brands']=Brands[:33]\n",
    "FlipSneak['Prices']=Prices[:33]\n",
    "FlipSneak['Discounts']=Discounts[:33]\n",
    "FlipSneak['Products Description']=Products_Description[:33]\n",
    "\n",
    "FlipSneak"
   ]
  },
  {
   "cell_type": "code",
   "execution_count": null,
   "metadata": {},
   "outputs": [],
   "source": []
  },
  {
   "cell_type": "markdown",
   "metadata": {},
   "source": [
    "# Quetions - 9"
   ]
  },
  {
   "cell_type": "code",
   "execution_count": null,
   "metadata": {},
   "outputs": [],
   "source": []
  },
  {
   "cell_type": "code",
   "execution_count": 151,
   "metadata": {},
   "outputs": [],
   "source": [
    "driver1 = webdriver.Chrome(r\"E:\\Aniket\\chromedriver_win32\\chromedriver.exe\")"
   ]
  },
  {
   "cell_type": "code",
   "execution_count": 152,
   "metadata": {},
   "outputs": [],
   "source": [
    "url_8=\"https://www.myntra.com/shoes?f=Color%3ABlack_36454f&plaEnabled=false&rf=Price%3A5862.0_11575.0_5862.0%20TO%2011575.0\""
   ]
  },
  {
   "cell_type": "code",
   "execution_count": 153,
   "metadata": {},
   "outputs": [],
   "source": [
    "driver1.get(url_8)"
   ]
  },
  {
   "cell_type": "code",
   "execution_count": 154,
   "metadata": {},
   "outputs": [],
   "source": [
    "Brand_Company=[]\n",
    "shorts_Description=[]\n",
    "Product_Price=[]"
   ]
  },
  {
   "cell_type": "code",
   "execution_count": 155,
   "metadata": {},
   "outputs": [
    {
     "data": {
      "text/plain": [
       "50"
      ]
     },
     "execution_count": 155,
     "metadata": {},
     "output_type": "execute_result"
    }
   ],
   "source": [
    "bndc=driver1.find_elements_by_xpath(\"//h3[@class='product-brand']\")\n",
    "len(bndc)"
   ]
  },
  {
   "cell_type": "code",
   "execution_count": 156,
   "metadata": {
    "scrolled": true
   },
   "outputs": [
    {
     "data": {
      "text/plain": [
       "['ADIDAS Originals',\n",
       " 'Nike',\n",
       " 'Geox',\n",
       " 'Reebok',\n",
       " 'Nike',\n",
       " 'Cole Haan',\n",
       " 'Nike',\n",
       " 'Nike',\n",
       " 'Nike',\n",
       " 'Nike',\n",
       " 'ADIDAS',\n",
       " 'Nike',\n",
       " 'Nike',\n",
       " 'Skechers',\n",
       " 'Geox',\n",
       " 'ADIDAS Originals',\n",
       " 'ADIDAS',\n",
       " 'Geox',\n",
       " 'Kenneth Cole',\n",
       " 'Geox',\n",
       " 'UNDER ARMOUR',\n",
       " 'ADIDAS Originals',\n",
       " 'Kenneth Cole',\n",
       " 'Geox',\n",
       " 'Kenneth Cole',\n",
       " 'Cole Haan',\n",
       " 'Kenneth Cole',\n",
       " 'Cole Haan',\n",
       " 'Geox',\n",
       " 'Geox',\n",
       " 'Nike',\n",
       " 'Kenneth Cole',\n",
       " 'ALDO',\n",
       " 'Geox',\n",
       " 'Kenneth Cole',\n",
       " 'Nike',\n",
       " 'Kenneth Cole',\n",
       " 'ALDO',\n",
       " 'Nike',\n",
       " 'Cole Haan',\n",
       " 'Cole Haan',\n",
       " 'Cole Haan',\n",
       " 'Kenneth Cole',\n",
       " 'UNDER ARMOUR',\n",
       " 'Geox',\n",
       " 'Kenneth Cole',\n",
       " 'Cole Haan',\n",
       " 'Cole Haan',\n",
       " 'ALDO',\n",
       " 'UNDER ARMOUR']"
      ]
     },
     "execution_count": 156,
     "metadata": {},
     "output_type": "execute_result"
    }
   ],
   "source": [
    "for i in bndc:\n",
    "   \n",
    "    Brand_Company.append(str(i.text).replace(\"\\n\",\"\"))\n",
    "Brand_Company"
   ]
  },
  {
   "cell_type": "code",
   "execution_count": 157,
   "metadata": {},
   "outputs": [
    {
     "data": {
      "text/plain": [
       "40"
      ]
     },
     "execution_count": 157,
     "metadata": {},
     "output_type": "execute_result"
    }
   ],
   "source": [
    "pprs=driver1.find_elements_by_xpath(\"//span[@class='product-discountedPrice']\")\n",
    "len(pprs)"
   ]
  },
  {
   "cell_type": "code",
   "execution_count": 158,
   "metadata": {
    "scrolled": true
   },
   "outputs": [
    {
     "data": {
      "text/plain": [
       "['Rs. 10999',\n",
       " 'Rs. 6599',\n",
       " 'Rs. 8999',\n",
       " 'Rs. 6999',\n",
       " 'Rs. 11099',\n",
       " 'Rs. 7499',\n",
       " 'Rs. 7799',\n",
       " 'Rs. 7999',\n",
       " 'Rs. 7999',\n",
       " 'Rs. 9199',\n",
       " 'Rs. 7699',\n",
       " 'Rs. 11499',\n",
       " 'Rs. 7199',\n",
       " 'Rs. 8994',\n",
       " 'Rs. 6293',\n",
       " 'Rs. 8199',\n",
       " 'Rs. 6293',\n",
       " 'Rs. 6599',\n",
       " 'Rs. 6293',\n",
       " 'Rs. 11249',\n",
       " 'Rs. 6293',\n",
       " 'Rs. 8999',\n",
       " 'Rs. 8999',\n",
       " 'Rs. 5999',\n",
       " 'Rs. 6293',\n",
       " 'Rs. 7799',\n",
       " 'Rs. 8999',\n",
       " 'Rs. 6013',\n",
       " 'Rs. 6399',\n",
       " 'Rs. 6153',\n",
       " 'Rs. 7699',\n",
       " 'Rs. 5999',\n",
       " 'Rs. 8999',\n",
       " 'Rs. 8249',\n",
       " 'Rs. 6293',\n",
       " 'Rs. 9749',\n",
       " 'Rs. 9513',\n",
       " 'Rs. 9999',\n",
       " 'Rs. 9749',\n",
       " 'Rs. 8999']"
      ]
     },
     "execution_count": 158,
     "metadata": {},
     "output_type": "execute_result"
    }
   ],
   "source": [
    "for i in pprs:\n",
    "   \n",
    "    Product_Price.append(str(i.text).replace(\"\\n\",\"\"))\n",
    "Product_Price"
   ]
  },
  {
   "cell_type": "code",
   "execution_count": 159,
   "metadata": {},
   "outputs": [
    {
     "data": {
      "text/plain": [
       "50"
      ]
     },
     "execution_count": 159,
     "metadata": {},
     "output_type": "execute_result"
    }
   ],
   "source": [
    "sdesc=driver1.find_elements_by_xpath(\"//h4[@class='product-product']\")\n",
    "len(sdesc)"
   ]
  },
  {
   "cell_type": "code",
   "execution_count": 160,
   "metadata": {},
   "outputs": [
    {
     "data": {
      "text/plain": [
       "['Men NMD R1 Sneakers',\n",
       " 'Men Solid SKYVE MAX Sneakers',\n",
       " 'Leather Mid-Top Chelsea Boots',\n",
       " 'Forever Floatride Energy 2',\n",
       " 'Men React Infinity Running',\n",
       " 'Women Woven Design Slip-On Sneakers',\n",
       " 'Men JORDAN DELTA Sneakers',\n",
       " 'Men REACT PHANTOM Running',\n",
       " 'PEGASUS FLYEASE Running Shoes',\n",
       " 'Women REACT Running Shoes',\n",
       " 'Men SOLAR DRIVE 19 M Running',\n",
       " 'Women AIR ZOOM Running Shoes',\n",
       " 'AIR ZOOM PEGASUS Running Shoes',\n",
       " 'Men Running Shoes',\n",
       " 'Men Leather Formal Oxfords',\n",
       " 'Men Nite Jogger Shoes',\n",
       " 'Men ALPHATORSION Running Shoes',\n",
       " 'Men Leather Formal Derbyacs',\n",
       " 'Men Solid Leather Formal Brogues',\n",
       " 'Men Leather Driving Shoes',\n",
       " 'Men HOVR Sonic 3 Running Shoes',\n",
       " 'Men Superstar Sneakers',\n",
       " 'Men Solid Leather Formal Derbys',\n",
       " 'Men Solid Leather Sneakers',\n",
       " 'Men Leather Formal Derbys',\n",
       " 'Women Woven Design Sneakers',\n",
       " 'Men Solid Leather Formal Derbys',\n",
       " 'Men GENERATION ZEROGRAND STITCHLITE',\n",
       " 'Men Leather Mid-Top Brogues',\n",
       " 'Men Leather Driving Shoes',\n",
       " 'Women FREE RN 5.0 Shoes',\n",
       " 'Men Solid Leather Formal Slip-Ons',\n",
       " 'Men Leather Loafers',\n",
       " 'Men Solid Leather Sneakers',\n",
       " 'Men Textured Sneakers',\n",
       " 'Men DBREAK-TYPE Sneakers',\n",
       " 'Men Solid Leather Formal Loafers',\n",
       " 'Women Solid Sneakers',\n",
       " 'Women AIR MAX VERONA Sneakers',\n",
       " 'Women Leather Open Toe Flats',\n",
       " 'Women Open Toe Flats',\n",
       " 'Leather Sneakers',\n",
       " 'Men Solid Leather Formal Derbys',\n",
       " 'Men Charged Impulse Knit',\n",
       " 'Women Leather Flat Boots',\n",
       " 'Women Solid Flat Boots',\n",
       " 'Men Traveller Leather Penny Loafers',\n",
       " 'Men Wingtip Oxford Sneakers',\n",
       " 'Women Heeled Boots',\n",
       " 'Charged Bandit 5 Running Shoes']"
      ]
     },
     "execution_count": 160,
     "metadata": {},
     "output_type": "execute_result"
    }
   ],
   "source": [
    "for i in sdesc:\n",
    "   \n",
    "    shorts_Description.append(str(i.text).replace(\"\\n\",\"\"))\n",
    "shorts_Description"
   ]
  },
  {
   "cell_type": "code",
   "execution_count": 161,
   "metadata": {},
   "outputs": [
    {
     "data": {
      "text/html": [
       "<div>\n",
       "<style scoped>\n",
       "    .dataframe tbody tr th:only-of-type {\n",
       "        vertical-align: middle;\n",
       "    }\n",
       "\n",
       "    .dataframe tbody tr th {\n",
       "        vertical-align: top;\n",
       "    }\n",
       "\n",
       "    .dataframe thead th {\n",
       "        text-align: right;\n",
       "    }\n",
       "</style>\n",
       "<table border=\"1\" class=\"dataframe\">\n",
       "  <thead>\n",
       "    <tr style=\"text-align: right;\">\n",
       "      <th></th>\n",
       "      <th>Brands</th>\n",
       "      <th>Product Price</th>\n",
       "      <th>Products Description</th>\n",
       "    </tr>\n",
       "  </thead>\n",
       "  <tbody>\n",
       "    <tr>\n",
       "      <th>0</th>\n",
       "      <td>ADIDAS Originals</td>\n",
       "      <td>Rs. 10999</td>\n",
       "      <td>Men NMD R1 Sneakers</td>\n",
       "    </tr>\n",
       "    <tr>\n",
       "      <th>1</th>\n",
       "      <td>Nike</td>\n",
       "      <td>Rs. 6599</td>\n",
       "      <td>Men Solid SKYVE MAX Sneakers</td>\n",
       "    </tr>\n",
       "    <tr>\n",
       "      <th>2</th>\n",
       "      <td>Geox</td>\n",
       "      <td>Rs. 8999</td>\n",
       "      <td>Leather Mid-Top Chelsea Boots</td>\n",
       "    </tr>\n",
       "    <tr>\n",
       "      <th>3</th>\n",
       "      <td>Reebok</td>\n",
       "      <td>Rs. 6999</td>\n",
       "      <td>Forever Floatride Energy 2</td>\n",
       "    </tr>\n",
       "    <tr>\n",
       "      <th>4</th>\n",
       "      <td>Nike</td>\n",
       "      <td>Rs. 11099</td>\n",
       "      <td>Men React Infinity Running</td>\n",
       "    </tr>\n",
       "    <tr>\n",
       "      <th>5</th>\n",
       "      <td>Cole Haan</td>\n",
       "      <td>Rs. 7499</td>\n",
       "      <td>Women Woven Design Slip-On Sneakers</td>\n",
       "    </tr>\n",
       "    <tr>\n",
       "      <th>6</th>\n",
       "      <td>Nike</td>\n",
       "      <td>Rs. 7799</td>\n",
       "      <td>Men JORDAN DELTA Sneakers</td>\n",
       "    </tr>\n",
       "    <tr>\n",
       "      <th>7</th>\n",
       "      <td>Nike</td>\n",
       "      <td>Rs. 7999</td>\n",
       "      <td>Men REACT PHANTOM Running</td>\n",
       "    </tr>\n",
       "    <tr>\n",
       "      <th>8</th>\n",
       "      <td>Nike</td>\n",
       "      <td>Rs. 7999</td>\n",
       "      <td>PEGASUS FLYEASE Running Shoes</td>\n",
       "    </tr>\n",
       "    <tr>\n",
       "      <th>9</th>\n",
       "      <td>Nike</td>\n",
       "      <td>Rs. 9199</td>\n",
       "      <td>Women REACT Running Shoes</td>\n",
       "    </tr>\n",
       "    <tr>\n",
       "      <th>10</th>\n",
       "      <td>ADIDAS</td>\n",
       "      <td>Rs. 7699</td>\n",
       "      <td>Men SOLAR DRIVE 19 M Running</td>\n",
       "    </tr>\n",
       "    <tr>\n",
       "      <th>11</th>\n",
       "      <td>Nike</td>\n",
       "      <td>Rs. 11499</td>\n",
       "      <td>Women AIR ZOOM Running Shoes</td>\n",
       "    </tr>\n",
       "    <tr>\n",
       "      <th>12</th>\n",
       "      <td>Nike</td>\n",
       "      <td>Rs. 7199</td>\n",
       "      <td>AIR ZOOM PEGASUS Running Shoes</td>\n",
       "    </tr>\n",
       "    <tr>\n",
       "      <th>13</th>\n",
       "      <td>Skechers</td>\n",
       "      <td>Rs. 8994</td>\n",
       "      <td>Men Running Shoes</td>\n",
       "    </tr>\n",
       "    <tr>\n",
       "      <th>14</th>\n",
       "      <td>Geox</td>\n",
       "      <td>Rs. 6293</td>\n",
       "      <td>Men Leather Formal Oxfords</td>\n",
       "    </tr>\n",
       "    <tr>\n",
       "      <th>15</th>\n",
       "      <td>ADIDAS Originals</td>\n",
       "      <td>Rs. 8199</td>\n",
       "      <td>Men Nite Jogger Shoes</td>\n",
       "    </tr>\n",
       "    <tr>\n",
       "      <th>16</th>\n",
       "      <td>ADIDAS</td>\n",
       "      <td>Rs. 6293</td>\n",
       "      <td>Men ALPHATORSION Running Shoes</td>\n",
       "    </tr>\n",
       "    <tr>\n",
       "      <th>17</th>\n",
       "      <td>Geox</td>\n",
       "      <td>Rs. 6599</td>\n",
       "      <td>Men Leather Formal Derbyacs</td>\n",
       "    </tr>\n",
       "    <tr>\n",
       "      <th>18</th>\n",
       "      <td>Kenneth Cole</td>\n",
       "      <td>Rs. 6293</td>\n",
       "      <td>Men Solid Leather Formal Brogues</td>\n",
       "    </tr>\n",
       "    <tr>\n",
       "      <th>19</th>\n",
       "      <td>Geox</td>\n",
       "      <td>Rs. 11249</td>\n",
       "      <td>Men Leather Driving Shoes</td>\n",
       "    </tr>\n",
       "    <tr>\n",
       "      <th>20</th>\n",
       "      <td>UNDER ARMOUR</td>\n",
       "      <td>Rs. 6293</td>\n",
       "      <td>Men HOVR Sonic 3 Running Shoes</td>\n",
       "    </tr>\n",
       "    <tr>\n",
       "      <th>21</th>\n",
       "      <td>ADIDAS Originals</td>\n",
       "      <td>Rs. 8999</td>\n",
       "      <td>Men Superstar Sneakers</td>\n",
       "    </tr>\n",
       "    <tr>\n",
       "      <th>22</th>\n",
       "      <td>Kenneth Cole</td>\n",
       "      <td>Rs. 8999</td>\n",
       "      <td>Men Solid Leather Formal Derbys</td>\n",
       "    </tr>\n",
       "    <tr>\n",
       "      <th>23</th>\n",
       "      <td>Geox</td>\n",
       "      <td>Rs. 5999</td>\n",
       "      <td>Men Solid Leather Sneakers</td>\n",
       "    </tr>\n",
       "    <tr>\n",
       "      <th>24</th>\n",
       "      <td>Kenneth Cole</td>\n",
       "      <td>Rs. 6293</td>\n",
       "      <td>Men Leather Formal Derbys</td>\n",
       "    </tr>\n",
       "    <tr>\n",
       "      <th>25</th>\n",
       "      <td>Cole Haan</td>\n",
       "      <td>Rs. 7799</td>\n",
       "      <td>Women Woven Design Sneakers</td>\n",
       "    </tr>\n",
       "    <tr>\n",
       "      <th>26</th>\n",
       "      <td>Kenneth Cole</td>\n",
       "      <td>Rs. 8999</td>\n",
       "      <td>Men Solid Leather Formal Derbys</td>\n",
       "    </tr>\n",
       "    <tr>\n",
       "      <th>27</th>\n",
       "      <td>Cole Haan</td>\n",
       "      <td>Rs. 6013</td>\n",
       "      <td>Men GENERATION ZEROGRAND STITCHLITE</td>\n",
       "    </tr>\n",
       "    <tr>\n",
       "      <th>28</th>\n",
       "      <td>Geox</td>\n",
       "      <td>Rs. 6399</td>\n",
       "      <td>Men Leather Mid-Top Brogues</td>\n",
       "    </tr>\n",
       "    <tr>\n",
       "      <th>29</th>\n",
       "      <td>Geox</td>\n",
       "      <td>Rs. 6153</td>\n",
       "      <td>Men Leather Driving Shoes</td>\n",
       "    </tr>\n",
       "    <tr>\n",
       "      <th>30</th>\n",
       "      <td>Nike</td>\n",
       "      <td>Rs. 7699</td>\n",
       "      <td>Women FREE RN 5.0 Shoes</td>\n",
       "    </tr>\n",
       "    <tr>\n",
       "      <th>31</th>\n",
       "      <td>Kenneth Cole</td>\n",
       "      <td>Rs. 5999</td>\n",
       "      <td>Men Solid Leather Formal Slip-Ons</td>\n",
       "    </tr>\n",
       "    <tr>\n",
       "      <th>32</th>\n",
       "      <td>ALDO</td>\n",
       "      <td>Rs. 8999</td>\n",
       "      <td>Men Leather Loafers</td>\n",
       "    </tr>\n",
       "    <tr>\n",
       "      <th>33</th>\n",
       "      <td>Geox</td>\n",
       "      <td>Rs. 8249</td>\n",
       "      <td>Men Solid Leather Sneakers</td>\n",
       "    </tr>\n",
       "    <tr>\n",
       "      <th>34</th>\n",
       "      <td>Kenneth Cole</td>\n",
       "      <td>Rs. 6293</td>\n",
       "      <td>Men Textured Sneakers</td>\n",
       "    </tr>\n",
       "    <tr>\n",
       "      <th>35</th>\n",
       "      <td>Nike</td>\n",
       "      <td>Rs. 9749</td>\n",
       "      <td>Men DBREAK-TYPE Sneakers</td>\n",
       "    </tr>\n",
       "    <tr>\n",
       "      <th>36</th>\n",
       "      <td>Kenneth Cole</td>\n",
       "      <td>Rs. 9513</td>\n",
       "      <td>Men Solid Leather Formal Loafers</td>\n",
       "    </tr>\n",
       "    <tr>\n",
       "      <th>37</th>\n",
       "      <td>ALDO</td>\n",
       "      <td>Rs. 9999</td>\n",
       "      <td>Women Solid Sneakers</td>\n",
       "    </tr>\n",
       "    <tr>\n",
       "      <th>38</th>\n",
       "      <td>Nike</td>\n",
       "      <td>Rs. 9749</td>\n",
       "      <td>Women AIR MAX VERONA Sneakers</td>\n",
       "    </tr>\n",
       "    <tr>\n",
       "      <th>39</th>\n",
       "      <td>Cole Haan</td>\n",
       "      <td>Rs. 8999</td>\n",
       "      <td>Women Leather Open Toe Flats</td>\n",
       "    </tr>\n",
       "  </tbody>\n",
       "</table>\n",
       "</div>"
      ],
      "text/plain": [
       "              Brands Product Price                 Products Description\n",
       "0   ADIDAS Originals     Rs. 10999                  Men NMD R1 Sneakers\n",
       "1               Nike      Rs. 6599         Men Solid SKYVE MAX Sneakers\n",
       "2               Geox      Rs. 8999        Leather Mid-Top Chelsea Boots\n",
       "3             Reebok      Rs. 6999           Forever Floatride Energy 2\n",
       "4               Nike     Rs. 11099           Men React Infinity Running\n",
       "5          Cole Haan      Rs. 7499  Women Woven Design Slip-On Sneakers\n",
       "6               Nike      Rs. 7799            Men JORDAN DELTA Sneakers\n",
       "7               Nike      Rs. 7999            Men REACT PHANTOM Running\n",
       "8               Nike      Rs. 7999        PEGASUS FLYEASE Running Shoes\n",
       "9               Nike      Rs. 9199            Women REACT Running Shoes\n",
       "10            ADIDAS      Rs. 7699         Men SOLAR DRIVE 19 M Running\n",
       "11              Nike     Rs. 11499         Women AIR ZOOM Running Shoes\n",
       "12              Nike      Rs. 7199       AIR ZOOM PEGASUS Running Shoes\n",
       "13          Skechers      Rs. 8994                    Men Running Shoes\n",
       "14              Geox      Rs. 6293           Men Leather Formal Oxfords\n",
       "15  ADIDAS Originals      Rs. 8199                Men Nite Jogger Shoes\n",
       "16            ADIDAS      Rs. 6293       Men ALPHATORSION Running Shoes\n",
       "17              Geox      Rs. 6599          Men Leather Formal Derbyacs\n",
       "18      Kenneth Cole      Rs. 6293     Men Solid Leather Formal Brogues\n",
       "19              Geox     Rs. 11249            Men Leather Driving Shoes\n",
       "20      UNDER ARMOUR      Rs. 6293       Men HOVR Sonic 3 Running Shoes\n",
       "21  ADIDAS Originals      Rs. 8999               Men Superstar Sneakers\n",
       "22      Kenneth Cole      Rs. 8999      Men Solid Leather Formal Derbys\n",
       "23              Geox      Rs. 5999           Men Solid Leather Sneakers\n",
       "24      Kenneth Cole      Rs. 6293            Men Leather Formal Derbys\n",
       "25         Cole Haan      Rs. 7799          Women Woven Design Sneakers\n",
       "26      Kenneth Cole      Rs. 8999      Men Solid Leather Formal Derbys\n",
       "27         Cole Haan      Rs. 6013  Men GENERATION ZEROGRAND STITCHLITE\n",
       "28              Geox      Rs. 6399          Men Leather Mid-Top Brogues\n",
       "29              Geox      Rs. 6153            Men Leather Driving Shoes\n",
       "30              Nike      Rs. 7699              Women FREE RN 5.0 Shoes\n",
       "31      Kenneth Cole      Rs. 5999    Men Solid Leather Formal Slip-Ons\n",
       "32              ALDO      Rs. 8999                  Men Leather Loafers\n",
       "33              Geox      Rs. 8249           Men Solid Leather Sneakers\n",
       "34      Kenneth Cole      Rs. 6293                Men Textured Sneakers\n",
       "35              Nike      Rs. 9749             Men DBREAK-TYPE Sneakers\n",
       "36      Kenneth Cole      Rs. 9513     Men Solid Leather Formal Loafers\n",
       "37              ALDO      Rs. 9999                 Women Solid Sneakers\n",
       "38              Nike      Rs. 9749        Women AIR MAX VERONA Sneakers\n",
       "39         Cole Haan      Rs. 8999         Women Leather Open Toe Flats"
      ]
     },
     "execution_count": 161,
     "metadata": {},
     "output_type": "execute_result"
    }
   ],
   "source": [
    "shoes=pd.DataFrame([])\n",
    "shoes['Brands']=Brand_Company[:40]\n",
    "shoes['Product Price']=Product_Price[:40]\n",
    "shoes['Products Description']=shorts_Description[:40]\n",
    "\n",
    "shoes"
   ]
  },
  {
   "cell_type": "code",
   "execution_count": null,
   "metadata": {},
   "outputs": [],
   "source": []
  },
  {
   "cell_type": "markdown",
   "metadata": {},
   "source": [
    "# Quetion - 10"
   ]
  },
  {
   "cell_type": "code",
   "execution_count": null,
   "metadata": {},
   "outputs": [],
   "source": []
  },
  {
   "cell_type": "code",
   "execution_count": 162,
   "metadata": {},
   "outputs": [],
   "source": [
    "driver1 = webdriver.Chrome(r\"E:\\Aniket\\chromedriver_win32\\chromedriver.exe\")"
   ]
  },
  {
   "cell_type": "code",
   "execution_count": 163,
   "metadata": {},
   "outputs": [],
   "source": [
    "url_9=\"https://www.amazon.in/s?k=laptop&i=computers&rh=n%3A1375424031%2Cp_n_feature_thirteen_browse-bin%3A12598163031%7C16757432031&dc&qid=1611551164&rnid=12598141031&ref=sr_nr_p_n_feature_thirteen_browse-bin_17\""
   ]
  },
  {
   "cell_type": "code",
   "execution_count": 164,
   "metadata": {},
   "outputs": [],
   "source": [
    "driver1.get(url_9)"
   ]
  },
  {
   "cell_type": "code",
   "execution_count": 165,
   "metadata": {},
   "outputs": [],
   "source": [
    "Brand_Title=[]\n",
    "Laptop_Rating=[]\n",
    "Laptop_Price=[]"
   ]
  },
  {
   "cell_type": "code",
   "execution_count": 166,
   "metadata": {},
   "outputs": [
    {
     "data": {
      "text/plain": [
       "24"
      ]
     },
     "execution_count": 166,
     "metadata": {},
     "output_type": "execute_result"
    }
   ],
   "source": [
    "brndT=driver1.find_elements_by_xpath(\"//span[@class='a-size-medium a-color-base a-text-normal']\")\n",
    "len(brndT)"
   ]
  },
  {
   "cell_type": "code",
   "execution_count": 167,
   "metadata": {
    "scrolled": true
   },
   "outputs": [
    {
     "data": {
      "text/plain": [
       "['(Renewed) Lenovo IdeaPad Gaming 3i 10th Gen Intel Core i7 15.6-inch FHD IPS Gaming Laptop (8GB/1TB HDD + 256 GB SSD/Windows 10/NVIDIA GTX 1650 4GB GDDR6/with M100 RGB Gaming Mouse/Onyx Black/2.2Kg), 81Y400VAIN',\n",
       " 'Mi Notebook Horizon Edition 14 Intel Core i5-10210U 10th Gen Thin and Light Laptop(8GB/512GB SSD/Windows 10/Nvidia MX350 2GB Graphics/Grey/1.35Kg), XMA1904-AR+Webcam',\n",
       " 'Lenovo Yoga S740 Intel Core i7 10th Gen 14 inch UHD Ultra Thin and Light Laptop (16GB/1TB SSD/Windows/Office/NVIDIA MX250 2GB/Iron Grey/1.4Kg), 81RS00B0IN',\n",
       " 'MSI GF63 Thin Core i7 9th Gen - (8 GB/512 GB SSD/Windows 10 Home/4 GB Graphics/NVIDIA Geforce GTX 1650 Ti with Max-Q) GF63 Thin 9SCSR-1039IN Gaming Laptop (15.6 inch, Black, 1.86 kg)',\n",
       " '(Renewed) MSI Prestige PE62 Core i7 7th Gen 15.6\" FHD Laptop Nvidia GeForce GTX 1050 Ti 4GB GDDR5 (8GB/1TB + 125 GB NVMe SSD/DOS OS/Silver/2.2Kg) 7RE-2024XIN',\n",
       " 'HP Pavilion x360 Touchscreen 2-in-1 FHD 14-inch Laptop (10th Gen Core i7-10510U/8GB/512GB SSD/Windows 10 Home/MS Office/Mineral Silver/1.58 kg), 14-dh1180tu',\n",
       " '(Renewed) Lenovo Yoga C940 Intel Core i7 10th Gen 14 inch UHD Thin and Light Laptop (16GB/1TB SSD/Windows 10/Office 2019/Mica/1.25Kg), 81Q9009XIN',\n",
       " 'Microsoft Laptop 2 1769 13.5-inch Laptop (Intel Core i7/8GB/256GB SSD/Windows 10 Home/Integrated Graphics), Platinum',\n",
       " 'Dell XPS 9570 15.6-inch FHD Laptop (8th Gen Core i7-8750H/16GB/512 GB SSD/Windows 10 + MS Office/ Nvidia GTX 1050Ti 4GB Graphics/Silver)',\n",
       " 'Dell Inspiron 5370 13.3-inch FHD Laptop (Core i7-8550U/8GB/256GB/Windows 10 + MS Office/2GB Graphics/Silver) + Dell Pro Slim Backpack 15 - PO1520PS',\n",
       " 'Dell Inspiron 5370 13.3-inch FHD Laptop (Core i7-8550U/8GB/256GB/Windows 10 + MS Office/2GB Graphics/Silver) + Dell Compact Wireless Combo KM7120W',\n",
       " '(Renewed) HP Hybrid Probook Laptop 430G3 Intel Core i7 - 6500u Processor, 16 GB Ram & 128 GB SSD & 320GB HDD, Win10, 13.3 Inches 1.55 KG Ultralight Computer',\n",
       " 'Lenovo Yoga 7i 11th Gen Intel Core i7 14-inch Full HD IPS 2-in-1 Convertible Laptop (16GB/512GB SSD/Windows 10/MS Office 2019/Fingerprint Reader/Slate Grey/Aluminium Surface/1.43Kg), 82BH004HIN',\n",
       " '(Renewed) HP Hybrid Probook Laptop 430G3 Intel Core i7 - 6500u Processor, 16 GB Ram & 128 GB SSD & 500GB HDD, Win10, 13.3 Inches 1.55 KG Ultralight Computer',\n",
       " '(Renewed) Dell XPS 15 - 9570 Laptop/Intel 8th Gen Ci7-8750H/15.6inch FHD/256GB SSD/8GB/NVIDIA GeForce GTX 1050Ti 4GB GDDR5/Win 10 Pro//Silver Machined Aluminum - LCD Back Cover',\n",
       " '(Renewed) HP Hybrid Probook Laptop 430G3 Intel Core i7 - 6500u Processor, 8 GB Ram & 512 GB SSD & 500GB HDD, Win10, 13.3 Inches 1.55 KG Ultralight Computer',\n",
       " 'Lenovo IdeaPad Gaming 3i 10th Gen Intel Core i7 15.6-inch FHD IPS Gaming Laptop (8GB/1TB HDD + 256 GB SSD/Windows 10/NVIDIA GTX 1650 4GB GDDR6/with M100 RGB Gaming Mouse/Onyx Black/2.2Kg), 81Y400VAIN',\n",
       " '(Renewed) Dell Inspiron 15 7000 7591 Laptop/Intel 9th Gen Ci7-9750H/15.6inch FHD/512GB SSD/16GB/NVIDIA GeForce GTX 1050 with 3GB GDDR5/Win 10 Home\\\\Integrated HD RGB Camera/',\n",
       " 'ASUS ZenBook Pro Duo Intel Core i9-10980HK 10th Gen 15.6\" 4K UHD OLED Touchscreen Laptop (32GB RAM/1TB NVMe SSD/Windows 10/6GB NVIDIA GeForce RTX 2060 Graphics/Celestial Blue/2.5 Kg), UX581LV-H2035T',\n",
       " '(Renewed) Dell Inspiron 7567 Laptop Intel Core i7-7700HQ|16GB DDR4|Windows 10 Home 1TB 128GB NVIDIA GeForce GTX 1050Ti 4GB GDDR5',\n",
       " 'HP 14 10th Gen Intel Core i7 Ultra Thin and Light FHD Laptop (i7-1065G7/8GB/512GB SSD/Win 10/MS Office 2019/Natural Silver/1.46 Kg), 14s-DR1010TU',\n",
       " 'Dell Alienware m15(R3) 15.6-inch FHD Gaming Laptop (10th Gen Core i7-10750H/16GB/512GB SSD/Windows 10 Home & MS Office/6GB NVIDIA GTX 1660 Ti Graphics), Lunar Light',\n",
       " 'ASUS ROG Strix GT15 10th Gen Intel Core i7-10700 Gaming Desktop (16GB RAM/1TB HDD + 512GB SSD/Windows 10/8GB NVIDIA GeForce RTX 2060 Super Graphics/with Keyboard & Mouse/Star Black), G15CK-IN030T',\n",
       " 'ASUS VivoBook Ultra 15 (2020) Intel Core i7-1165G7 11th Gen 15.6-inch FHD Thin and Light Laptop (8GB/512GB NVMe SSD/Integrated Graphics/Windows 10/MS Office 2019/Cobalt Blue/1.8 kg), X513EA-EJ731TS']"
      ]
     },
     "execution_count": 167,
     "metadata": {},
     "output_type": "execute_result"
    }
   ],
   "source": [
    "for i in brndT:\n",
    "   \n",
    "    Brand_Title.append(str(i.text).replace(\"\\n\",\"\"))\n",
    "Brand_Title"
   ]
  },
  {
   "cell_type": "code",
   "execution_count": 174,
   "metadata": {},
   "outputs": [
    {
     "data": {
      "text/plain": [
       "0"
      ]
     },
     "execution_count": 174,
     "metadata": {},
     "output_type": "execute_result"
    }
   ],
   "source": [
    "Lrt=driver1.find_elements_by_xpath(\"//span[@class='a-size-medium a-color-base a-text-beside-button a-text-bold']\")\n",
    "len(Lrt)"
   ]
  },
  {
   "cell_type": "code",
   "execution_count": 182,
   "metadata": {},
   "outputs": [
    {
     "data": {
      "text/plain": [
       "[]"
      ]
     },
     "execution_count": 182,
     "metadata": {},
     "output_type": "execute_result"
    }
   ],
   "source": [
    "for i in Lrt:\n",
    "   \n",
    "    Laptop_Rating.append(str(i.text).replace(\"\\n\",\"\"))\n",
    "Laptop_Rating=Laptop_Rating[0:10]\n",
    "Laptop_Rating"
   ]
  },
  {
   "cell_type": "code",
   "execution_count": 177,
   "metadata": {},
   "outputs": [
    {
     "data": {
      "text/plain": [
       "24"
      ]
     },
     "execution_count": 177,
     "metadata": {},
     "output_type": "execute_result"
    }
   ],
   "source": [
    "Lpr=driver1.find_elements_by_xpath(\"//span[@class='a-price-whole']\")\n",
    "len(Lpr)"
   ]
  },
  {
   "cell_type": "code",
   "execution_count": 178,
   "metadata": {},
   "outputs": [
    {
     "data": {
      "text/plain": [
       "['63,742',\n",
       " '54,915',\n",
       " '96,501',\n",
       " '70,990',\n",
       " '55,990',\n",
       " '74,990',\n",
       " '97,742',\n",
       " '1,12,691',\n",
       " '1,27,990',\n",
       " '74,697',\n",
       " '76,817',\n",
       " '55,990',\n",
       " '1,00,999',\n",
       " '56,990',\n",
       " '1,02,490',\n",
       " '54,990',\n",
       " '74,990',\n",
       " '79,490',\n",
       " '2,68,329',\n",
       " '83,999',\n",
       " '72,806',\n",
       " '1,97,200',\n",
       " '1,35,943',\n",
       " '72,999',\n",
       " '63,742',\n",
       " '54,915',\n",
       " '96,501',\n",
       " '70,990',\n",
       " '55,990',\n",
       " '74,990',\n",
       " '97,742',\n",
       " '1,12,691',\n",
       " '1,27,990',\n",
       " '74,697',\n",
       " '76,817',\n",
       " '55,990',\n",
       " '1,00,999',\n",
       " '56,990',\n",
       " '1,02,490',\n",
       " '54,990',\n",
       " '74,990',\n",
       " '79,490',\n",
       " '2,68,329',\n",
       " '83,999',\n",
       " '72,806',\n",
       " '1,97,200',\n",
       " '1,35,943',\n",
       " '72,999']"
      ]
     },
     "execution_count": 178,
     "metadata": {},
     "output_type": "execute_result"
    }
   ],
   "source": [
    "for i in Lpr:\n",
    "   \n",
    "    Laptop_Price.append(str(i.text).replace(\"\\n\",\"\"))\n",
    "Laptop_Price"
   ]
  },
  {
   "cell_type": "code",
   "execution_count": 183,
   "metadata": {},
   "outputs": [
    {
     "data": {
      "text/html": [
       "<div>\n",
       "<style scoped>\n",
       "    .dataframe tbody tr th:only-of-type {\n",
       "        vertical-align: middle;\n",
       "    }\n",
       "\n",
       "    .dataframe tbody tr th {\n",
       "        vertical-align: top;\n",
       "    }\n",
       "\n",
       "    .dataframe thead th {\n",
       "        text-align: right;\n",
       "    }\n",
       "</style>\n",
       "<table border=\"1\" class=\"dataframe\">\n",
       "  <thead>\n",
       "    <tr style=\"text-align: right;\">\n",
       "      <th></th>\n",
       "      <th>Brands</th>\n",
       "      <th>Product Price</th>\n",
       "    </tr>\n",
       "  </thead>\n",
       "  <tbody>\n",
       "    <tr>\n",
       "      <th>0</th>\n",
       "      <td>(Renewed) Lenovo IdeaPad Gaming 3i 10th Gen In...</td>\n",
       "      <td>63,742</td>\n",
       "    </tr>\n",
       "    <tr>\n",
       "      <th>1</th>\n",
       "      <td>Mi Notebook Horizon Edition 14 Intel Core i5-1...</td>\n",
       "      <td>54,915</td>\n",
       "    </tr>\n",
       "    <tr>\n",
       "      <th>2</th>\n",
       "      <td>Lenovo Yoga S740 Intel Core i7 10th Gen 14 inc...</td>\n",
       "      <td>96,501</td>\n",
       "    </tr>\n",
       "    <tr>\n",
       "      <th>3</th>\n",
       "      <td>MSI GF63 Thin Core i7 9th Gen - (8 GB/512 GB S...</td>\n",
       "      <td>70,990</td>\n",
       "    </tr>\n",
       "    <tr>\n",
       "      <th>4</th>\n",
       "      <td>(Renewed) MSI Prestige PE62 Core i7 7th Gen 15...</td>\n",
       "      <td>55,990</td>\n",
       "    </tr>\n",
       "    <tr>\n",
       "      <th>5</th>\n",
       "      <td>HP Pavilion x360 Touchscreen 2-in-1 FHD 14-inc...</td>\n",
       "      <td>74,990</td>\n",
       "    </tr>\n",
       "    <tr>\n",
       "      <th>6</th>\n",
       "      <td>(Renewed) Lenovo Yoga C940 Intel Core i7 10th ...</td>\n",
       "      <td>97,742</td>\n",
       "    </tr>\n",
       "    <tr>\n",
       "      <th>7</th>\n",
       "      <td>Microsoft Laptop 2 1769 13.5-inch Laptop (Inte...</td>\n",
       "      <td>1,12,691</td>\n",
       "    </tr>\n",
       "    <tr>\n",
       "      <th>8</th>\n",
       "      <td>Dell XPS 9570 15.6-inch FHD Laptop (8th Gen Co...</td>\n",
       "      <td>1,27,990</td>\n",
       "    </tr>\n",
       "    <tr>\n",
       "      <th>9</th>\n",
       "      <td>Dell Inspiron 5370 13.3-inch FHD Laptop (Core ...</td>\n",
       "      <td>74,697</td>\n",
       "    </tr>\n",
       "  </tbody>\n",
       "</table>\n",
       "</div>"
      ],
      "text/plain": [
       "                                              Brands Product Price\n",
       "0  (Renewed) Lenovo IdeaPad Gaming 3i 10th Gen In...        63,742\n",
       "1  Mi Notebook Horizon Edition 14 Intel Core i5-1...        54,915\n",
       "2  Lenovo Yoga S740 Intel Core i7 10th Gen 14 inc...        96,501\n",
       "3  MSI GF63 Thin Core i7 9th Gen - (8 GB/512 GB S...        70,990\n",
       "4  (Renewed) MSI Prestige PE62 Core i7 7th Gen 15...        55,990\n",
       "5  HP Pavilion x360 Touchscreen 2-in-1 FHD 14-inc...        74,990\n",
       "6  (Renewed) Lenovo Yoga C940 Intel Core i7 10th ...        97,742\n",
       "7  Microsoft Laptop 2 1769 13.5-inch Laptop (Inte...      1,12,691\n",
       "8  Dell XPS 9570 15.6-inch FHD Laptop (8th Gen Co...      1,27,990\n",
       "9  Dell Inspiron 5370 13.3-inch FHD Laptop (Core ...        74,697"
      ]
     },
     "execution_count": 183,
     "metadata": {},
     "output_type": "execute_result"
    }
   ],
   "source": [
    "laptop=pd.DataFrame([])\n",
    "laptop['Brands']=Brand_Title[:10]\n",
    "laptop['Product Price']=Laptop_Price[:10]\n",
    "#laptop['Products Rating']=Laptop_Rating[:10]\n",
    "\n",
    "laptop"
   ]
  },
  {
   "cell_type": "code",
   "execution_count": null,
   "metadata": {},
   "outputs": [],
   "source": []
  },
  {
   "cell_type": "code",
   "execution_count": null,
   "metadata": {},
   "outputs": [],
   "source": []
  }
 ],
 "metadata": {
  "kernelspec": {
   "display_name": "Python 3",
   "language": "python",
   "name": "python3"
  },
  "language_info": {
   "codemirror_mode": {
    "name": "ipython",
    "version": 3
   },
   "file_extension": ".py",
   "mimetype": "text/x-python",
   "name": "python",
   "nbconvert_exporter": "python",
   "pygments_lexer": "ipython3",
   "version": "3.8.3"
  }
 },
 "nbformat": 4,
 "nbformat_minor": 4
}
